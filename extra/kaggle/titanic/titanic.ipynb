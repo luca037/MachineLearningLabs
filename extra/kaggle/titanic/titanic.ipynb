{
 "cells": [
  {
   "cell_type": "markdown",
   "id": "40b48989-0e75-4a1c-96c8-4f9249bfffa9",
   "metadata": {},
   "source": [
    "# Titanic - Machine Learning from Disaster"
   ]
  },
  {
   "cell_type": "code",
   "execution_count": 3,
   "id": "64a9d6c5-aa13-4a87-af0c-1713f4a406a4",
   "metadata": {},
   "outputs": [],
   "source": [
    "import pandas as pd\n",
    "import numpy as np\n",
    "import matplotlib.pyplot as plt"
   ]
  },
  {
   "cell_type": "markdown",
   "id": "d54fead7-0ece-4b34-8bb3-3c368bdcf416",
   "metadata": {},
   "source": [
    "## Explore the dataframe"
   ]
  },
  {
   "cell_type": "code",
   "execution_count": 4,
   "id": "36145acc-9b38-4cfe-93a4-ed755b110d46",
   "metadata": {},
   "outputs": [
    {
     "name": "stdout",
     "output_type": "stream",
     "text": [
      "Dataset shape = (891, 10)\n",
      "         Survived      Pclass         Age       SibSp       Parch        Fare\n",
      "count  891.000000  891.000000  714.000000  891.000000  891.000000  891.000000\n",
      "mean     0.383838    2.308642   29.699118    0.523008    0.381594   32.204208\n",
      "std      0.486592    0.836071   14.526497    1.102743    0.806057   49.693429\n",
      "min      0.000000    1.000000    0.420000    0.000000    0.000000    0.000000\n",
      "25%      0.000000    2.000000   20.125000    0.000000    0.000000    7.910400\n",
      "50%      0.000000    3.000000   28.000000    0.000000    0.000000   14.454200\n",
      "75%      1.000000    3.000000   38.000000    1.000000    0.000000   31.000000\n",
      "max      1.000000    3.000000   80.000000    8.000000    6.000000  512.329200\n",
      "\n",
      "\n",
      "First 10 samples in the dataset:\n",
      "\n",
      "    Survived  Pclass     Sex   Age  SibSp  Parch            Ticket     Fare  \\\n",
      "0         0       3    male  22.0      1      0         A/5 21171   7.2500   \n",
      "1         1       1  female  38.0      1      0          PC 17599  71.2833   \n",
      "2         1       3  female  26.0      0      0  STON/O2. 3101282   7.9250   \n",
      "3         1       1  female  35.0      1      0            113803  53.1000   \n",
      "4         0       3    male  35.0      0      0            373450   8.0500   \n",
      "5         0       3    male   NaN      0      0            330877   8.4583   \n",
      "6         0       1    male  54.0      0      0             17463  51.8625   \n",
      "7         0       3    male   2.0      3      1            349909  21.0750   \n",
      "8         1       3  female  27.0      0      2            347742  11.1333   \n",
      "9         1       2  female  14.0      1      0            237736  30.0708   \n",
      "\n",
      "  Cabin Embarked  \n",
      "0   NaN        S  \n",
      "1   C85        C  \n",
      "2   NaN        S  \n",
      "3  C123        S  \n",
      "4   NaN        S  \n",
      "5   NaN        Q  \n",
      "6   E46        S  \n",
      "7   NaN        S  \n",
      "8   NaN        S  \n",
      "9   NaN        C  \n"
     ]
    }
   ],
   "source": [
    "# Data frame.\n",
    "df = pd.read_csv('train.csv', sep=',')\n",
    "\n",
    "# Drop id, name columns.\n",
    "df = df.drop(columns=[\"PassengerId\", \"Name\"], axis=1)\n",
    "\n",
    "print(\"Dataset shape =\", df.shape)\n",
    "print(df.describe())\n",
    "\n",
    "print(\"\\n\\nFirst 10 samples in the dataset:\\n\\n\", df.head(10))"
   ]
  },
  {
   "cell_type": "code",
   "execution_count": 5,
   "id": "b8bc4903-bc02-4847-a54b-2d87d794c89b",
   "metadata": {},
   "outputs": [
    {
     "name": "stdout",
     "output_type": "stream",
     "text": [
      "   Pclass            Ticket\n",
      "0       3         A/5 21171\n",
      "1       1          PC 17599\n",
      "2       3  STON/O2. 3101282\n",
      "3       1            113803\n",
      "4       3            373450\n",
      "5       3            330877\n",
      "6       1             17463\n",
      "7       3            349909\n",
      "8       3            347742\n",
      "9       2            237736\n",
      "\n",
      "0       16521171\n",
      "1    10014717599\n",
      "2     5463101282\n",
      "3      100113803\n",
      "4         373450\n",
      "5         330877\n",
      "6       10017463\n",
      "7         349909\n",
      "8         347742\n",
      "9       10237736\n",
      "dtype: int64\n"
     ]
    }
   ],
   "source": [
    "# Define a function to compute the sum of ASCII values of a string\n",
    "def ascii_sum(s):\n",
    "    return sum(ord(char) for char in str(s))\n",
    "\n",
    "def transform_ticket(pclass, ticket):\n",
    "    # Convert ticket to string and split into pieces\n",
    "    parts = str(ticket).split()\n",
    "    if len(parts) >= 2:\n",
    "        first_part, last_part = parts[0], parts[-1]\n",
    "    elif len(parts) == 1:\n",
    "        first_part, last_part = \"\", parts[0]\n",
    "    else:\n",
    "        return np.nan  # Handle empty or invalid cases\n",
    "    \n",
    "    # Convert the first part to a string of ASCII values\n",
    "    ascii_part = str(ascii_sum(first_part))\n",
    "    ascii_part = ascii_part if ascii_part != \"0\" else \"\"\n",
    "    \n",
    "    # Concatenate the ASCII part and the last part\n",
    "    new_value = ascii_part + last_part\n",
    "\n",
    "    if pclass == 1:\n",
    "        new_value = str(100) + new_value\n",
    "    elif pclass == 2:\n",
    "        new_value = str(10) + new_value\n",
    "    \n",
    "    # Return the integer value of the resulting string\n",
    "    try:\n",
    "        return int(new_value)\n",
    "    except ValueError:\n",
    "        return 0\n",
    "\n",
    "print(df[[\"Pclass\", \"Ticket\"]].head(10))\n",
    "print()\n",
    "print(df.apply(lambda row: transform_ticket(row[\"Pclass\"], row[\"Ticket\"]), axis=1).head(10))"
   ]
  },
  {
   "cell_type": "code",
   "execution_count": 6,
   "id": "42576e1f-f877-4728-bb76-87ed597bef39",
   "metadata": {},
   "outputs": [],
   "source": [
    "#df[\"Ticket\"] = df[\"Ticket\"].apply(transform_ticket)\n",
    "#df[\"Ticket\"] = df.apply(lambda row: transform_ticket(row[\"Pclass\"], row[\"Ticket\"]), axis=1)"
   ]
  },
  {
   "cell_type": "markdown",
   "id": "3a94247c-d733-45f8-ae75-011bb743ab22",
   "metadata": {},
   "source": [
    "## Which feature should we keep/which one should we remove?"
   ]
  },
  {
   "cell_type": "code",
   "execution_count": 7,
   "id": "c344ee50-1cdc-49c9-9d14-50443959228f",
   "metadata": {},
   "outputs": [
    {
     "name": "stdout",
     "output_type": "stream",
     "text": [
      "Tot missing cabin info: 687\n"
     ]
    }
   ],
   "source": [
    "# Drop the cabin clumn: too many missing values.\n",
    "print(\"Tot missing cabin info:\", df['Cabin'].isna().sum())\n",
    "df = df.drop(columns=[\"Cabin\"], axis=1)"
   ]
  },
  {
   "cell_type": "code",
   "execution_count": 11,
   "id": "26b9003a-e22a-43b6-ae96-6bfa32e2ccfd",
   "metadata": {},
   "outputs": [
    {
     "name": "stdout",
     "output_type": "stream",
     "text": [
      "Tot missing ticket info: 0\n"
     ]
    }
   ],
   "source": [
    "# Drop also the ticket.\n",
    "print(\"Tot missing ticket info:\", df['Ticket'].isna().sum())\n",
    "df = df.drop(columns=[\"Ticket\"], axis=1)"
   ]
  },
  {
   "cell_type": "code",
   "execution_count": 14,
   "id": "1409d76e-66f9-46d2-8c27-41b965852eee",
   "metadata": {},
   "outputs": [
    {
     "name": "stdout",
     "output_type": "stream",
     "text": [
      "Missing values for each column\n",
      "\n",
      "Survived      0\n",
      "Pclass        0\n",
      "Sex           0\n",
      "Age         177\n",
      "SibSp         0\n",
      "Parch         0\n",
      "Fare          0\n",
      "Embarked      2\n",
      "dtype: int64\n"
     ]
    }
   ],
   "source": [
    "# Missing values.\n",
    "print(\"Missing values for each column\\n\")\n",
    "print(df.isna().sum())"
   ]
  },
  {
   "cell_type": "code",
   "execution_count": 16,
   "id": "6000c9ce-fccc-4ff4-92ba-49134ec5b8c1",
   "metadata": {},
   "outputs": [
    {
     "name": "stdout",
     "output_type": "stream",
     "text": [
      "Survived    0\n",
      "Pclass      0\n",
      "Sex         0\n",
      "Age         0\n",
      "SibSp       0\n",
      "Parch       0\n",
      "Fare        0\n",
      "Embarked    0\n",
      "dtype: int64\n"
     ]
    }
   ],
   "source": [
    "# We need to manage missing data.\n",
    "\n",
    "# Fill missing ages with the median value.\n",
    "df['Age'] = df['Age'].fillna(df['Age'].median())\n",
    "\n",
    "# Fill missing Embarked values with 'S'.\n",
    "df['Embarked'] = df ['Embarked'].fillna('S')\n",
    "print(df.isna().sum())"
   ]
  },
  {
   "cell_type": "code",
   "execution_count": 17,
   "id": "51d7b92a-969c-46d7-9e36-541eba118d10",
   "metadata": {},
   "outputs": [
    {
     "name": "stdout",
     "output_type": "stream",
     "text": [
      "Tot number of samples: 714\n",
      "Features names: ['Pclass', 'Sex', 'Age', 'SibSp', 'Parch', 'Fare', 'Embarked']\n",
      "X shape: (714, 7)\n",
      "Y shape: (714,)\n"
     ]
    }
   ],
   "source": [
    "# Define X and Y sets.\n",
    "X = df.drop(columns=[\"Survived\"], axis=1)\n",
    "Y = df[\"Survived\"]\n",
    "\n",
    "print(\"Tot number of samples:\", X.shape[0])\n",
    "features_names = list(X.columns)\n",
    "print(\"Features names:\", features_names)\n",
    "\n",
    "X = X.values\n",
    "Y = Y.values\n",
    "print(\"X shape:\", X.shape)\n",
    "print(\"Y shape:\", Y.shape)"
   ]
  },
  {
   "cell_type": "markdown",
   "id": "d3ea45a0-69c7-46ef-81fc-70ffc68ba610",
   "metadata": {},
   "source": [
    "## Encode categorical variable"
   ]
  },
  {
   "cell_type": "code",
   "execution_count": 21,
   "id": "41f935b7-68a4-4b14-9109-6f8eb69356b4",
   "metadata": {},
   "outputs": [
    {
     "name": "stdout",
     "output_type": "stream",
     "text": [
      "Column Pclass (index: 0) -- data type: <class 'int'>\n",
      "Column Sex (index: 1) -- data type: <class 'float'>\n",
      "Column Age (index: 2) -- data type: <class 'float'>\n",
      "Column SibSp (index: 3) -- data type: <class 'int'>\n",
      "Column Parch (index: 4) -- data type: <class 'int'>\n",
      "Column Fare (index: 5) -- data type: <class 'float'>\n",
      "Column Embarked (index: 6) -- data type: <class 'float'>\n"
     ]
    }
   ],
   "source": [
    "# Print the data type of each column.\n",
    "for index_col, name_col in zip(range(X.shape[1]), features_names):\n",
    "    print(f\"Column {name_col} (index: {index_col}) -- data type: {type(X[0, index_col])}\")"
   ]
  },
  {
   "cell_type": "code",
   "execution_count": 22,
   "id": "9f3ccf10-1f2f-4052-99db-6b73c49ad544",
   "metadata": {},
   "outputs": [],
   "source": [
    "# Encode the categorical variables.\n",
    "from sklearn.preprocessing import OrdinalEncoder\n",
    "\n",
    "# Sex and Embarked columns need to be encoded.\n",
    "to_encode = [1, 6] \n",
    "\n",
    "# Define the encode and encode the specified columns.\n",
    "enc = OrdinalEncoder()\n",
    "X[:, to_encode] = enc.fit_transform(X[:, to_encode])"
   ]
  },
  {
   "cell_type": "code",
   "execution_count": 23,
   "id": "b299e244-cc90-48ee-bc29-4f9f6608b15f",
   "metadata": {},
   "outputs": [
    {
     "name": "stdout",
     "output_type": "stream",
     "text": [
      "Column Pclass (index: 0) -- data type: <class 'int'>\n",
      "Column Sex (index: 1) -- data type: <class 'float'>\n",
      "Column Age (index: 2) -- data type: <class 'float'>\n",
      "Column SibSp (index: 3) -- data type: <class 'int'>\n",
      "Column Parch (index: 4) -- data type: <class 'int'>\n",
      "Column Fare (index: 5) -- data type: <class 'float'>\n",
      "Column Embarked (index: 6) -- data type: <class 'float'>\n"
     ]
    }
   ],
   "source": [
    "# Print the data type of each column.\n",
    "for index_col, name_col in zip(range(X.shape[1]), features_names):\n",
    "    print(f\"Column {name_col} (index: {index_col}) -- data type: {type(X[0, index_col])}\")"
   ]
  },
  {
   "cell_type": "markdown",
   "id": "485c8fe2-879f-4422-8a06-6d669a26e454",
   "metadata": {},
   "source": [
    "## Split data into train/validation and test"
   ]
  },
  {
   "cell_type": "code",
   "execution_count": 25,
   "id": "302f4ce7-9076-4019-a15f-38160daa09c1",
   "metadata": {},
   "outputs": [
    {
     "name": "stdout",
     "output_type": "stream",
     "text": [
      "Amount of data for training set: 428\n",
      "Amount of data for validation set 143\n",
      "Amount of data for test set: 143\n"
     ]
    }
   ],
   "source": [
    "# Split data.\n",
    "m = X.shape[0]\n",
    "m_train = int(3./5. * m)\n",
    "m_val = int((m - m_train) / 2.)\n",
    "m_test = m - m_train - m_val\n",
    "\n",
    "print(\"Amount of data for training set:\", m_train)\n",
    "print(\"Amount of data for validation set\", m_val)\n",
    "print(\"Amount of data for test set:\", m_test)"
   ]
  },
  {
   "cell_type": "code",
   "execution_count": 26,
   "id": "2a0009fa-b807-4f2b-981f-5df8811d81e3",
   "metadata": {},
   "outputs": [
    {
     "name": "stdout",
     "output_type": "stream",
     "text": [
      "Training size: 428\n",
      "Validation size: 143\n",
      "Training and validation size: 571\n",
      "Test size: 143\n"
     ]
    }
   ],
   "source": [
    "from sklearn.model_selection import train_test_split\n",
    "\n",
    "# Transform all samples into vector of folat values.\n",
    "X = np.array(X, dtype=np.float32)\n",
    "\n",
    "# Split into train_val and test.\n",
    "X_train_val, X_test, Y_train_val, Y_test = train_test_split(X, Y, test_size=m_test/m, random_state=12)\n",
    "\n",
    "# Split into train and val.\n",
    "X_train, X_val, Y_train, Y_val = train_test_split(X_train_val, Y_train_val, test_size=m_val/(m_train + m_val), random_state=12)\n",
    "\n",
    "# Check size of sets.\n",
    "print(\"Training size:\", X_train.shape[0])\n",
    "print(\"Validation size:\", X_val.shape[0])\n",
    "print(\"Training and validation size:\", X_train_val.shape[0])\n",
    "print(\"Test size:\", X_test.shape[0])"
   ]
  },
  {
   "cell_type": "markdown",
   "id": "e728dbff-2748-40ae-b121-16eaf0ac8066",
   "metadata": {},
   "source": [
    "## Data Standardization"
   ]
  },
  {
   "cell_type": "code",
   "execution_count": 28,
   "id": "3b34c9df-c15e-409f-80b5-bbb143444dc8",
   "metadata": {},
   "outputs": [],
   "source": [
    "from sklearn.preprocessing import StandardScaler\n",
    "\n",
    "# Fare column need to be scaled.\n",
    "to_scale = [5]\n",
    "\n",
    "# Create a copy for each set.\n",
    "X_train_scaled = np.copy(X_train)\n",
    "X_test_scaled = np.copy(X_test)\n",
    "X_val_scaled = np.copy(X_val)\n",
    "X_train_val_scaled = np.copy(X_train_val)\n",
    "\n",
    "# Scale data.\n",
    "scaler = StandardScaler().fit(X_train[:, to_scale])\n",
    "X_train_scaled[:, to_scale] = scaler.transform(X_train[:, to_scale])\n",
    "X_test_scaled[:, to_scale] = scaler.transform(X_test[:, to_scale])\n",
    "X_val_scaled[:, to_scale] = scaler.transform(X_val[:, to_scale])\n",
    "X_train_val_scaled[:, to_scale] = scaler.transform(X_train_val[:, to_scale])"
   ]
  },
  {
   "cell_type": "code",
   "execution_count": 47,
   "id": "ca5b23ce-0f76-4f58-87dc-fabe6740bfa0",
   "metadata": {},
   "outputs": [],
   "source": [
    "from sklearn.model_selection import KFold\n",
    "from itertools import product\n",
    "\n",
    "def k_fold_cross_validation(X, Y, model_func, num_folds = 10, verbose=False, **param_grid):\n",
    "\n",
    "    # -- grid of hyperparams into list\n",
    "    param_keys = list(param_grid.keys())\n",
    "    param_values = list(param_grid.values())\n",
    "    \n",
    "    # Generate Cartesian product of values\n",
    "    combinations = product(*param_values)\n",
    "    \n",
    "    # Create a list of dictionaries from combinations\n",
    "    param_list = [dict(zip(param_keys, combination)) for combination in combinations]\n",
    "\n",
    "    kf = KFold(n_splits = num_folds)\n",
    "    \n",
    "    err_validation_kfold = np.zeros(len(param_list),)\n",
    "    err_training_kfold = np.zeros(len(param_list),)\n",
    "\n",
    "    for i, params in enumerate(param_list):\n",
    "\n",
    "        model = model_func(**params)\n",
    "\n",
    "        for train_index, validation_index in kf.split(X):\n",
    "            X_train_kfold, X_val_kfold = X[train_index], X[validation_index]\n",
    "            Y_train_kfold, Y_val_kfold = Y[train_index], Y[validation_index]\n",
    "            \n",
    "            # -- data scaling: standardize features with respect to the current folds\n",
    "            scaler_kfold = StandardScaler().fit(X_train_kfold)\n",
    "            X_train_kfold_scaled = scaler_kfold.transform(X_train_kfold)\n",
    "            X_val_kfold_scaled = scaler_kfold.transform(X_val_kfold)\n",
    "        \n",
    "            # -- learn the model using the training data from the k-fold\n",
    "            model.fit(X_train_kfold_scaled, Y_train_kfold)\n",
    "            \n",
    "            # -- incremental mean\n",
    "            err_training_kfold[i] += (1.0 - model.score(X_train_kfold_scaled, Y_train_kfold))\n",
    "            err_validation_kfold[i] += (1.0 - model.score(X_val_kfold_scaled, Y_val_kfold))\n",
    "\n",
    "    \n",
    "    # -- compute the mean\n",
    "    err_training_kfold /= num_folds\n",
    "    err_validation_kfold /= num_folds\n",
    "    \n",
    "    # -- choose the best paramter: the one that minimizes the (the estimation of the true) loss\n",
    "    best_param = param_list[np.argmin(err_validation_kfold)]\n",
    "\n",
    "    if verbose:\n",
    "        print(\"Optimal paramters:\", best_param)\n",
    "        print(\"Min validation error\", np.min(err_validation_kfold))\n",
    "    \n",
    "    return best_param, err_training_kfold, err_validation_kfold"
   ]
  },
  {
   "cell_type": "code",
   "execution_count": 48,
   "id": "4550cf99-3970-4cfe-97ef-d4bab9521815",
   "metadata": {},
   "outputs": [],
   "source": [
    "def plot_model_selection_curve(x, err_train, err_val, opt_x):\n",
    "    # Plot the training error.\n",
    "    plt.plot(x, err_train,  color='r', marker='x')\n",
    "    # Plot the validation error.\n",
    "    plt.plot(x, err_val,  color='b',  marker='x')\n",
    "    # Optimal point.\n",
    "    plt.scatter(opt_x,  np.min(err_val),  color='b',  marker='o',  linewidths=5)\n",
    "    plt.legend(['Train', 'Validation'])\n",
    "    plt.title('DecisionTree: choice of max_depth parameter')\n",
    "    plt.show()"
   ]
  },
  {
   "cell_type": "markdown",
   "id": "7ccfd53d-9ea2-4cfc-a39c-34cd9ce2d5bc",
   "metadata": {},
   "source": [
    "## Define the function that implement the k-cross fold validation"
   ]
  },
  {
   "cell_type": "markdown",
   "id": "f97324ce-843d-4e6a-9563-16b223de9ade",
   "metadata": {},
   "source": [
    "## Train best decision tree model"
   ]
  },
  {
   "cell_type": "code",
   "execution_count": 53,
   "id": "a9ca3050-6a13-46e8-81e6-2f43dc8765da",
   "metadata": {},
   "outputs": [
    {
     "name": "stdout",
     "output_type": "stream",
     "text": [
      "Optimal paramters: {'max_depth': 3, 'random_state': 12}\n",
      "Min validation error 0.22929125138427464\n"
     ]
    },
    {
     "data": {
      "image/png": "[encoded data removed]",
      "text/plain": [
       "<Figure size 640x480 with 1 Axes>"
      ]
     },
     "metadata": {},
     "output_type": "display_data"
    }
   ],
   "source": [
    "from sklearn.tree import DecisionTreeClassifier\n",
    "\n",
    "params = {\n",
    "    \"max_depth\": [v for v in range(1, 31)],\n",
    "    \"random_state\": [12]\n",
    "}\n",
    "opt_params, err_train, err_val = k_fold_cross_validation(X_train_scaled, Y_train, model_func=DecisionTreeClassifier, verbose=True, **params)\n",
    "plot_model_selection_curve(params[\"max_depth\"], err_train, err_val, opt_params[\"max_depth\"])"
   ]
  },
  {
   "cell_type": "code",
   "execution_count": 54,
   "id": "4b15a5ea-055d-40e0-b762-66d57377fe51",
   "metadata": {},
   "outputs": [
    {
     "name": "stdout",
     "output_type": "stream",
     "text": [
      "Training error: 0.20327102803738317\n"
     ]
    }
   ],
   "source": [
    "# Final model for decision tree.\n",
    "final_decision_tree = DecisionTreeClassifier(**opt_params)\n",
    "final_decision_tree.fit(X_train_scaled, Y_train)\n",
    "print(\"Training error:\", 1 - final_decision_tree.score(X_train_scaled, Y_train))"
   ]
  },
  {
   "cell_type": "code",
   "execution_count": 55,
   "id": "cff71c90-bdee-4038-a639-7ca08e04053a",
   "metadata": {},
   "outputs": [
    {
     "data": {
      "image/png": "[encoded data removed]",
      "text/plain": [
       "<Figure size 640x480 with 1 Axes>"
      ]
     },
     "metadata": {},
     "output_type": "display_data"
    }
   ],
   "source": [
    "# Plot the tree of the final model.\n",
    "from sklearn import tree\n",
    "\n",
    "plt.figure()\n",
    "tree.plot_tree(decision_tree=final_decision_tree,\n",
    "               feature_names=features_names, \n",
    "               filled=True)\n",
    "plt.show()"
   ]
  },
  {
   "cell_type": "markdown",
   "id": "3041c39e-0e46-4934-97d8-f0b9a4aa3266",
   "metadata": {},
   "source": [
    "## Train best random forset model"
   ]
  },
  {
   "cell_type": "code",
   "execution_count": 57,
   "id": "2a84cebb-fa21-4bd8-a827-2380caf0413c",
   "metadata": {},
   "outputs": [
    {
     "name": "stdout",
     "output_type": "stream",
     "text": [
      "Optimal paramters: {'max_depth': 8, 'random_state': 12}\n",
      "Min validation error 0.2104097452934662\n"
     ]
    },
    {
     "data": {
      "image/png": "[encoded data removed]",
      "text/plain": [
       "<Figure size 640x480 with 1 Axes>"
      ]
     },
     "metadata": {},
     "output_type": "display_data"
    }
   ],
   "source": [
    "from sklearn.ensemble import RandomForestClassifier\n",
    "\n",
    "# Find best value for max depth.\n",
    "params = {\n",
    "    \"max_depth\": [v for v in range(1, 31)], \n",
    "    \"random_state\": [12]\n",
    "}\n",
    "opt_params, err_train, err_val = k_fold_cross_validation(X_train_scaled, Y_train, model_func=RandomForestClassifier, verbose=True, **params)\n",
    "plot_model_selection_curve(params[\"max_depth\"], err_train, err_val, opt_params[\"max_depth\"])"
   ]
  },
  {
   "cell_type": "code",
   "execution_count": 58,
   "id": "6e7b6810-680d-4676-8d93-04a0d672c58f",
   "metadata": {},
   "outputs": [
    {
     "name": "stdout",
     "output_type": "stream",
     "text": [
      "Training error: 0.07009345794392519\n"
     ]
    }
   ],
   "source": [
    "# Final model for random forest.\n",
    "final_random_forest = RandomForestClassifier(**opt_params)\n",
    "final_random_forest.fit(X_train_scaled, Y_train)\n",
    "print(\"Training error:\", 1 - final_random_forest.score(X_train_scaled, Y_train))"
   ]
  },
  {
   "cell_type": "markdown",
   "id": "9d71d13c-5fe2-4535-9e5f-edcdea146c43",
   "metadata": {},
   "source": [
    "## Best model for SVM model: best model for different kernel functions"
   ]
  },
  {
   "cell_type": "code",
   "execution_count": 61,
   "id": "1c023a2f-cffb-4a66-924e-bc1897110de3",
   "metadata": {},
   "outputs": [
    {
     "name": "stdout",
     "output_type": "stream",
     "text": [
      "Optimal paramters: {'C': 1, 'kernel': 'linear', 'random_state': 12}\n",
      "Min validation error 0.23870431893687707\n"
     ]
    },
    {
     "data": {
      "image/png": "[encoded data removed]",
      "text/plain": [
       "<Figure size 640x480 with 1 Axes>"
      ]
     },
     "metadata": {},
     "output_type": "display_data"
    }
   ],
   "source": [
    "# Find the best SVM with linear kernel.\n",
    "from sklearn.svm import SVC\n",
    "\n",
    "params = {\n",
    "    \"C\": np.arange(1, 100, 5).tolist(),\n",
    "    \"kernel\": [\"linear\"],\n",
    "    \"random_state\": [12]\n",
    "}\n",
    "opt_params, err_train, err_val = k_fold_cross_validation(X_train_scaled, Y_train, model_func=SVC, verbose=True, **params)\n",
    "plot_model_selection_curve(params[\"C\"], err_train, err_val, opt_params[\"C\"])"
   ]
  },
  {
   "cell_type": "markdown",
   "id": "b51f8a38-eb72-42dc-b52e-349d80183089",
   "metadata": {},
   "source": [
    "Mmmh we're not learning anything... with linear kernel."
   ]
  },
  {
   "cell_type": "code",
   "execution_count": 62,
   "id": "6d177c0e-8ef4-498a-907b-766db38cc8ae",
   "metadata": {},
   "outputs": [
    {
     "name": "stdout",
     "output_type": "stream",
     "text": [
      "Training error: 0.23831775700934577\n"
     ]
    }
   ],
   "source": [
    "# Final model for lin svm.\n",
    "final_lin_svm = SVC(**opt_params)\n",
    "final_lin_svm.fit(X_train_scaled, Y_train)\n",
    "print(\"Training error:\", 1 - final_lin_svm.score(X_train_scaled, Y_train))"
   ]
  },
  {
   "cell_type": "code",
   "execution_count": 63,
   "id": "90fa3af5-b5c7-4226-9705-7f9c6dece7ae",
   "metadata": {},
   "outputs": [
    {
     "name": "stdout",
     "output_type": "stream",
     "text": [
      "Optimal paramters: {'C': 61, 'kernel': 'rbf', 'gamma': 0.01, 'random_state': 12}\n",
      "Min validation error 0.20830564784053157\n"
     ]
    }
   ],
   "source": [
    "# Train best rbf.\n",
    "params = {\n",
    "    \"C\": np.arange(1, 100, 5).tolist(),\n",
    "    \"kernel\": [\"rbf\"],\n",
    "    \"gamma\": [0.01, 0.03, 0.04, 0.05],\n",
    "    \"random_state\": [12]\n",
    "}\n",
    "opt_params, err_train, err_val = k_fold_cross_validation(X_train_scaled, Y_train, model_func=SVC, verbose=True, **params)"
   ]
  },
  {
   "cell_type": "code",
   "execution_count": 64,
   "id": "7f0260e9-5577-4ff0-aab1-4e796c60bb74",
   "metadata": {},
   "outputs": [
    {
     "ename": "NameError",
     "evalue": "name 'rbf_svm_err_train' is not defined",
     "output_type": "error",
     "traceback": [
      "\u001b[0;31m---------------------------------------------------------------------------\u001b[0m",
      "\u001b[0;31mNameError\u001b[0m                                 Traceback (most recent call last)",
      "Cell \u001b[0;32mIn[64], line 16\u001b[0m\n\u001b[1;32m     13\u001b[0m \u001b[38;5;28;01mfor\u001b[39;00m i \u001b[38;5;129;01min\u001b[39;00m \u001b[38;5;28mrange\u001b[39m(jump):\n\u001b[1;32m     14\u001b[0m     C_vals \u001b[38;5;241m=\u001b[39m [x[\u001b[38;5;124m\"\u001b[39m\u001b[38;5;124mC\u001b[39m\u001b[38;5;124m\"\u001b[39m] \u001b[38;5;28;01mfor\u001b[39;00m x \u001b[38;5;129;01min\u001b[39;00m param_list]\n\u001b[0;32m---> 16\u001b[0m     plt\u001b[38;5;241m.\u001b[39mplot(C_vals[i::jump], \u001b[43mrbf_svm_err_train\u001b[49m[i::jump], color\u001b[38;5;241m=\u001b[39m\u001b[38;5;124m'\u001b[39m\u001b[38;5;124mr\u001b[39m\u001b[38;5;124m'\u001b[39m, marker\u001b[38;5;241m=\u001b[39m\u001b[38;5;124m'\u001b[39m\u001b[38;5;124mx\u001b[39m\u001b[38;5;124m'\u001b[39m, label\u001b[38;5;241m=\u001b[39m\u001b[38;5;124mf\u001b[39m\u001b[38;5;124m\"\u001b[39m\u001b[38;5;124mTrain \u001b[39m\u001b[38;5;132;01m{\u001b[39;00mplots[\u001b[38;5;241m0\u001b[39m]\u001b[38;5;132;01m}\u001b[39;00m\u001b[38;5;124m \u001b[39m\u001b[38;5;132;01m{\u001b[39;00mplots[\u001b[38;5;241m1\u001b[39m][i]\u001b[38;5;132;01m}\u001b[39;00m\u001b[38;5;124m\"\u001b[39m)\n\u001b[1;32m     17\u001b[0m     plt\u001b[38;5;241m.\u001b[39mplot(C_vals[i::jump], rbf_svm_err_val[i::jump], color\u001b[38;5;241m=\u001b[39m\u001b[38;5;124m'\u001b[39m\u001b[38;5;124mb\u001b[39m\u001b[38;5;124m'\u001b[39m, marker\u001b[38;5;241m=\u001b[39m\u001b[38;5;124m'\u001b[39m\u001b[38;5;124mx\u001b[39m\u001b[38;5;124m'\u001b[39m, label\u001b[38;5;241m=\u001b[39m\u001b[38;5;124mf\u001b[39m\u001b[38;5;124m\"\u001b[39m\u001b[38;5;124mValidation \u001b[39m\u001b[38;5;132;01m{\u001b[39;00mplots[\u001b[38;5;241m0\u001b[39m]\u001b[38;5;132;01m}\u001b[39;00m\u001b[38;5;124m \u001b[39m\u001b[38;5;132;01m{\u001b[39;00mplots[\u001b[38;5;241m1\u001b[39m][i]\u001b[38;5;132;01m}\u001b[39;00m\u001b[38;5;124m\"\u001b[39m)\n\u001b[1;32m     19\u001b[0m     plt\u001b[38;5;241m.\u001b[39mscatter(opt_param[\u001b[38;5;124m\"\u001b[39m\u001b[38;5;124mC\u001b[39m\u001b[38;5;124m\"\u001b[39m], np\u001b[38;5;241m.\u001b[39mmin(rbf_svm_err_val), color\u001b[38;5;241m=\u001b[39m\u001b[38;5;124m'\u001b[39m\u001b[38;5;124mb\u001b[39m\u001b[38;5;124m'\u001b[39m, marker\u001b[38;5;241m=\u001b[39m\u001b[38;5;124m'\u001b[39m\u001b[38;5;124mo\u001b[39m\u001b[38;5;124m'\u001b[39m, linewidths\u001b[38;5;241m=\u001b[39m\u001b[38;5;241m5\u001b[39m, label\u001b[38;5;241m=\u001b[39m\u001b[38;5;124mf\u001b[39m\u001b[38;5;124m\"\u001b[39m\u001b[38;5;124mopt C = \u001b[39m\u001b[38;5;132;01m{\u001b[39;00mopt_param[\u001b[38;5;124m\"\u001b[39m\u001b[38;5;124mC\u001b[39m\u001b[38;5;124m\"\u001b[39m]\u001b[38;5;132;01m}\u001b[39;00m\u001b[38;5;124m\"\u001b[39m)\n",
      "\u001b[0;31mNameError\u001b[0m: name 'rbf_svm_err_train' is not defined"
     ]
    },
    {
     "data": {
      "text/plain": [
       "<Figure size 640x480 with 0 Axes>"
      ]
     },
     "metadata": {},
     "output_type": "display_data"
    }
   ],
   "source": [
    "plots = [\"gamma\", [0.01, 0.03, 0.04, 0.05]]\n",
    "jump = len(plots[1])\n",
    "\n",
    "# -- grid of hyperparams into list\n",
    "param_keys = list(params.keys())\n",
    "param_values = list(params.values())\n",
    "\n",
    "# Generate Cartesian product of values\n",
    "combinations = product(*param_values)\n",
    "param_list = [dict(zip(param_keys, combination)) for combination in combinations]\n",
    "\n",
    "plt.figure()\n",
    "for i in range(jump):\n",
    "    C_vals = [x[\"C\"] for x in param_list]\n",
    "    \n",
    "    plt.plot(C_vals[i::jump], rbf_svm_err_train[i::jump], color='r', marker='x', label=f\"Train {plots[0]} {plots[1][i]}\")\n",
    "    plt.plot(C_vals[i::jump], rbf_svm_err_val[i::jump], color='b', marker='x', label=f\"Validation {plots[0]} {plots[1][i]}\")\n",
    "    \n",
    "    plt.scatter(opt_param[\"C\"], np.min(rbf_svm_err_val), color='b', marker='o', linewidths=5, label=f\"opt C = {opt_param[\"C\"]}\")\n",
    "    plt.legend()\n",
    "    plt.xlabel('C')\n",
    "    plt.ylabel('Error')\n",
    "    plt.title('SVM: choice of C')\n",
    "    plt.show()\n",
    "    plt.close()"
   ]
  },
  {
   "cell_type": "code",
   "execution_count": 67,
   "id": "e2d3034c-5c1a-40e9-9161-74d3522b2411",
   "metadata": {},
   "outputs": [
    {
     "name": "stdout",
     "output_type": "stream",
     "text": [
      "Training error: 0.17523364485981308\n"
     ]
    }
   ],
   "source": [
    "# Final model for rbf svm.\n",
    "final_rbf_svm = SVC(**opt_params)\n",
    "final_rbf_svm.fit(X_train_scaled, Y_train)\n",
    "print(\"Training error:\", 1 - final_rbf_svm.score(X_train_scaled, Y_train))"
   ]
  },
  {
   "cell_type": "code",
   "execution_count": 34,
   "id": "86f735ba-56b9-48a8-90de-1c2f4be4eeaa",
   "metadata": {},
   "outputs": [
    {
     "name": "stdout",
     "output_type": "stream",
     "text": [
      "\n",
      "Best parameters: {'C': 6, 'kernel': 'sigmoid', 'gamma': 0.05, 'coef0': 3, 'random_state': 12}\n",
      "Min validation error (1 - R²): 0.1872117400419287\n"
     ]
    }
   ],
   "source": [
    "# Learn best model for sigmoid\n",
    "params = {\n",
    "    \"C\": np.arange(1, 100, 5).tolist(),\n",
    "    \"kernel\": [\"sigmoid\"],\n",
    "    \"gamma\": [0.01, 0.03, 0.04, 0.05],\n",
    "    \"coef0\": np.arange(0, 5, 1).tolist(),\n",
    "    \"random_state\": [12]\n",
    "}\n",
    "opt_param, sig_svm_err_train, sig_svm_err_val = k_fold_cross_validation(X_train_scaled, Y_train, model_func=SVC, **params)\n",
    "print(\"\\nBest parameters:\", opt_param)\n",
    "print(\"Min validation error (1 - R²):\", np.min(sig_svm_err_val))"
   ]
  },
  {
   "cell_type": "code",
   "execution_count": 35,
   "id": "043c67b7-e18a-475f-bc1f-041b931c77ea",
   "metadata": {},
   "outputs": [
    {
     "name": "stdout",
     "output_type": "stream",
     "text": [
      "1 - R² on training data: 0.36329588014981273\n"
     ]
    }
   ],
   "source": [
    "# Train best model for sigmoid kernel.\n",
    "final_sig_svm = SVC(**opt_param)\n",
    "final_sig_svm.fit(X_train_scaled, Y_train)\n",
    "print(\"1 - R² on training data:\", 1 - final_sig_svm.score(X_train_scaled, Y_train))"
   ]
  },
  {
   "cell_type": "code",
   "execution_count": 36,
   "id": "813eacaa-2944-4bb8-87ce-a4dceebb4451",
   "metadata": {},
   "outputs": [
    {
     "name": "stdout",
     "output_type": "stream",
     "text": [
      "\n",
      "Best parameters: {'C': 76, 'kernel': 'poly', 'degree': 2, 'gamma': 0.05, 'coef0': 0, 'random_state': 12}\n",
      "Min validation error (1 - R²): 0.17236198462613556\n"
     ]
    }
   ],
   "source": [
    "# Best params for poly kernel.\n",
    "params = {\n",
    "    \"C\": np.arange(1, 100, 5).tolist(),\n",
    "    \"kernel\": [\"poly\"],\n",
    "    \"degree\": [2, 3, 4],\n",
    "    \"gamma\": [0.01, 0.03, 0.04, 0.05],\n",
    "    \"coef0\": np.arange(0, 1, 1).tolist(),\n",
    "    \"random_state\": [12]\n",
    "}\n",
    "opt_param, poly_svm_err_train, poly_svm_err_val = k_fold_cross_validation(X_train_scaled, Y_train, model_func=SVC, **params)\n",
    "print(\"\\nBest parameters:\", opt_param)\n",
    "print(\"Min validation error (1 - R²):\", np.min(poly_svm_err_val))"
   ]
  },
  {
   "cell_type": "code",
   "execution_count": 37,
   "id": "c235f108-ee3b-40fa-9f66-255c7cd5fff3",
   "metadata": {},
   "outputs": [
    {
     "name": "stdout",
     "output_type": "stream",
     "text": [
      "1 - R² on training data: 0.1460674157303371\n"
     ]
    }
   ],
   "source": [
    "# Train best model for poly kernel.\n",
    "final_poly_svm = SVC(**opt_param)\n",
    "final_poly_svm.fit(X_train_scaled, Y_train)\n",
    "print(\"1 - R² on training data:\", 1 - final_poly_svm.score(X_train_scaled, Y_train))"
   ]
  },
  {
   "cell_type": "markdown",
   "id": "716598ae-33d5-4c1f-bfda-3215dec7bcca",
   "metadata": {},
   "source": [
    "## Deep Neural Network"
   ]
  },
  {
   "cell_type": "markdown",
   "id": "ae6b257c-14ba-4050-9b5a-74434383cbaf",
   "metadata": {},
   "source": [
    "I'm not good in feature engineering, so... let the network learn the features!"
   ]
  },
  {
   "cell_type": "code",
   "execution_count": 38,
   "id": "19d7f768-ceac-4ebb-89a4-becc60368e44",
   "metadata": {},
   "outputs": [],
   "source": [
    "import torch\n",
    "import torch.nn as nn"
   ]
  },
  {
   "cell_type": "code",
   "execution_count": 39,
   "id": "1225dc32-c827-477f-95f3-1221095016b9",
   "metadata": {},
   "outputs": [
    {
     "name": "stdout",
     "output_type": "stream",
     "text": [
      "device: cuda\n"
     ]
    }
   ],
   "source": [
    "batch_size = 5\n",
    "learning_rate = 0.001\n",
    "\n",
    "device = torch.device('cuda' if torch.cuda.is_available() else 'cpu')\n",
    "print(\"device:\", device)"
   ]
  },
  {
   "cell_type": "code",
   "execution_count": 40,
   "id": "59591184-d73d-4c6b-a3a1-e080c3b71aba",
   "metadata": {},
   "outputs": [],
   "source": [
    "class MyDataset(torch.utils.data.Dataset):\n",
    "    def __init__(self, X, Y):\n",
    "        self.features = X\n",
    "        self.labels = Y\n",
    "        \n",
    "    def __len__(self):\n",
    "        return len(self.features)\n",
    "\n",
    "    def __getitem__(self, idx):\n",
    "        features = torch.tensor(self.features[idx], dtype=torch.float32)\n",
    "        labels = torch.tensor(self.labels[idx], dtype=torch.float32)\n",
    "        return features, labels"
   ]
  },
  {
   "cell_type": "code",
   "execution_count": 41,
   "id": "97e14135-252d-4eda-934c-0a8989c970c0",
   "metadata": {},
   "outputs": [],
   "source": [
    "# Define a simple NN.\n",
    "class NN(nn.Module):\n",
    "    def __init__(self, layers):\n",
    "        super(NN, self).__init__()\n",
    "        torch.manual_seed(12)\n",
    "\n",
    "        # Define the structure.\n",
    "        self.layers = nn.ModuleList()\n",
    "        self.actfunc = nn.ReLU() # Acivaction function.\n",
    "\n",
    "        for i in range(1, len(layers)):\n",
    "            self.layers.append(nn.Linear(layers[i-1], layers[i]))\n",
    "        self.layers.append(nn.Linear(layers[-1], 1)) # Last layer\n",
    "\n",
    "    def forward(self, x):\n",
    "        out = x\n",
    "        for i, layer in enumerate(self.layers):\n",
    "            out = layer(out)\n",
    "            if i < len(self.layers) - 1:\n",
    "                out = self.actfunc(out)\n",
    "        out = torch.sigmoid(out)\n",
    "        return out\n",
    "        \n",
    "\n",
    "    def fit(self, X, Y, epochs=10, batch_size=5, learning_rate=0.001):\n",
    "        device = torch.device('cuda' if torch.cuda.is_available() else 'cpu')\n",
    "        \n",
    "        # Crate dataset and dataloader.\n",
    "        train_ds= MyDataset(X, Y)\n",
    "        train_loader = torch.utils.data.DataLoader(dataset=train_ds, batch_size=batch_size, shuffle=True)\n",
    "\n",
    "        # Function cost.\n",
    "        cost = nn.BCELoss()\n",
    "        # Optimizier used.\n",
    "        optimizer = torch.optim.Adam(self.parameters(), lr=0.001)\n",
    "\n",
    "        # Train the model.\n",
    "        for _ in range(epochs):\n",
    "            for i, (x, y) in enumerate(train_loader):\n",
    "                x = x.to(device)\n",
    "                y = y.to(device)\n",
    "        \n",
    "                # Forward pass: make the prediction.\n",
    "                outputs = self(x).squeeze(1) # Get predictions.\n",
    "        \n",
    "                loss = cost(outputs, y) # Compute the costs.\n",
    "        \n",
    "                # Backward and optimize\n",
    "                optimizer.zero_grad() # Compute the gradient for current batch.\n",
    "                loss.backward() # Compute back propagation (sensitivity vec)\n",
    "                optimizer.step() # Update the weights.\n",
    "\n",
    "    \n",
    "    def score(self, X, Y, batch_size=5):\n",
    "        device = torch.device('cuda' if torch.cuda.is_available() else 'cpu')\n",
    "\n",
    "        # Crate dataset and dataloader.\n",
    "        train_ds= MyDataset(X, Y)\n",
    "        train_loader = torch.utils.data.DataLoader(dataset=train_ds, batch_size=batch_size, shuffle=True)\n",
    "        \n",
    "        with torch.no_grad(): # Do not compute gradients.\n",
    "            correct = 0\n",
    "            total = 0\n",
    "            for x, y in train_loader:\n",
    "                # Move data to GPU.\n",
    "                x = x.to(device)\n",
    "                y = y.to(device)\n",
    "        \n",
    "                # Predict output.\n",
    "                outputs = self(x).squeeze(1)\n",
    "                outputs = (outputs >= 0.5).float()\n",
    "                \n",
    "                # Check if prediction is correct.\n",
    "                total += y.size(0)\n",
    "                correct += (outputs == y).sum().item()\n",
    "            return correct / total"
   ]
  },
  {
   "cell_type": "code",
   "execution_count": 42,
   "id": "d80dd824-30f4-4753-a235-b815a8f160d6",
   "metadata": {},
   "outputs": [
    {
     "name": "stdout",
     "output_type": "stream",
     "text": [
      "NN structure:\n",
      " NN(\n",
      "  (layers): ModuleList(\n",
      "    (0): Linear(in_features=7, out_features=4, bias=True)\n",
      "    (1-2): 2 x Linear(in_features=4, out_features=4, bias=True)\n",
      "    (3): Linear(in_features=4, out_features=1, bias=True)\n",
      "  )\n",
      "  (actfunc): ReLU()\n",
      ")\n"
     ]
    }
   ],
   "source": [
    "# Define a simple neural network.\n",
    "layers = {\"layers\": [len(features_names), 4, 4, 4]}\n",
    "nn_model = NN(**layers).to(device)\n",
    "print(\"NN structure:\\n\", nn_model)"
   ]
  },
  {
   "cell_type": "code",
   "execution_count": 43,
   "id": "62d477f7-05fd-4868-a1a7-76b8e9eaef6c",
   "metadata": {},
   "outputs": [
    {
     "name": "stdout",
     "output_type": "stream",
     "text": [
      "Training error: 0.20037453183520604\n",
      "Validation error: 0.2528089887640449\n"
     ]
    }
   ],
   "source": [
    "nn_model.fit(X_train_scaled, Y_train, epochs=10, batch_size=1)\n",
    "print(\"Training error:\", 1 - nn_model.score(X_train_scaled, Y_train, batch_size=1))\n",
    "print(\"Validation error:\", 1 - nn_model.score(X_val_scaled, Y_val, batch_size=1))"
   ]
  },
  {
   "cell_type": "code",
   "execution_count": 44,
   "id": "48286435-07d0-4d53-b20e-259db2e43ec4",
   "metadata": {},
   "outputs": [],
   "source": [
    "def k_fold_cross_validation_nn(X, Y, num_folds = 5, batch_size = 1, epochs = 10, **param_grid):\n",
    "\n",
    "    # -- grid of hyperparams into list\n",
    "    param_keys = list(param_grid.keys())\n",
    "    param_values = list(param_grid.values())\n",
    "    \n",
    "    # Generate Cartesian product of values\n",
    "    combinations = product(*param_values)\n",
    "    \n",
    "    # Create a list of dictionaries from combinations\n",
    "    param_list = [dict(zip(param_keys, combination)) for combination in combinations]\n",
    "\n",
    "    kf = KFold(n_splits = num_folds)\n",
    "    \n",
    "    err_validation_kfold = np.zeros(len(param_list),)\n",
    "    err_training_kfold = np.zeros(len(param_list),)\n",
    "\n",
    "    for i, params in enumerate(param_list):\n",
    "\n",
    "        model = NN(**params).to(device)\n",
    "\n",
    "        for train_index, validation_index in kf.split(X):\n",
    "            X_train_kfold, X_val_kfold = X[train_index], X[validation_index]\n",
    "            Y_train_kfold, Y_val_kfold = Y[train_index], Y[validation_index]\n",
    "            \n",
    "            # -- data scaling: standardize features with respect to the current folds\n",
    "            scaler_kfold = StandardScaler().fit(X_train_kfold)\n",
    "            X_train_kfold_scaled = scaler_kfold.transform(X_train_kfold)\n",
    "            X_val_kfold_scaled = scaler_kfold.transform(X_val_kfold)\n",
    "\n",
    "            model.fit(X_train_kfold_scaled, Y_train_kfold, epochs=epochs, batch_size=batch_size)\n",
    "        \n",
    "            # -- incremental mean\n",
    "            err_training_kfold[i] += (1.0 - model.score(X_train_kfold_scaled, Y_train_kfold))\n",
    "            err_validation_kfold[i] += (1.0 - model.score(X_val_kfold_scaled, Y_val_kfold))\n",
    "\n",
    "    \n",
    "    # -- compute the mean\n",
    "    err_training_kfold /= num_folds\n",
    "    err_validation_kfold /= num_folds\n",
    "    \n",
    "    # -- choose the best paramter: the one that minimizes the (the estimation of the true) loss\n",
    "    best_param = param_list[np.argmin(err_validation_kfold)]\n",
    "\n",
    "    return best_param, err_training_kfold, err_validation_kfold"
   ]
  },
  {
   "cell_type": "code",
   "execution_count": 45,
   "id": "fd61ee8e-f1bd-4d25-a2ca-017f1824257a",
   "metadata": {},
   "outputs": [
    {
     "name": "stdout",
     "output_type": "stream",
     "text": [
      "Optimal layers: {'layers': [7, 12]}\n",
      "Min validation error (1 - R²): 0.159213542585082\n"
     ]
    }
   ],
   "source": [
    "in_layer = len(features_names)\n",
    "params = {\n",
    "    \"layers\": [[in_layer, x] for x in range(1, 15)]\n",
    "}\n",
    "opt_layers, nn_err_train, nn_err_val = k_fold_cross_validation_nn(X_train_scaled, Y_train, **params)\n",
    "print(\"Optimal layers:\", opt_layers)\n",
    "print(\"Min validation error (1 - R²):\", np.min(nn_err_val))"
   ]
  },
  {
   "cell_type": "code",
   "execution_count": 46,
   "id": "e1c89265-d099-494b-93ed-63d3880ca124",
   "metadata": {},
   "outputs": [
    {
     "data": {
      "image/png": "[encoded data removed]",
      "text/plain": [
       "<Figure size 640x480 with 1 Axes>"
      ]
     },
     "metadata": {},
     "output_type": "display_data"
    }
   ],
   "source": [
    "# -- plot the training error\n",
    "plt.plot(range(1, 15),\n",
    "         nn_err_train, \n",
    "         color='r', \n",
    "         marker='x')\n",
    "\n",
    "# -- plot the validation error\n",
    "plt.plot(range(1, 15),\n",
    "         nn_err_val, \n",
    "         color='b', \n",
    "         marker='x')\n",
    "\n",
    "# -- highlight min loss\n",
    "plt.scatter(opt_layers[\"layers\"][1], \n",
    "            np.min(nn_err_val), \n",
    "            color='b', \n",
    "            marker='o', \n",
    "            linewidths=5)\n",
    "\n",
    "plt.legend(['Train', 'Validation'])\n",
    "plt.ylabel('Error')\n",
    "plt.show()"
   ]
  },
  {
   "cell_type": "code",
   "execution_count": 47,
   "id": "c327ccd0-9475-49b9-a6a9-600b619ea317",
   "metadata": {},
   "outputs": [
    {
     "name": "stdout",
     "output_type": "stream",
     "text": [
      "Training error: 0.1460674157303371\n"
     ]
    }
   ],
   "source": [
    "# Final model for NN with only one hidden layer.\n",
    "final_nn_1h = NN(**opt_layers).to(device)\n",
    "final_nn_1h.fit(X_train_scaled, Y_train, epochs=500, batch_size=1)\n",
    "print(\"Training error:\", 1 - final_nn_1h.score(X_train_scaled, Y_train, batch_size=1))"
   ]
  },
  {
   "cell_type": "code",
   "execution_count": 48,
   "id": "a9153cfa-e702-4d13-bfce-5a05d2085240",
   "metadata": {},
   "outputs": [
    {
     "name": "stdout",
     "output_type": "stream",
     "text": [
      "Optimal layers: {'layers': [7, 11, 11, 11]}\n",
      "Min validation error (1 - R²): 0.159213542585082\n"
     ]
    }
   ],
   "source": [
    "# Neural network with 3 hidden layers.\n",
    "params = {\n",
    "    \"layers\": [[in_layer, x, x, x] for x in range(1, 15)]\n",
    "}\n",
    "opt_layers, nn3_err_train, nn3_err_val = k_fold_cross_validation_nn(X_train_scaled, Y_train, **params)\n",
    "print(\"Optimal layers:\", opt_layers)\n",
    "print(\"Min validation error (1 - R²):\", np.min(nn_err_val))"
   ]
  },
  {
   "cell_type": "code",
   "execution_count": 49,
   "id": "28c4bf16-f0a8-4991-93a6-97db8320d3e3",
   "metadata": {},
   "outputs": [
    {
     "data": {
      "image/png": "[encoded data removed]",
      "text/plain": [
       "<Figure size 640x480 with 1 Axes>"
      ]
     },
     "metadata": {},
     "output_type": "display_data"
    }
   ],
   "source": [
    "# -- plot the training error\n",
    "plt.plot(range(1, 15),\n",
    "         nn3_err_train, \n",
    "         color='r', \n",
    "         marker='x')\n",
    "\n",
    "# -- plot the validation error\n",
    "plt.plot(range(1, 15),\n",
    "         nn3_err_val, \n",
    "         color='b', \n",
    "         marker='x')\n",
    "\n",
    "# -- highlight min loss\n",
    "plt.scatter(np.argmin(nn3_err_val) + 1,\n",
    "            np.min(nn3_err_val), \n",
    "            color='b', \n",
    "            marker='o', \n",
    "            linewidths=5)\n",
    "\n",
    "plt.legend(['Train', 'Validation'])\n",
    "plt.ylabel('Error')\n",
    "plt.show()"
   ]
  },
  {
   "cell_type": "code",
   "execution_count": 50,
   "id": "9be4e654-3774-4406-a719-a312ccf72ed5",
   "metadata": {},
   "outputs": [
    {
     "name": "stdout",
     "output_type": "stream",
     "text": [
      "Training error: 0.1235955056179775\n"
     ]
    }
   ],
   "source": [
    "# Final model for NN with 3 hidden layer (with same size).\n",
    "final_nn_3h = NN(**opt_layers).to(device)\n",
    "final_nn_3h.fit(X_train_scaled, Y_train, epochs=500, batch_size=1)\n",
    "print(\"Training error:\", 1 - final_nn_3h.score(X_train_scaled, Y_train, batch_size=1))"
   ]
  },
  {
   "cell_type": "markdown",
   "id": "e8d9eb2a-764d-4602-ba34-69e1a54377c2",
   "metadata": {},
   "source": [
    "## Compare final models using validation set"
   ]
  },
  {
   "cell_type": "code",
   "execution_count": 51,
   "id": "2dab93d4-abb9-42da-9b05-123f786ca84c",
   "metadata": {},
   "outputs": [
    {
     "name": "stdout",
     "output_type": "stream",
     "text": [
      "Validation error decision tree: 0.1629213483146067\n",
      "Validation error decision tree: 0.1741573033707865\n",
      "Validation error linear svm: 0.2415730337078652\n",
      "Validation error rbf svm: 0.2078651685393258\n",
      "Validation error sigmoid svm: 0.3876404494382022\n",
      "Validation error poly svm 0.202247191011236\n",
      "Validation error nn 1h 0.2191011235955056\n",
      "Validation error nn 3h 0.2134831460674157\n",
      "\n",
      "Best model: decision tree\n"
     ]
    }
   ],
   "source": [
    "val_errors = {}\n",
    "\n",
    "val_errors[\"decision tree\"] = 1 - final_decision_tree.score(X_val_scaled, Y_val)\n",
    "print(\"Validation error decision tree:\", val_errors[\"decision tree\"])\n",
    "\n",
    "val_errors[\"random forest\"] = 1 - final_random_forest.score(X_val_scaled, Y_val)\n",
    "print(\"Validation error random forest:\", val_errors[\"random forest\"])\n",
    "\n",
    "val_errors[\"lin svm\"] = 1 - final_lin_svm.score(X_val_scaled, Y_val)\n",
    "print(\"Validation error linear svm:\", val_errors[\"lin svm\"])\n",
    "\n",
    "val_errors[\"rbf svm\"] = 1 - final_rbf_svm.score(X_val_scaled, Y_val)\n",
    "print(\"Validation error rbf svm:\", val_errors[\"rbf svm\"])\n",
    "\n",
    "val_errors[\"sig svm\"] = 1 - final_sig_svm.score(X_val_scaled, Y_val)\n",
    "print(\"Validation error sigmoid svm:\", val_errors[\"sig svm\"])\n",
    "\n",
    "val_errors[\"poly svm\"] = 1 - final_poly_svm.score(X_val_scaled, Y_val)\n",
    "print(\"Validation error poly svm\", val_errors[\"poly svm\"])\n",
    "\n",
    "val_errors[\"nn 1h\"] = 1 - final_nn_1h.score(X_val_scaled, Y_val)\n",
    "print(\"Validation error nn 1h\", val_errors[\"nn 1h\"])\n",
    "\n",
    "val_errors[\"nn 3h\"] = 1 - final_nn_3h.score(X_val_scaled, Y_val)\n",
    "print(\"Validation error nn 3h\", val_errors[\"nn 3h\"])\n",
    "\n",
    "best_model_name = min(val_errors, key=val_errors.get)\n",
    "print(\"\\nBest model:\", best_model_name)"
   ]
  },
  {
   "cell_type": "markdown",
   "id": "998f3721-9741-493b-96d6-9a72d29f6bec",
   "metadata": {},
   "source": [
    "## Final best model"
   ]
  },
  {
   "cell_type": "code",
   "execution_count": 52,
   "id": "b8fc55aa-c1dc-43ac-acbe-02f63ffd92b3",
   "metadata": {},
   "outputs": [
    {
     "name": "stdout",
     "output_type": "stream",
     "text": [
      "decision tree\n",
      "0.2178770949720671\n"
     ]
    }
   ],
   "source": [
    "final_model = None\n",
    "if best_model_name == \"decision tree\":\n",
    "    final_model = final_decision_tree\n",
    "elif best_model_name == \"random forest\":\n",
    "    final_model = final_random_forest\n",
    "elif best_model_name == \"rbf svm\":\n",
    "    final_model = final_rbf_svm\n",
    "elif best_model_name == \"sig svm\":\n",
    "    final_model = final_sig_svm\n",
    "elif best_model_name == \"lin svm\":\n",
    "    final_model = final_lin_svm\n",
    "elif best_model_name == \"poly svm\":\n",
    "    final_model = final_poly_svm\n",
    "elif best_model_name == \"nn 1h\":\n",
    "    final_model = final_nn_1h\n",
    "elif best_model_name == \"nn 3h\":\n",
    "    final_model = final_nn_3h\n",
    "\n",
    "print(best_model_name)\n",
    "final_model.fit(X_train_val_scaled, Y_train_val)\n",
    "print(1 - final_model.score(X_test_scaled, Y_test))"
   ]
  },
  {
   "cell_type": "markdown",
   "id": "f00f607d-8a9f-40c5-9b7d-f9e8c11d4ce7",
   "metadata": {},
   "source": [
    "## Predictions on test set"
   ]
  },
  {
   "cell_type": "code",
   "execution_count": 53,
   "id": "0f4bea4d-56b6-4f9b-9800-c42ec7383c4d",
   "metadata": {},
   "outputs": [
    {
     "name": "stdout",
     "output_type": "stream",
     "text": [
      "PassengerId    0\n",
      "Pclass         0\n",
      "Sex            0\n",
      "Age            0\n",
      "SibSp          0\n",
      "Parch          0\n",
      "Fare           0\n",
      "Embarked       0\n",
      "dtype: int64\n",
      "     Pclass     Sex   Age  SibSp  Parch      Fare Embarked\n",
      "0         3    male  34.5      0      0    7.8292        Q\n",
      "1         3  female  47.0      1      0    7.0000        S\n",
      "2         2    male  62.0      0      0    9.6875        Q\n",
      "3         3    male  27.0      0      0    8.6625        S\n",
      "4         3  female  22.0      1      1   12.2875        S\n",
      "..      ...     ...   ...    ...    ...       ...      ...\n",
      "413       3    male  21.0      0      0    8.0500        S\n",
      "414       1  female  39.0      0      0  108.9000        C\n",
      "415       3    male  38.5      0      0    7.2500        S\n",
      "416       3    male  21.0      0      0    8.0500        S\n",
      "417       3    male  21.0      1      1   22.3583        C\n",
      "\n",
      "[418 rows x 7 columns]\n"
     ]
    }
   ],
   "source": [
    "df = pd.read_csv('test.csv', sep=',')\n",
    "\n",
    "# Drop id, name columns.\n",
    "df = df.drop(columns=[\"Name\", \"Cabin\", \"Ticket\"], axis=1)\n",
    "\n",
    "df['Fare'] = df['Fare'].fillna(df['Fare'].mean())\n",
    "#df['Age'] = df['Age'].fillna(df['Age'].mean())\n",
    "df['Age'] = df['Age'].fillna(df['Age'].mode().iloc[0])\n",
    "\n",
    "print(df.isna().sum())\n",
    "df = df.dropna()\n",
    "\n",
    "X_test = df[features_names]\n",
    "print(X_test)\n",
    "\n",
    "X_test = np.array(X_test)\n",
    "\n",
    "X_test[:, encode_cols] = enc.fit_transform(X_test[:, encode_cols])\n",
    "X_test[:, cont_var_col] = scaler.transform(X_test[:, cont_var_col])\n",
    "\n",
    "X_test = np.array(X_test, dtype=np.float32)"
   ]
  },
  {
   "cell_type": "code",
   "execution_count": 54,
   "id": "f17991fb-fb6f-4eb9-a951-d0c22087f40e",
   "metadata": {},
   "outputs": [
    {
     "name": "stdout",
     "output_type": "stream",
     "text": [
      "Your submission was successfully saved!\n"
     ]
    }
   ],
   "source": [
    "# Get predictions.\n",
    "predictions = final_model.predict(X_test)\n",
    "\n",
    "# Save predictions.\n",
    "output = pd.DataFrame({'PassengerId': df.PassengerId, 'Survived': predictions}) \n",
    "output.to_csv('submission.csv', index=False)\n",
    "print(\"Your submission was successfully saved!\")"
   ]
  },
  {
   "cell_type": "code",
   "execution_count": null,
   "id": "51b5f81c-3440-4bad-b6b4-9bccd4dd5617",
   "metadata": {},
   "outputs": [],
   "source": []
  }
 ],
 "metadata": {
  "kernelspec": {
   "display_name": "Python 3 (ipykernel)",
   "language": "python",
   "name": "python3"
  },
  "language_info": {
   "codemirror_mode": {
    "name": "ipython",
    "version": 3
   },
   "file_extension": ".py",
   "mimetype": "text/x-python",
   "name": "python",
   "nbconvert_exporter": "python",
   "pygments_lexer": "ipython3",
   "version": "3.13.1"
  }
 },
 "nbformat": 4,
 "nbformat_minor": 5
}
