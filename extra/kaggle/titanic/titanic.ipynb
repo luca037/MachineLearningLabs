{
 "cells": [
  {
   "cell_type": "markdown",
   "id": "40b48989-0e75-4a1c-96c8-4f9249bfffa9",
   "metadata": {},
   "source": [
    "# Titanic - Machine Learning from Disaster"
   ]
  },
  {
   "cell_type": "code",
   "execution_count": 1,
   "id": "64a9d6c5-aa13-4a87-af0c-1713f4a406a4",
   "metadata": {},
   "outputs": [],
   "source": [
    "import pandas as pd\n",
    "import numpy as np\n",
    "import matplotlib.pyplot as plt"
   ]
  },
  {
   "cell_type": "markdown",
   "id": "d54fead7-0ece-4b34-8bb3-3c368bdcf416",
   "metadata": {},
   "source": [
    "## Explore the dataframe"
   ]
  },
  {
   "cell_type": "code",
   "execution_count": 2,
   "id": "36145acc-9b38-4cfe-93a4-ed755b110d46",
   "metadata": {},
   "outputs": [
    {
     "name": "stdout",
     "output_type": "stream",
     "text": [
      "Dataset shape = (891, 10)\n",
      "         Survived      Pclass         Age       SibSp       Parch        Fare\n",
      "count  891.000000  891.000000  714.000000  891.000000  891.000000  891.000000\n",
      "mean     0.383838    2.308642   29.699118    0.523008    0.381594   32.204208\n",
      "std      0.486592    0.836071   14.526497    1.102743    0.806057   49.693429\n",
      "min      0.000000    1.000000    0.420000    0.000000    0.000000    0.000000\n",
      "25%      0.000000    2.000000   20.125000    0.000000    0.000000    7.910400\n",
      "50%      0.000000    3.000000   28.000000    0.000000    0.000000   14.454200\n",
      "75%      1.000000    3.000000   38.000000    1.000000    0.000000   31.000000\n",
      "max      1.000000    3.000000   80.000000    8.000000    6.000000  512.329200\n",
      "\n",
      "\n",
      "First 10 samples in the dataset:\n",
      "\n",
      "    Survived  Pclass     Sex   Age  SibSp  Parch            Ticket     Fare  \\\n",
      "0         0       3    male  22.0      1      0         A/5 21171   7.2500   \n",
      "1         1       1  female  38.0      1      0          PC 17599  71.2833   \n",
      "2         1       3  female  26.0      0      0  STON/O2. 3101282   7.9250   \n",
      "3         1       1  female  35.0      1      0            113803  53.1000   \n",
      "4         0       3    male  35.0      0      0            373450   8.0500   \n",
      "5         0       3    male   NaN      0      0            330877   8.4583   \n",
      "6         0       1    male  54.0      0      0             17463  51.8625   \n",
      "7         0       3    male   2.0      3      1            349909  21.0750   \n",
      "8         1       3  female  27.0      0      2            347742  11.1333   \n",
      "9         1       2  female  14.0      1      0            237736  30.0708   \n",
      "\n",
      "  Cabin Embarked  \n",
      "0   NaN        S  \n",
      "1   C85        C  \n",
      "2   NaN        S  \n",
      "3  C123        S  \n",
      "4   NaN        S  \n",
      "5   NaN        Q  \n",
      "6   E46        S  \n",
      "7   NaN        S  \n",
      "8   NaN        S  \n",
      "9   NaN        C  \n"
     ]
    }
   ],
   "source": [
    "# Data frame.\n",
    "df = pd.read_csv('train.csv', sep=',')\n",
    "\n",
    "# Drop id, name columns.\n",
    "df = df.drop(columns=[\"PassengerId\", \"Name\"], axis=1)\n",
    "\n",
    "print(\"Dataset shape =\", df.shape)\n",
    "print(df.describe())\n",
    "\n",
    "print(\"\\n\\nFirst 10 samples in the dataset:\\n\\n\", df.head(10))"
   ]
  },
  {
   "cell_type": "markdown",
   "id": "3a94247c-d733-45f8-ae75-011bb743ab22",
   "metadata": {},
   "source": [
    "## Which feature should we keep/which one should we remove?"
   ]
  },
  {
   "cell_type": "code",
   "execution_count": 3,
   "id": "c344ee50-1cdc-49c9-9d14-50443959228f",
   "metadata": {},
   "outputs": [
    {
     "name": "stdout",
     "output_type": "stream",
     "text": [
      "Tot missing cabin info = 687\n"
     ]
    }
   ],
   "source": [
    "print(\"Tot missing cabin info =\", df['Cabin'].isna().sum())\n",
    "\n",
    "# We first try to drop also  the cabin column since we have many nan values.\n",
    "df = df.drop(columns=[\"Cabin\"], axis=1)"
   ]
  },
  {
   "cell_type": "code",
   "execution_count": 4,
   "id": "26b9003a-e22a-43b6-ae96-6bfa32e2ccfd",
   "metadata": {},
   "outputs": [],
   "source": [
    "# Drop also the ticket.\n",
    "df = df.drop(columns=[\"Ticket\"], axis=1)"
   ]
  },
  {
   "cell_type": "code",
   "execution_count": 5,
   "id": "f9917ae3-afca-45f7-b397-72cf4265a360",
   "metadata": {},
   "outputs": [
    {
     "name": "stdout",
     "output_type": "stream",
     "text": [
      "First 10 samples in the dataset\n",
      "\n",
      "    Survived  Pclass     Sex   Age  SibSp  Parch     Fare Embarked\n",
      "0         0       3    male  22.0      1      0   7.2500        S\n",
      "1         1       1  female  38.0      1      0  71.2833        C\n",
      "2         1       3  female  26.0      0      0   7.9250        S\n",
      "3         1       1  female  35.0      1      0  53.1000        S\n",
      "4         0       3    male  35.0      0      0   8.0500        S\n",
      "5         0       3    male   NaN      0      0   8.4583        Q\n",
      "6         0       1    male  54.0      0      0  51.8625        S\n",
      "7         0       3    male   2.0      3      1  21.0750        S\n",
      "8         1       3  female  27.0      0      2  11.1333        S\n",
      "9         1       2  female  14.0      1      0  30.0708        C\n"
     ]
    }
   ],
   "source": [
    "print(\"First 10 samples in the dataset\\n\\n\", df.head(10))"
   ]
  },
  {
   "cell_type": "code",
   "execution_count": 6,
   "id": "1409d76e-66f9-46d2-8c27-41b965852eee",
   "metadata": {},
   "outputs": [
    {
     "name": "stdout",
     "output_type": "stream",
     "text": [
      "Missing values for each column\n",
      "\n",
      "Survived      0\n",
      "Pclass        0\n",
      "Sex           0\n",
      "Age         177\n",
      "SibSp         0\n",
      "Parch         0\n",
      "Fare          0\n",
      "Embarked      2\n",
      "dtype: int64\n"
     ]
    }
   ],
   "source": [
    "print(\"Missing values for each column\\n\")\n",
    "print(df.isna().sum())"
   ]
  },
  {
   "cell_type": "code",
   "execution_count": 7,
   "id": "6000c9ce-fccc-4ff4-92ba-49134ec5b8c1",
   "metadata": {},
   "outputs": [
    {
     "name": "stdout",
     "output_type": "stream",
     "text": [
      "Survived    0\n",
      "Pclass      0\n",
      "Sex         0\n",
      "Age         0\n",
      "SibSp       0\n",
      "Parch       0\n",
      "Fare        0\n",
      "Embarked    0\n",
      "dtype: int64\n"
     ]
    }
   ],
   "source": [
    "# How can manage missing data?\n",
    "# First try: use the median for the age data, fix to S for Embarked.\n",
    "df['Age'] = df['Age'].fillna(df['Age'].mean())\n",
    "df['Embarked'] = df ['Embarked'].fillna('S')\n",
    "print(df.isna().sum())\n",
    "\n",
    "# Fill missing cabin data with 0.\n",
    "#df[\"Cabin\"] = df[\"Cabin\"].fillna('0')\n",
    "\n",
    "# Second: try to remove the age data, fix to S for Embarked\n",
    "#df['Embarked'] = df ['Embarked'].fillna('S')\n",
    "#df = df.dropna()"
   ]
  },
  {
   "cell_type": "code",
   "execution_count": 8,
   "id": "7fa3341c-e636-4600-9325-639d9787badf",
   "metadata": {},
   "outputs": [
    {
     "name": "stdout",
     "output_type": "stream",
     "text": [
      "Survived      int64\n",
      "Pclass        int64\n",
      "Sex          object\n",
      "Age         float64\n",
      "SibSp         int64\n",
      "Parch         int64\n",
      "Fare        float64\n",
      "Embarked     object\n",
      "dtype: object\n"
     ]
    }
   ],
   "source": [
    "print(df.dtypes)"
   ]
  },
  {
   "cell_type": "code",
   "execution_count": 9,
   "id": "51d7b92a-969c-46d7-9e36-541eba118d10",
   "metadata": {},
   "outputs": [
    {
     "name": "stdout",
     "output_type": "stream",
     "text": [
      "Tot number of samples: 891\n",
      "Features names: ['Pclass', 'Sex', 'Age', 'SibSp', 'Parch', 'Fare', 'Embarked']\n",
      "X shape: (891, 7)\n",
      "Y shape: (891,)\n"
     ]
    }
   ],
   "source": [
    "# Compute X and Y sets\n",
    "X = df.drop(columns=[\"Survived\"], axis=1)\n",
    "Y = df[\"Survived\"]\n",
    "\n",
    "print(\"Tot number of samples:\", X.shape[0])\n",
    "features_names = list(X.columns)\n",
    "print(\"Features names:\", features_names)\n",
    "\n",
    "X = X.values\n",
    "Y = Y.values\n",
    "\n",
    "print(\"X shape:\", X.shape)\n",
    "print(\"Y shape:\", Y.shape)"
   ]
  },
  {
   "cell_type": "markdown",
   "id": "d3ea45a0-69c7-46ef-81fc-70ffc68ba610",
   "metadata": {},
   "source": [
    "## Encode categorical variable"
   ]
  },
  {
   "cell_type": "code",
   "execution_count": 10,
   "id": "41f935b7-68a4-4b14-9109-6f8eb69356b4",
   "metadata": {},
   "outputs": [
    {
     "name": "stdout",
     "output_type": "stream",
     "text": [
      "Column Pclass (index: 0) -- data type: <class 'int'>\n",
      "Column Sex (index: 1) -- data type: <class 'str'>\n",
      "Column Age (index: 2) -- data type: <class 'float'>\n",
      "Column SibSp (index: 3) -- data type: <class 'int'>\n",
      "Column Parch (index: 4) -- data type: <class 'int'>\n",
      "Column Fare (index: 5) -- data type: <class 'float'>\n",
      "Column Embarked (index: 6) -- data type: <class 'str'>\n"
     ]
    }
   ],
   "source": [
    "# Print the data type of each column.\n",
    "for index_col, name_col in zip(range(X.shape[1]), features_names):\n",
    "    print(f\"Column {name_col} (index: {index_col}) -- data type: {type(X[0, index_col])}\")"
   ]
  },
  {
   "cell_type": "code",
   "execution_count": 11,
   "id": "9f3ccf10-1f2f-4052-99db-6b73c49ad544",
   "metadata": {},
   "outputs": [],
   "source": [
    "# Encode the categorical variables.\n",
    "from sklearn.preprocessing import OrdinalEncoder\n",
    "\n",
    "encode_cols = [1, 6]\n",
    "\n",
    "enc = OrdinalEncoder()\n",
    "X[:, encode_cols] = enc.fit_transform(X[:, encode_cols])"
   ]
  },
  {
   "cell_type": "code",
   "execution_count": 12,
   "id": "b299e244-cc90-48ee-bc29-4f9f6608b15f",
   "metadata": {},
   "outputs": [
    {
     "name": "stdout",
     "output_type": "stream",
     "text": [
      "Column Pclass (index: 0) -- data type: <class 'int'>\n",
      "Column Sex (index: 1) -- data type: <class 'float'>\n",
      "Column Age (index: 2) -- data type: <class 'float'>\n",
      "Column SibSp (index: 3) -- data type: <class 'int'>\n",
      "Column Parch (index: 4) -- data type: <class 'int'>\n",
      "Column Fare (index: 5) -- data type: <class 'float'>\n",
      "Column Embarked (index: 6) -- data type: <class 'float'>\n"
     ]
    }
   ],
   "source": [
    "# Print the data type of each column.\n",
    "for index_col, name_col in zip(range(X.shape[1]), features_names):\n",
    "    print(f\"Column {name_col} (index: {index_col}) -- data type: {type(X[0, index_col])}\")"
   ]
  },
  {
   "cell_type": "markdown",
   "id": "485c8fe2-879f-4422-8a06-6d669a26e454",
   "metadata": {},
   "source": [
    "## Split data into train/validation and test"
   ]
  },
  {
   "cell_type": "code",
   "execution_count": 13,
   "id": "302f4ce7-9076-4019-a15f-38160daa09c1",
   "metadata": {},
   "outputs": [
    {
     "name": "stdout",
     "output_type": "stream",
     "text": [
      "Amount of data for training and deciding parameters: 712\n",
      "Amount of data for test: 179\n"
     ]
    }
   ],
   "source": [
    "# Split data into train (4/5 of samples) and test data (1/5 of samples)\n",
    "m = X.shape[0]\n",
    "m_train = int(4./5. * m)\n",
    "m_test = m - m_train\n",
    "\n",
    "print(\"Amount of data for training and deciding parameters:\", m_train)\n",
    "print(\"Amount of data for test:\", m_test)"
   ]
  },
  {
   "cell_type": "code",
   "execution_count": 14,
   "id": "2a0009fa-b807-4f2b-981f-5df8811d81e3",
   "metadata": {},
   "outputs": [],
   "source": [
    "from sklearn.model_selection import train_test_split\n",
    "\n",
    "X_train, X_test, Y_train, Y_test = train_test_split(X, Y, test_size=m_test/m, random_state=12)"
   ]
  },
  {
   "cell_type": "markdown",
   "id": "e728dbff-2748-40ae-b121-16eaf0ac8066",
   "metadata": {},
   "source": [
    "## Data Standardization"
   ]
  },
  {
   "cell_type": "code",
   "execution_count": 15,
   "id": "3b34c9df-c15e-409f-80b5-bbb143444dc8",
   "metadata": {},
   "outputs": [],
   "source": [
    "# -- data standardization\n",
    "from sklearn.preprocessing import StandardScaler\n",
    "\n",
    "# Continuous variables columns number.\n",
    "cont_var_col = [5]\n",
    "\n",
    "# Make copies.\n",
    "X_train_scaled = np.copy(X_train)\n",
    "X_test_scaled = np.copy(X_test)\n",
    "\n",
    "# Scale data.\n",
    "scaler = StandardScaler().fit(X_train[:, cont_var_col])\n",
    "X_train_scaled[:, cont_var_col] = scaler.transform(X_train[:, cont_var_col])\n",
    "X_test_scaled[:, cont_var_col] = scaler.transform(X_test[:, cont_var_col])"
   ]
  },
  {
   "cell_type": "markdown",
   "id": "7ccfd53d-9ea2-4cfc-a39c-34cd9ce2d5bc",
   "metadata": {},
   "source": [
    "## Define the function that implement the k-cross fold validation"
   ]
  },
  {
   "cell_type": "code",
   "execution_count": 16,
   "id": "ca5b23ce-0f76-4f58-87dc-fabe6740bfa0",
   "metadata": {},
   "outputs": [],
   "source": [
    "from sklearn.model_selection import KFold\n",
    "from itertools import product\n",
    "\n",
    "def k_fold_cross_validation(X, Y, model_func, num_folds = 5, **param_grid):\n",
    "\n",
    "    # -- grid of hyperparams into list\n",
    "    param_keys = list(param_grid.keys())\n",
    "    param_values = list(param_grid.values())\n",
    "    \n",
    "    # Generate Cartesian product of values\n",
    "    combinations = product(*param_values)\n",
    "    \n",
    "    # Create a list of dictionaries from combinations\n",
    "    param_list = [dict(zip(param_keys, combination)) for combination in combinations]\n",
    "\n",
    "    kf = KFold(n_splits = num_folds)\n",
    "    \n",
    "    err_validation_kfold = np.zeros(len(param_list),)\n",
    "    err_training_kfold = np.zeros(len(param_list),)\n",
    "\n",
    "    for i, params in enumerate(param_list):\n",
    "        model = model_func(**params)\n",
    "\n",
    "        for train_index, validation_index in kf.split(X):\n",
    "            X_train_kfold, X_val_kfold = X[train_index], X[validation_index]\n",
    "            Y_train_kfold, Y_val_kfold = Y[train_index], Y[validation_index]\n",
    "            \n",
    "            # -- data scaling: standardize features with respect to the current folds\n",
    "            scaler_kfold = StandardScaler().fit(X_train_kfold)\n",
    "            X_train_kfold_scaled = scaler_kfold.transform(X_train_kfold)\n",
    "            X_val_kfold_scaled = scaler_kfold.transform(X_val_kfold)\n",
    "        \n",
    "            # -- learn the model using the training data from the k-fold\n",
    "            model.fit(X_train_kfold_scaled, Y_train_kfold)\n",
    "            \n",
    "            # -- incremental mean\n",
    "            err_training_kfold[i] += (1.0 - model.score(X_train_kfold_scaled, Y_train_kfold))\n",
    "            err_validation_kfold[i] += (1.0 - model.score(X_val_kfold_scaled, Y_val_kfold))\n",
    "\n",
    "    \n",
    "    # -- compute the mean\n",
    "    err_training_kfold /= num_folds\n",
    "    err_validation_kfold /= num_folds\n",
    "    \n",
    "    # -- choose the best paramter: the one that minimizes the (the estimation of the true) loss\n",
    "    best_param = param_list[np.argmin(err_validation_kfold)]\n",
    "\n",
    "    return [best_param, err_training_kfold, err_validation_kfold]"
   ]
  },
  {
   "cell_type": "markdown",
   "id": "f97324ce-843d-4e6a-9563-16b223de9ade",
   "metadata": {},
   "source": [
    "## Decision tree model"
   ]
  },
  {
   "cell_type": "code",
   "execution_count": 17,
   "id": "5f549923-e2d0-4581-a8ce-7af7cf572c94",
   "metadata": {},
   "outputs": [
    {
     "name": "stdout",
     "output_type": "stream",
     "text": [
      "Tree depth = 17\n",
      "Train error = 0.016853932584269704\n",
      "Test error = 0.23463687150837986\n"
     ]
    }
   ],
   "source": [
    "# Try with default value first.\n",
    "from sklearn.tree import DecisionTreeClassifier\n",
    "\n",
    "default_model = DecisionTreeClassifier(random_state=12)\n",
    "default_model.fit(X_train_scaled, Y_train)\n",
    "print(\"Tree depth =\", default_model.get_depth())\n",
    "print(\"Train error =\", 1 - default_model.score(X_train_scaled, Y_train))\n",
    "print(\"Test error =\", 1 - default_model.score(X_test_scaled, Y_test))"
   ]
  },
  {
   "cell_type": "code",
   "execution_count": 18,
   "id": "a9ca3050-6a13-46e8-81e6-2f43dc8765da",
   "metadata": {},
   "outputs": [
    {
     "name": "stdout",
     "output_type": "stream",
     "text": [
      "Optimal max_depth is: {'max_depth': 3, 'random_state': 12}\n",
      "Min validation error (1 - R²): 0.16993006993006993\n"
     ]
    }
   ],
   "source": [
    "# Let's try with k-cross validation on the max_depth parameter.\n",
    "max_depth_grid = {\"max_depth\": [v for v in range(1, 31)], \"random_state\": [12]}\n",
    "results = k_fold_cross_validation(X_train_scaled, Y_train, model_func=DecisionTreeClassifier, **max_depth_grid)\n",
    "print(\"Optimal max_depth is:\", results[0])\n",
    "print(\"Min validation error (1 - R²):\", np.min(results[2]))"
   ]
  },
  {
   "cell_type": "code",
   "execution_count": 19,
   "id": "55fb375f-a3d2-44ae-be18-d5e3934e609b",
   "metadata": {},
   "outputs": [
    {
     "data": {
      "image/png": "[encoded data removed]",
      "text/plain": [
       "<Figure size 640x480 with 1 Axes>"
      ]
     },
     "metadata": {},
     "output_type": "display_data"
    }
   ],
   "source": [
    "# -- plot the training error\n",
    "plt.plot(max_depth_grid[\"max_depth\"],\n",
    "         results[1], \n",
    "         color='r', \n",
    "         marker='x')\n",
    "\n",
    "# -- plot the validation error\n",
    "plt.plot(max_depth_grid[\"max_depth\"], \n",
    "         results[2], \n",
    "         color='b', \n",
    "         marker='x')\n",
    "\n",
    "# -- highlight min loss\n",
    "plt.scatter(results[0][\"max_depth\"], \n",
    "            np.min(results[2]), \n",
    "            color='b', \n",
    "            marker='o', \n",
    "            linewidths=5)\n",
    "\n",
    "plt.legend(['Train', 'Validation'])\n",
    "plt.xlabel('max_depth')\n",
    "plt.ylabel('Error')\n",
    "plt.title('DecisionTree: choice of max_depth parameter')\n",
    "plt.savefig('train_val_loss.pdf')\n",
    "plt.show()"
   ]
  },
  {
   "cell_type": "code",
   "execution_count": 20,
   "id": "4b15a5ea-055d-40e0-b762-66d57377fe51",
   "metadata": {},
   "outputs": [
    {
     "name": "stdout",
     "output_type": "stream",
     "text": [
      "1 - R² on training data: 0.151685393258427\n",
      "1 - R² on test data: 0.22905027932960897\n"
     ]
    }
   ],
   "source": [
    "# Final model for decision tree.\n",
    "final_decision_tree = DecisionTreeClassifier(**results[0])\n",
    "final_decision_tree.fit(X_train_scaled, Y_train)\n",
    "print(\"1 - R² on training data:\", 1 - final_decision_tree.score(X_train_scaled, Y_train))\n",
    "print(\"1 - R² on test data:\", 1 - final_decision_tree.score(X_test_scaled, Y_test))"
   ]
  },
  {
   "cell_type": "code",
   "execution_count": 21,
   "id": "cff71c90-bdee-4038-a639-7ca08e04053a",
   "metadata": {},
   "outputs": [
    {
     "data": {
      "image/png": "[encoded data removed]",
      "text/plain": [
       "<Figure size 640x480 with 1 Axes>"
      ]
     },
     "metadata": {},
     "output_type": "display_data"
    }
   ],
   "source": [
    "# Plot the tree of the final model.\n",
    "from sklearn import tree\n",
    "\n",
    "plt.figure()\n",
    "tree.plot_tree(decision_tree=final_decision_tree,\n",
    "               feature_names=features_names, \n",
    "               #class_names=['Survived'], \n",
    "               filled=True)\n",
    "plt.savefig(\"tree.pdf\")\n",
    "plt.show()"
   ]
  },
  {
   "cell_type": "code",
   "execution_count": 22,
   "id": "abd4420e-cf63-48bd-a133-c9adce41c989",
   "metadata": {},
   "outputs": [
    {
     "name": "stdout",
     "output_type": "stream",
     "text": [
      "['Pclass', 'Sex', 'Age', 'SibSp', 'Parch', 'Fare', 'Embarked'] \n",
      "\n",
      "[0.15864358 0.61950622 0.06074548 0.06030584 0.         0.05448752\n",
      " 0.04631135]\n"
     ]
    }
   ],
   "source": [
    "# Print features importances.\n",
    "print(features_names, \"\\n\")\n",
    "print(final_decision_tree.feature_importances_)"
   ]
  },
  {
   "cell_type": "markdown",
   "id": "9d71d13c-5fe2-4535-9e5f-edcdea146c43",
   "metadata": {},
   "source": [
    "## Some SVM model with different kernel function"
   ]
  },
  {
   "cell_type": "code",
   "execution_count": null,
   "id": "d918cf15-df26-4353-a319-f05ff51124fa",
   "metadata": {},
   "outputs": [],
   "source": []
  }
 ],
 "metadata": {
  "kernelspec": {
   "display_name": "Python 3 (ipykernel)",
   "language": "python",
   "name": "python3"
  },
  "language_info": {
   "codemirror_mode": {
    "name": "ipython",
    "version": 3
   },
   "file_extension": ".py",
   "mimetype": "text/x-python",
   "name": "python",
   "nbconvert_exporter": "python",
   "pygments_lexer": "ipython3",
   "version": "3.13.1"
  }
 },
 "nbformat": 4,
 "nbformat_minor": 5
}
