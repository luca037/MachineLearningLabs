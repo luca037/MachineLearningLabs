{
 "cells": [
  {
   "cell_type": "markdown",
   "metadata": {},
   "source": [
    "# Linear Models for Classification: Wine Dataset\n",
    "\n",
    "## IMPORTANT: make sure to rerun all the code from the beginning to obtain the results for the final version of your notebook (this is the way we will do it for evaluating your HWs!)\n",
    "\n",
    "### Dataset description\n",
    "\n",
    "We will be working with a dataset on wines from the UCI machine learning repository\n",
    "(http://archive.ics.uci.edu/ml/datasets/Wine). It contains data for 178 instances. \n",
    "The dataset is the results of a chemical analysis of wines grown in the same region\n",
    "in Italy but derived from three different cultivars. The analysis determined the\n",
    "quantities of 13 constituents found in each of the three types of wines. \n",
    "\n",
    "### The features in the dataset are:\n",
    "\n",
    "- Alcohol\n",
    "- Malic acid\n",
    "- Ash\n",
    "- Alcalinity of ash\n",
    "- Magnesium\n",
    "- Total phenols\n",
    "- Flavanoids\n",
    "- Nonflavanoid phenols\n",
    "- Proanthocyanins\n",
    "- Color intensity\n",
    "- Hue\n",
    "- OD280/OD315 of diluted wines\n",
    "-Proline\n",
    "\n"
   ]
  },
  {
   "cell_type": "markdown",
   "metadata": {},
   "source": [
    "Hence, the task is to perform a <u>classification</u> to decide from which cultivar the given wine has been grown."
   ]
  },
  {
   "cell_type": "markdown",
   "metadata": {},
   "source": [
    "We first import the dataset we are going to use."
   ]
  },
  {
   "cell_type": "code",
   "execution_count": 2,
   "metadata": {
    "tags": []
   },
   "outputs": [
    {
     "name": "stdout",
     "output_type": "stream",
     "text": [
      "1.5.2\n"
     ]
    }
   ],
   "source": [
    "# -- let's import the sklearn library\n",
    "import sklearn\n",
    "\n",
    "# -- let's print out the version of scikit-learn\n",
    "print(sklearn.__version__)\n",
    "\n",
    "# -- this imports the datasets module, which has useful datasets\n",
    "from sklearn import datasets\n",
    "\n",
    "# -- Load the dataset from scikit learn\n",
    "wine = datasets.load_wine()"
   ]
  },
  {
   "cell_type": "markdown",
   "metadata": {},
   "source": [
    "Let's check out the description of the dataset from the scikit learn documentation: https://scikit-learn.org/0.23/modules/classes.html#module-sklearn.datasets\n",
    "\n",
    "(**Note**: we are considering the scikit-learn version that is installed in the labs Te and Ue, but there are more recent ones)\n",
    "\n",
    "Now let's understand a little bit the data."
   ]
  },
  {
   "cell_type": "code",
   "execution_count": 5,
   "metadata": {
    "tags": []
   },
   "outputs": [
    {
     "name": "stdout",
     "output_type": "stream",
     "text": [
      "Wine dataset shape:\n",
      " (178, 13)\n",
      "Feature names:\n",
      " ['alcohol', 'malic_acid', 'ash', 'alcalinity_of_ash', 'magnesium', 'total_phenols', 'flavanoids', 'nonflavanoid_phenols', 'proanthocyanins', 'color_intensity', 'hue', 'od280/od315_of_diluted_wines', 'proline']\n",
      "Data:\n",
      " [[1.423e+01 1.710e+00 2.430e+00 ... 1.040e+00 3.920e+00 1.065e+03]\n",
      " [1.320e+01 1.780e+00 2.140e+00 ... 1.050e+00 3.400e+00 1.050e+03]\n",
      " [1.316e+01 2.360e+00 2.670e+00 ... 1.030e+00 3.170e+00 1.185e+03]\n",
      " ...\n",
      " [1.327e+01 4.280e+00 2.260e+00 ... 5.900e-01 1.560e+00 8.350e+02]\n",
      " [1.317e+01 2.590e+00 2.370e+00 ... 6.000e-01 1.620e+00 8.400e+02]\n",
      " [1.413e+01 4.100e+00 2.740e+00 ... 6.100e-01 1.600e+00 5.600e+02]]\n",
      "Target names:\n",
      " ['class_0' 'class_1' 'class_2']\n",
      "Labels:\n",
      " [0 0 0 0 0 0 0 0 0 0 0 0 0 0 0 0 0 0 0 0 0 0 0 0 0 0 0 0 0 0 0 0 0 0 0 0 0\n",
      " 0 0 0 0 0 0 0 0 0 0 0 0 0 0 0 0 0 0 0 0 0 0 1 1 1 1 1 1 1 1 1 1 1 1 1 1 1\n",
      " 1 1 1 1 1 1 1 1 1 1 1 1 1 1 1 1 1 1 1 1 1 1 1 1 1 1 1 1 1 1 1 1 1 1 1 1 1\n",
      " 1 1 1 1 1 1 1 1 1 1 1 1 1 1 1 1 1 1 1 2 2 2 2 2 2 2 2 2 2 2 2 2 2 2 2 2 2\n",
      " 2 2 2 2 2 2 2 2 2 2 2 2 2 2 2 2 2 2 2 2 2 2 2 2 2 2 2 2 2 2]\n",
      "Dataset description:\n",
      " .. _wine_dataset:\n",
      "\n",
      "Wine recognition dataset\n",
      "------------------------\n",
      "\n",
      "**Data Set Characteristics:**\n",
      "\n",
      ":Number of Instances: 178\n",
      ":Number of Attributes: 13 numeric, predictive attributes and the class\n",
      ":Attribute Information:\n",
      "    - Alcohol\n",
      "    - Malic acid\n",
      "    - Ash\n",
      "    - Alcalinity of ash\n",
      "    - Magnesium\n",
      "    - Total phenols\n",
      "    - Flavanoids\n",
      "    - Nonflavanoid phenols\n",
      "    - Proanthocyanins\n",
      "    - Color intensity\n",
      "    - Hue\n",
      "    - OD280/OD315 of diluted wines\n",
      "    - Proline\n",
      "    - class:\n",
      "        - class_0\n",
      "        - class_1\n",
      "        - class_2\n",
      "\n",
      ":Summary Statistics:\n",
      "\n",
      "============================= ==== ===== ======= =====\n",
      "                                Min   Max   Mean     SD\n",
      "============================= ==== ===== ======= =====\n",
      "Alcohol:                      11.0  14.8    13.0   0.8\n",
      "Malic Acid:                   0.74  5.80    2.34  1.12\n",
      "Ash:                          1.36  3.23    2.36  0.27\n",
      "Alcalinity of Ash:            10.6  30.0    19.5   3.3\n",
      "Magnesium:                    70.0 162.0    99.7  14.3\n",
      "Total Phenols:                0.98  3.88    2.29  0.63\n",
      "Flavanoids:                   0.34  5.08    2.03  1.00\n",
      "Nonflavanoid Phenols:         0.13  0.66    0.36  0.12\n",
      "Proanthocyanins:              0.41  3.58    1.59  0.57\n",
      "Colour Intensity:              1.3  13.0     5.1   2.3\n",
      "Hue:                          0.48  1.71    0.96  0.23\n",
      "OD280/OD315 of diluted wines: 1.27  4.00    2.61  0.71\n",
      "Proline:                       278  1680     746   315\n",
      "============================= ==== ===== ======= =====\n",
      "\n",
      ":Missing Attribute Values: None\n",
      ":Class Distribution: class_0 (59), class_1 (71), class_2 (48)\n",
      ":Creator: R.A. Fisher\n",
      ":Donor: Michael Marshall (MARSHALL%PLU@io.arc.nasa.gov)\n",
      ":Date: July, 1988\n",
      "\n",
      "This is a copy of UCI ML Wine recognition datasets.\n",
      "https://archive.ics.uci.edu/ml/machine-learning-databases/wine/wine.data\n",
      "\n",
      "The data is the results of a chemical analysis of wines grown in the same\n",
      "region in Italy by three different cultivators. There are thirteen different\n",
      "measurements taken for different constituents found in the three types of\n",
      "wine.\n",
      "\n",
      "Original Owners:\n",
      "\n",
      "Forina, M. et al, PARVUS -\n",
      "An Extendible Package for Data Exploration, Classification and Correlation.\n",
      "Institute of Pharmaceutical and Food Analysis and Technologies,\n",
      "Via Brigata Salerno, 16147 Genoa, Italy.\n",
      "\n",
      "Citation:\n",
      "\n",
      "Lichman, M. (2013). UCI Machine Learning Repository\n",
      "[https://archive.ics.uci.edu/ml]. Irvine, CA: University of California,\n",
      "School of Information and Computer Science.\n",
      "\n",
      ".. dropdown:: References\n",
      "\n",
      "    (1) S. Aeberhard, D. Coomans and O. de Vel,\n",
      "    Comparison of Classifiers in High Dimensional Settings,\n",
      "    Tech. Rep. no. 92-02, (1992), Dept. of Computer Science and Dept. of\n",
      "    Mathematics and Statistics, James Cook University of North Queensland.\n",
      "    (Also submitted to Technometrics).\n",
      "\n",
      "    The data was used with many others for comparing various\n",
      "    classifiers. The classes are separable, though only RDA\n",
      "    has achieved 100% correct classification.\n",
      "    (RDA : 100%, QDA 99.4%, LDA 98.9%, 1NN 96.1% (z-transformed data))\n",
      "    (All results using the leave-one-out technique)\n",
      "\n",
      "    (2) S. Aeberhard, D. Coomans and O. de Vel,\n",
      "    \"THE CLASSIFICATION PERFORMANCE OF RDA\"\n",
      "    Tech. Rep. no. 92-01, (1992), Dept. of Computer Science and Dept. of\n",
      "    Mathematics and Statistics, James Cook University of North Queensland.\n",
      "    (Also submitted to Journal of Chemometrics).\n",
      "\n"
     ]
    }
   ],
   "source": [
    "# -- let's print the dimension of the data matrix\n",
    "print('Wine dataset shape:\\n', wine.data.shape)\n",
    "\n",
    "# -- let's print the features names\n",
    "print('Feature names:\\n', wine.feature_names)\n",
    "\n",
    "# -- let's print the data matrix\n",
    "print('Data:\\n', wine.data)\n",
    "\n",
    "# -- let's print the targets names\n",
    "print('Target names:\\n', wine.target_names)\n",
    "\n",
    "# --let's print the target (labels)\n",
    "print('Labels:\\n', wine.target)\n",
    "\n",
    "# -- let's print the description of the dataset\n",
    "print('Dataset description:\\n', wine.DESCR)"
   ]
  },
  {
   "cell_type": "markdown",
   "metadata": {},
   "source": [
    "There are three different classes of cultivars (represented with labels 0, 1, and 2).\n",
    "\n",
    "To simplify a bit the problem (and the presentation), we are going to consider a **binary classification** task. In particular, we are going to classify class \"1\" vs the other two classes (0 and 2), that we denote as \"-1\". \n",
    "\n",
    "Thus, we need to re-label the other classes (0 and 2) as \"-1\".\n",
    "\n",
    "For convenience, let's save the instances (vectors of features) in matrix $\\mathbf{X}$ and the targets into a vector $\\mathbf{Y}$."
   ]
  },
  {
   "cell_type": "code",
   "execution_count": 6,
   "metadata": {
    "tags": []
   },
   "outputs": [
    {
     "name": "stdout",
     "output_type": "stream",
     "text": [
      "Matrix of instances:\n",
      "[[1.423e+01 1.710e+00 2.430e+00 ... 1.040e+00 3.920e+00 1.065e+03]\n",
      " [1.320e+01 1.780e+00 2.140e+00 ... 1.050e+00 3.400e+00 1.050e+03]\n",
      " [1.316e+01 2.360e+00 2.670e+00 ... 1.030e+00 3.170e+00 1.185e+03]\n",
      " ...\n",
      " [1.327e+01 4.280e+00 2.260e+00 ... 5.900e-01 1.560e+00 8.350e+02]\n",
      " [1.317e+01 2.590e+00 2.370e+00 ... 6.000e-01 1.620e+00 8.400e+02]\n",
      " [1.413e+01 4.100e+00 2.740e+00 ... 6.100e-01 1.600e+00 5.600e+02]]\n",
      "Vector of labels:\n",
      "[0 0 0 0 0 0 0 0 0 0 0 0 0 0 0 0 0 0 0 0 0 0 0 0 0 0 0 0 0 0 0 0 0 0 0 0 0\n",
      " 0 0 0 0 0 0 0 0 0 0 0 0 0 0 0 0 0 0 0 0 0 0 1 1 1 1 1 1 1 1 1 1 1 1 1 1 1\n",
      " 1 1 1 1 1 1 1 1 1 1 1 1 1 1 1 1 1 1 1 1 1 1 1 1 1 1 1 1 1 1 1 1 1 1 1 1 1\n",
      " 1 1 1 1 1 1 1 1 1 1 1 1 1 1 1 1 1 1 1 2 2 2 2 2 2 2 2 2 2 2 2 2 2 2 2 2 2\n",
      " 2 2 2 2 2 2 2 2 2 2 2 2 2 2 2 2 2 2 2 2 2 2 2 2 2 2 2 2 2 2]\n"
     ]
    }
   ],
   "source": [
    "X = wine.data\n",
    "Y = wine.target\n",
    "\n",
    "# -- let's print out the matrix of instances and the vector of targets, just to make sure that everything looks ok\n",
    "print(\"Matrix of instances:\")\n",
    "print(X)\n",
    "\n",
    "print(\"Vector of labels:\")\n",
    "print(Y)"
   ]
  },
  {
   "cell_type": "markdown",
   "metadata": {},
   "source": [
    "Let's relabel the labels for classes 0 and 2 as stated before."
   ]
  },
  {
   "cell_type": "code",
   "execution_count": 7,
   "metadata": {
    "tags": []
   },
   "outputs": [
    {
     "name": "stdout",
     "output_type": "stream",
     "text": [
      "Re-labeled classes:\n",
      "[-1 -1 -1 -1 -1 -1 -1 -1 -1 -1 -1 -1 -1 -1 -1 -1 -1 -1 -1 -1 -1 -1 -1 -1\n",
      " -1 -1 -1 -1 -1 -1 -1 -1 -1 -1 -1 -1 -1 -1 -1 -1 -1 -1 -1 -1 -1 -1 -1 -1\n",
      " -1 -1 -1 -1 -1 -1 -1 -1 -1 -1 -1  1  1  1  1  1  1  1  1  1  1  1  1  1\n",
      "  1  1  1  1  1  1  1  1  1  1  1  1  1  1  1  1  1  1  1  1  1  1  1  1\n",
      "  1  1  1  1  1  1  1  1  1  1  1  1  1  1  1  1  1  1  1  1  1  1  1  1\n",
      "  1  1  1  1  1  1  1  1  1  1 -1 -1 -1 -1 -1 -1 -1 -1 -1 -1 -1 -1 -1 -1\n",
      " -1 -1 -1 -1 -1 -1 -1 -1 -1 -1 -1 -1 -1 -1 -1 -1 -1 -1 -1 -1 -1 -1 -1 -1\n",
      " -1 -1 -1 -1 -1 -1 -1 -1 -1 -1]\n"
     ]
    }
   ],
   "source": [
    "# -- let's relabel classes 0 and 2 as -1\n",
    "for i, y in enumerate(Y):\n",
    "    if y != 1:\n",
    "        Y[i] = -1\n",
    "        \n",
    "# -- let's print the new vector Y\n",
    "print('Re-labeled classes:')\n",
    "print(Y)"
   ]
  },
  {
   "cell_type": "markdown",
   "metadata": {},
   "source": [
    "## Data Preprocessing and Split into Training and Testing ##"
   ]
  },
  {
   "cell_type": "markdown",
   "metadata": {},
   "source": [
    "Before we actually learn the model, it is important that we perform two operations:\n",
    "1. split the data into a training set and a test set\n",
    "2. normalize the features\n",
    "\n",
    "**Note**: some of there operations can be done in few lines with scikit-learn dedicated functions, but we do them \"manually\" to get a better understanding of what is going on."
   ]
  },
  {
   "cell_type": "markdown",
   "metadata": {},
   "source": [
    "*1) Train and Test split:*\n",
    "\n",
    "We now want to split the data into train and test. Let's say we keep 50% of the data for training and 50% for testing. How do we split the data?\n",
    "\n",
    "What about keeping the first 50% of the raws for training and the last 50% of rows for testing? Is it a good idea?\n",
    "\n",
    "No, because the lables are sorted! We better randomize the choice."
   ]
  },
  {
   "cell_type": "markdown",
   "metadata": {},
   "source": [
    "Solution: randomly permute the rows, and then split as suggested before.\n",
    "\n",
    "**Note**: since we use randomization in some parts, let's fix a random seed (so that the entire procedure is reproducible, hopefully)."
   ]
  },
  {
   "cell_type": "code",
   "execution_count": 15,
   "metadata": {
    "tags": []
   },
   "outputs": [
    {
     "name": "stdout",
     "output_type": "stream",
     "text": [
      "Permutation of indexes:\n",
      " [148 153 140   9  95  31  46  19 173 113 114 131 172  25 144 107  11  32\n",
      " 106 122  63 166 124  88  26 105   8  59  24   2  82 125 119 111  72  65\n",
      "  91 126 121 152  98  50  57   1  38  20 110 154  61 164 127  52  53 112\n",
      "  86  78  94  10  77 168  66  64  89 102 150  27  21 151  39 101  70 157\n",
      " 103  75  67  79 132  60 177  99  41 165  74  40   7 109  49 104   6 145\n",
      "  62  35 134 143 176 160  33  55 135 175  16 123  45  43  96 169   0 162\n",
      " 147  80  30 137 115  68 129 167 158  81  23  28   5  37 116 138  83 174\n",
      " 155  34 142  85 139 149  84  17  42  14  71  97  87 161  93 100  58  92\n",
      " 156 128 136  12  15 130  73 108  29 170  44 163  18  56  36  48 118  90\n",
      " 117 159 171 141  69  54 120  13   3   4  22  51  47 133 146  76]\n",
      "Permutation of targets:\n",
      " [-1 -1 -1 -1  1 -1 -1 -1 -1  1  1 -1 -1 -1 -1  1 -1 -1  1  1  1 -1  1  1\n",
      " -1  1 -1  1 -1 -1  1  1  1  1  1  1  1  1  1 -1  1 -1 -1 -1 -1 -1  1 -1\n",
      "  1 -1  1 -1 -1  1  1  1  1 -1  1 -1  1  1  1  1 -1 -1 -1 -1 -1  1  1 -1\n",
      "  1  1  1  1 -1  1 -1  1 -1 -1  1 -1 -1  1 -1  1 -1 -1  1 -1 -1 -1 -1 -1\n",
      " -1 -1 -1 -1 -1  1 -1 -1  1 -1 -1 -1 -1  1 -1 -1  1  1  1 -1 -1  1 -1 -1\n",
      " -1 -1  1 -1  1 -1 -1 -1 -1  1 -1 -1  1 -1 -1 -1  1  1  1 -1  1  1 -1  1\n",
      " -1  1 -1 -1 -1 -1  1  1 -1 -1 -1 -1 -1 -1 -1 -1  1  1  1 -1 -1 -1  1 -1\n",
      "  1 -1 -1 -1 -1 -1 -1 -1 -1  1]\n"
     ]
    }
   ],
   "source": [
    "# -- we need to import numpy\n",
    "import numpy as np\n",
    "import matplotlib.pyplot as plt\n",
    "\n",
    "# -- set the random seed to your ID number\n",
    "IDnumber = 2042762\n",
    "np.random.seed(IDnumber)\n",
    "\n",
    "# -- let's generate a permutation among the number of rows\n",
    "# -- TO COMPLETE\n",
    "m = wine.data.shape[0] # i.e. the number of rows of the matrix.\n",
    "permutation = np.random.permutation(m)\n",
    "\n",
    "# -- visualize what permutation does\n",
    "print('Permutation of indexes:\\n', permutation)\n",
    "\n",
    "X_perm = X[permutation]\n",
    "Y_perm = Y[permutation]\n",
    "\n",
    "#let's print Y_perm\n",
    "print('Permutation of targets:\\n', Y_perm)"
   ]
  },
  {
   "cell_type": "markdown",
   "metadata": {},
   "source": [
    "Let's split the data and save into 2 new data matrices/vectors."
   ]
  },
  {
   "cell_type": "code",
   "execution_count": 16,
   "metadata": {
    "tags": []
   },
   "outputs": [
    {
     "name": "stdout",
     "output_type": "stream",
     "text": [
      "Number of samples in training set: 89\n",
      "Number of samples in test set: 89\n"
     ]
    }
   ],
   "source": [
    "# -- train-test split: 50% training, 50% test\n",
    "m = X_perm.shape[0]\n",
    "fraction_train = 0.5\n",
    "\n",
    "m_train = int(m*fraction_train)\n",
    "print('Number of samples in training set:', m_train)\n",
    "\n",
    "m_test = m - m_train\n",
    "print('Number of samples in test set:', m_test)"
   ]
  },
  {
   "cell_type": "code",
   "execution_count": 22,
   "metadata": {
    "tags": []
   },
   "outputs": [
    {
     "name": "stdout",
     "output_type": "stream",
     "text": [
      "Y training: [-1 -1 -1 -1  1 -1 -1 -1 -1  1  1 -1 -1 -1 -1  1 -1 -1  1  1  1 -1  1  1\n",
      " -1  1 -1  1 -1 -1  1  1  1  1  1  1  1  1  1 -1  1 -1 -1 -1 -1 -1  1 -1\n",
      "  1 -1  1 -1 -1  1  1  1  1 -1  1 -1  1  1  1  1 -1 -1 -1 -1 -1  1  1 -1\n",
      "  1  1  1  1 -1  1 -1  1 -1 -1  1 -1 -1  1 -1  1 -1]\n"
     ]
    }
   ],
   "source": [
    "# -- let's assign the train and test samples \n",
    "X_train = X_perm[:m_train, :]\n",
    "Y_train = Y_perm[:m_train]\n",
    "\n",
    "X_test = X_perm[m_test:, :]\n",
    "Y_test = Y_perm[m_test:]\n",
    "\n",
    "print('Y training:', Y_train)"
   ]
  },
  {
   "cell_type": "markdown",
   "metadata": {},
   "source": [
    "*2) Features Normalization:*\n",
    "\n",
    "We now center and scale the data to have zero mean and unit variance. This is an important step for the stability of the computation and for other reasons. We are going to use the standard scaler from scikit-learn: https://scikit-learn.org/stable/modules/generated/sklearn.preprocessing.StandardScaler.html"
   ]
  },
  {
   "cell_type": "code",
   "execution_count": 23,
   "metadata": {
    "tags": []
   },
   "outputs": [
    {
     "name": "stdout",
     "output_type": "stream",
     "text": [
      "X_train scaled:\n",
      " [[ 0.56713724  1.01672372  0.09671061 ... -2.00857883 -1.51582755\n",
      "  -0.23001342]\n",
      " [ 0.45735547  1.07711643 -0.24082838 ... -1.96058347 -1.67450967\n",
      "  -0.14793165]\n",
      " [ 0.09141627  0.58390929  1.17683537 ... -0.95268092 -0.5204579\n",
      "  -0.39417697]\n",
      " ...\n",
      " [ 1.32341159 -0.50315949 -0.27458228 ...  0.72715666  0.61916822\n",
      "   1.77278186]\n",
      " [-0.42089861 -0.50315949 -1.25344534 ...  0.34319378  1.29717364\n",
      "  -0.15778146]\n",
      " [ 1.87232039 -0.36224317  0.3329879  ...  0.24720306  1.31159929\n",
      "   1.87127998]]\n"
     ]
    }
   ],
   "source": [
    "# -- load the StandardScaler module\n",
    "from sklearn.preprocessing import StandardScaler\n",
    "\n",
    "# -- we first \"learn\" the scaler function using the training data\n",
    "# -- TO COMPLETE\n",
    "scaler = StandardScaler().fit(X_train)\n",
    "\n",
    "# -- we then apply the scaling function to both training and test data, since we want to simulate what happens \n",
    "# -- when we have data for training and we have future data\n",
    "# -- NOTE: the scaler usded for the test set is the one fitted with training data.\n",
    "X_train_scaled = scaler.transform(X_train)\n",
    "X_test_scaled =  scaler.transform(X_test)\n",
    "\n",
    "# -- let's print the scaled version of X_traing_scaled\n",
    "print('X_train scaled:\\n', X_train_scaled)"
   ]
  },
  {
   "cell_type": "markdown",
   "metadata": {},
   "source": [
    "Alternatively, let's perform the same operation manually, without using the StandardScaler module"
   ]
  },
  {
   "cell_type": "code",
   "execution_count": 24,
   "metadata": {},
   "outputs": [
    {
     "name": "stdout",
     "output_type": "stream",
     "text": [
      "Means of X_train:\n",
      " [1.28550562e+01 2.22988764e+00 2.35134831e+00 1.95415730e+01\n",
      " 9.89550562e+01 2.30213483e+00 2.11831461e+00 3.57640449e-01\n",
      " 1.62494382e+00 4.84460674e+00 9.68494382e-01 2.67078652e+00\n",
      " 7.20056180e+02]\n",
      "\n",
      "\n",
      "Standard deviations of X_train:\n",
      " [8.19808314e-01 9.93497391e-01 2.96262073e-01 3.59452796e+00\n",
      " 1.41277559e+01 6.25264837e-01 9.42265064e-01 1.20439481e-01\n",
      " 5.85034568e-01 2.30037274e+00 2.08353477e-01 6.93209803e-01\n",
      " 3.04574316e+02]\n",
      "\n",
      "\n",
      "X_train scaled by hand:\n",
      " [[ 0.56713724  1.01672372  0.09671061 ... -2.00857883 -1.51582755\n",
      "  -0.23001342]\n",
      " [ 0.45735547  1.07711643 -0.24082838 ... -1.96058347 -1.67450967\n",
      "  -0.14793165]\n",
      " [ 0.09141627  0.58390929  1.17683537 ... -0.95268092 -0.5204579\n",
      "  -0.39417697]\n",
      " ...\n",
      " [ 1.32341159 -0.50315949 -0.27458228 ...  0.72715666  0.61916822\n",
      "   1.77278186]\n",
      " [-0.42089861 -0.50315949 -1.25344534 ...  0.34319378  1.29717364\n",
      "  -0.15778146]\n",
      " [ 1.87232039 -0.36224317  0.3329879  ...  0.24720306  1.31159929\n",
      "   1.87127998]]\n"
     ]
    }
   ],
   "source": [
    "# -- let's compute the mean of each feature in the training data\n",
    "X_means = np.mean(X_train, axis=0)\n",
    "print('Means of X_train:\\n', X_means)\n",
    "print('\\n')\n",
    "\n",
    "# -- let's compute the standard deviation of each feature in the training data\n",
    "X_stds = np.std(X_train, axis=0)\n",
    "print('Standard deviations of X_train:\\n', X_stds)\n",
    "print('\\n')\n",
    "\n",
    "# -- let's scale the data by hand\n",
    "X_train_scaled_byhand = (X_train - X_means)/X_stds\n",
    "X_test_scaled_byhand = (X_test - X_means)/X_stds\n",
    "\n",
    "# -- print the scaled version of X_train\n",
    "print('X_train scaled by hand:\\n', X_train_scaled_byhand)"
   ]
  },
  {
   "cell_type": "markdown",
   "metadata": {},
   "source": [
    "The values correspond to those seen above obtained with the scaler"
   ]
  },
  {
   "cell_type": "markdown",
   "metadata": {},
   "source": [
    "Let's check if the scaler did his job  "
   ]
  },
  {
   "cell_type": "code",
   "execution_count": 25,
   "metadata": {
    "tags": []
   },
   "outputs": [
    {
     "name": "stdout",
     "output_type": "stream",
     "text": [
      "X_train mean:\n",
      " [-1.42457831e-15  1.37218576e-16  8.35785872e-16  1.66658198e-15\n",
      " -2.03332981e-16 -7.35990544e-17 -2.07699027e-16  6.74865906e-16\n",
      " -7.04804504e-16  2.87535289e-16  3.66747831e-16 -1.29733926e-16\n",
      " -1.87116240e-16]\n",
      "\n",
      "\n",
      "X_train std:\n",
      " [1. 1. 1. 1. 1. 1. 1. 1. 1. 1. 1. 1. 1.]\n"
     ]
    }
   ],
   "source": [
    "print('X_train mean:\\n', np.mean(X_train_scaled, axis=0))\n",
    "print('\\n')\n",
    "print('X_train std:\\n', np.std(X_train_scaled, axis=0))"
   ]
  },
  {
   "cell_type": "code",
   "execution_count": 26,
   "metadata": {
    "tags": []
   },
   "outputs": [
    {
     "name": "stdout",
     "output_type": "stream",
     "text": [
      "X_test mean:\n",
      " [ 0.35511179  0.21431495  0.10239947 -0.02594455  0.11134349 -0.02246239\n",
      " -0.1890019   0.06996847 -0.11638609  0.18560743 -0.10602121 -0.17051439\n",
      "  0.1762268 ]\n",
      "\n",
      "\n",
      "X_test std:\n",
      " [0.94189945 1.22132689 0.83674421 0.8463466  1.01309719 0.99611375\n",
      " 1.10316485 1.05881222 0.94696637 1.00131554 1.17806608 1.03521806\n",
      " 1.05378795]\n"
     ]
    }
   ],
   "source": [
    "print('X_test mean:\\n', np.mean(X_test_scaled, axis=0))\n",
    "print('\\n')\n",
    "print('X_test std:\\n', np.std(X_test_scaled, axis=0))"
   ]
  },
  {
   "cell_type": "markdown",
   "metadata": {},
   "source": [
    "## Learning a Model ##\n",
    "\n",
    "We now need to decide which model/algorithm we are going to use for our classification task. There are several models available in scikit-learn: https://scikit-learn.org/0.23/index.html"
   ]
  },
  {
   "cell_type": "markdown",
   "metadata": {},
   "source": [
    "We are going to start from the simplest models, that is, linear models: https://scikit-learn.org/0.23/modules/classes.html#module-sklearn.linear_model"
   ]
  },
  {
   "cell_type": "markdown",
   "metadata": {},
   "source": [
    "How do we find the best hypothesis?"
   ]
  },
  {
   "cell_type": "markdown",
   "metadata": {},
   "source": [
    "We need to define a loss function and then use Empirical Risk Minimization (ERM). \n",
    "\n",
    "What loss function does it make sense to use?"
   ]
  },
  {
   "cell_type": "markdown",
   "metadata": {},
   "source": [
    "But what is the actual algorithm? We are going to consider the **Perceptron** algorithm: https://scikit-learn.org/0.23/modules/generated/sklearn.linear_model.Perceptron.html\n",
    "\n",
    "Let's load the corresponding module in scikit-learn"
   ]
  },
  {
   "cell_type": "code",
   "execution_count": 27,
   "metadata": {
    "tags": []
   },
   "outputs": [],
   "source": [
    "from sklearn.linear_model import Perceptron"
   ]
  },
  {
   "cell_type": "markdown",
   "metadata": {},
   "source": [
    "Let's us the Perceptron algorithm as implemented in scikit-learn. It proceeds in iterations.\n",
    "\n",
    "The Perceptron has several parameters, some of which we will understand later on. An important one is $\\texttt{tol}$, that represents how much the training error should improve in one iteration for the algorithm to continue."
   ]
  },
  {
   "cell_type": "code",
   "execution_count": 28,
   "metadata": {
    "tags": []
   },
   "outputs": [
    {
     "data": {
      "text/html": [
       "<style>#sk-container-id-1 {\n",
       "  /* Definition of color scheme common for light and dark mode */\n",
       "  --sklearn-color-text: black;\n",
       "  --sklearn-color-line: gray;\n",
       "  /* Definition of color scheme for unfitted estimators */\n",
       "  --sklearn-color-unfitted-level-0: #fff5e6;\n",
       "  --sklearn-color-unfitted-level-1: #f6e4d2;\n",
       "  --sklearn-color-unfitted-level-2: #ffe0b3;\n",
       "  --sklearn-color-unfitted-level-3: chocolate;\n",
       "  /* Definition of color scheme for fitted estimators */\n",
       "  --sklearn-color-fitted-level-0: #f0f8ff;\n",
       "  --sklearn-color-fitted-level-1: #d4ebff;\n",
       "  --sklearn-color-fitted-level-2: #b3dbfd;\n",
       "  --sklearn-color-fitted-level-3: cornflowerblue;\n",
       "\n",
       "  /* Specific color for light theme */\n",
       "  --sklearn-color-text-on-default-background: var(--sg-text-color, var(--theme-code-foreground, var(--jp-content-font-color1, black)));\n",
       "  --sklearn-color-background: var(--sg-background-color, var(--theme-background, var(--jp-layout-color0, white)));\n",
       "  --sklearn-color-border-box: var(--sg-text-color, var(--theme-code-foreground, var(--jp-content-font-color1, black)));\n",
       "  --sklearn-color-icon: #696969;\n",
       "\n",
       "  @media (prefers-color-scheme: dark) {\n",
       "    /* Redefinition of color scheme for dark theme */\n",
       "    --sklearn-color-text-on-default-background: var(--sg-text-color, var(--theme-code-foreground, var(--jp-content-font-color1, white)));\n",
       "    --sklearn-color-background: var(--sg-background-color, var(--theme-background, var(--jp-layout-color0, #111)));\n",
       "    --sklearn-color-border-box: var(--sg-text-color, var(--theme-code-foreground, var(--jp-content-font-color1, white)));\n",
       "    --sklearn-color-icon: #878787;\n",
       "  }\n",
       "}\n",
       "\n",
       "#sk-container-id-1 {\n",
       "  color: var(--sklearn-color-text);\n",
       "}\n",
       "\n",
       "#sk-container-id-1 pre {\n",
       "  padding: 0;\n",
       "}\n",
       "\n",
       "#sk-container-id-1 input.sk-hidden--visually {\n",
       "  border: 0;\n",
       "  clip: rect(1px 1px 1px 1px);\n",
       "  clip: rect(1px, 1px, 1px, 1px);\n",
       "  height: 1px;\n",
       "  margin: -1px;\n",
       "  overflow: hidden;\n",
       "  padding: 0;\n",
       "  position: absolute;\n",
       "  width: 1px;\n",
       "}\n",
       "\n",
       "#sk-container-id-1 div.sk-dashed-wrapped {\n",
       "  border: 1px dashed var(--sklearn-color-line);\n",
       "  margin: 0 0.4em 0.5em 0.4em;\n",
       "  box-sizing: border-box;\n",
       "  padding-bottom: 0.4em;\n",
       "  background-color: var(--sklearn-color-background);\n",
       "}\n",
       "\n",
       "#sk-container-id-1 div.sk-container {\n",
       "  /* jupyter's `normalize.less` sets `[hidden] { display: none; }`\n",
       "     but bootstrap.min.css set `[hidden] { display: none !important; }`\n",
       "     so we also need the `!important` here to be able to override the\n",
       "     default hidden behavior on the sphinx rendered scikit-learn.org.\n",
       "     See: https://github.com/scikit-learn/scikit-learn/issues/21755 */\n",
       "  display: inline-block !important;\n",
       "  position: relative;\n",
       "}\n",
       "\n",
       "#sk-container-id-1 div.sk-text-repr-fallback {\n",
       "  display: none;\n",
       "}\n",
       "\n",
       "div.sk-parallel-item,\n",
       "div.sk-serial,\n",
       "div.sk-item {\n",
       "  /* draw centered vertical line to link estimators */\n",
       "  background-image: linear-gradient(var(--sklearn-color-text-on-default-background), var(--sklearn-color-text-on-default-background));\n",
       "  background-size: 2px 100%;\n",
       "  background-repeat: no-repeat;\n",
       "  background-position: center center;\n",
       "}\n",
       "\n",
       "/* Parallel-specific style estimator block */\n",
       "\n",
       "#sk-container-id-1 div.sk-parallel-item::after {\n",
       "  content: \"\";\n",
       "  width: 100%;\n",
       "  border-bottom: 2px solid var(--sklearn-color-text-on-default-background);\n",
       "  flex-grow: 1;\n",
       "}\n",
       "\n",
       "#sk-container-id-1 div.sk-parallel {\n",
       "  display: flex;\n",
       "  align-items: stretch;\n",
       "  justify-content: center;\n",
       "  background-color: var(--sklearn-color-background);\n",
       "  position: relative;\n",
       "}\n",
       "\n",
       "#sk-container-id-1 div.sk-parallel-item {\n",
       "  display: flex;\n",
       "  flex-direction: column;\n",
       "}\n",
       "\n",
       "#sk-container-id-1 div.sk-parallel-item:first-child::after {\n",
       "  align-self: flex-end;\n",
       "  width: 50%;\n",
       "}\n",
       "\n",
       "#sk-container-id-1 div.sk-parallel-item:last-child::after {\n",
       "  align-self: flex-start;\n",
       "  width: 50%;\n",
       "}\n",
       "\n",
       "#sk-container-id-1 div.sk-parallel-item:only-child::after {\n",
       "  width: 0;\n",
       "}\n",
       "\n",
       "/* Serial-specific style estimator block */\n",
       "\n",
       "#sk-container-id-1 div.sk-serial {\n",
       "  display: flex;\n",
       "  flex-direction: column;\n",
       "  align-items: center;\n",
       "  background-color: var(--sklearn-color-background);\n",
       "  padding-right: 1em;\n",
       "  padding-left: 1em;\n",
       "}\n",
       "\n",
       "\n",
       "/* Toggleable style: style used for estimator/Pipeline/ColumnTransformer box that is\n",
       "clickable and can be expanded/collapsed.\n",
       "- Pipeline and ColumnTransformer use this feature and define the default style\n",
       "- Estimators will overwrite some part of the style using the `sk-estimator` class\n",
       "*/\n",
       "\n",
       "/* Pipeline and ColumnTransformer style (default) */\n",
       "\n",
       "#sk-container-id-1 div.sk-toggleable {\n",
       "  /* Default theme specific background. It is overwritten whether we have a\n",
       "  specific estimator or a Pipeline/ColumnTransformer */\n",
       "  background-color: var(--sklearn-color-background);\n",
       "}\n",
       "\n",
       "/* Toggleable label */\n",
       "#sk-container-id-1 label.sk-toggleable__label {\n",
       "  cursor: pointer;\n",
       "  display: block;\n",
       "  width: 100%;\n",
       "  margin-bottom: 0;\n",
       "  padding: 0.5em;\n",
       "  box-sizing: border-box;\n",
       "  text-align: center;\n",
       "}\n",
       "\n",
       "#sk-container-id-1 label.sk-toggleable__label-arrow:before {\n",
       "  /* Arrow on the left of the label */\n",
       "  content: \"▸\";\n",
       "  float: left;\n",
       "  margin-right: 0.25em;\n",
       "  color: var(--sklearn-color-icon);\n",
       "}\n",
       "\n",
       "#sk-container-id-1 label.sk-toggleable__label-arrow:hover:before {\n",
       "  color: var(--sklearn-color-text);\n",
       "}\n",
       "\n",
       "/* Toggleable content - dropdown */\n",
       "\n",
       "#sk-container-id-1 div.sk-toggleable__content {\n",
       "  max-height: 0;\n",
       "  max-width: 0;\n",
       "  overflow: hidden;\n",
       "  text-align: left;\n",
       "  /* unfitted */\n",
       "  background-color: var(--sklearn-color-unfitted-level-0);\n",
       "}\n",
       "\n",
       "#sk-container-id-1 div.sk-toggleable__content.fitted {\n",
       "  /* fitted */\n",
       "  background-color: var(--sklearn-color-fitted-level-0);\n",
       "}\n",
       "\n",
       "#sk-container-id-1 div.sk-toggleable__content pre {\n",
       "  margin: 0.2em;\n",
       "  border-radius: 0.25em;\n",
       "  color: var(--sklearn-color-text);\n",
       "  /* unfitted */\n",
       "  background-color: var(--sklearn-color-unfitted-level-0);\n",
       "}\n",
       "\n",
       "#sk-container-id-1 div.sk-toggleable__content.fitted pre {\n",
       "  /* unfitted */\n",
       "  background-color: var(--sklearn-color-fitted-level-0);\n",
       "}\n",
       "\n",
       "#sk-container-id-1 input.sk-toggleable__control:checked~div.sk-toggleable__content {\n",
       "  /* Expand drop-down */\n",
       "  max-height: 200px;\n",
       "  max-width: 100%;\n",
       "  overflow: auto;\n",
       "}\n",
       "\n",
       "#sk-container-id-1 input.sk-toggleable__control:checked~label.sk-toggleable__label-arrow:before {\n",
       "  content: \"▾\";\n",
       "}\n",
       "\n",
       "/* Pipeline/ColumnTransformer-specific style */\n",
       "\n",
       "#sk-container-id-1 div.sk-label input.sk-toggleable__control:checked~label.sk-toggleable__label {\n",
       "  color: var(--sklearn-color-text);\n",
       "  background-color: var(--sklearn-color-unfitted-level-2);\n",
       "}\n",
       "\n",
       "#sk-container-id-1 div.sk-label.fitted input.sk-toggleable__control:checked~label.sk-toggleable__label {\n",
       "  background-color: var(--sklearn-color-fitted-level-2);\n",
       "}\n",
       "\n",
       "/* Estimator-specific style */\n",
       "\n",
       "/* Colorize estimator box */\n",
       "#sk-container-id-1 div.sk-estimator input.sk-toggleable__control:checked~label.sk-toggleable__label {\n",
       "  /* unfitted */\n",
       "  background-color: var(--sklearn-color-unfitted-level-2);\n",
       "}\n",
       "\n",
       "#sk-container-id-1 div.sk-estimator.fitted input.sk-toggleable__control:checked~label.sk-toggleable__label {\n",
       "  /* fitted */\n",
       "  background-color: var(--sklearn-color-fitted-level-2);\n",
       "}\n",
       "\n",
       "#sk-container-id-1 div.sk-label label.sk-toggleable__label,\n",
       "#sk-container-id-1 div.sk-label label {\n",
       "  /* The background is the default theme color */\n",
       "  color: var(--sklearn-color-text-on-default-background);\n",
       "}\n",
       "\n",
       "/* On hover, darken the color of the background */\n",
       "#sk-container-id-1 div.sk-label:hover label.sk-toggleable__label {\n",
       "  color: var(--sklearn-color-text);\n",
       "  background-color: var(--sklearn-color-unfitted-level-2);\n",
       "}\n",
       "\n",
       "/* Label box, darken color on hover, fitted */\n",
       "#sk-container-id-1 div.sk-label.fitted:hover label.sk-toggleable__label.fitted {\n",
       "  color: var(--sklearn-color-text);\n",
       "  background-color: var(--sklearn-color-fitted-level-2);\n",
       "}\n",
       "\n",
       "/* Estimator label */\n",
       "\n",
       "#sk-container-id-1 div.sk-label label {\n",
       "  font-family: monospace;\n",
       "  font-weight: bold;\n",
       "  display: inline-block;\n",
       "  line-height: 1.2em;\n",
       "}\n",
       "\n",
       "#sk-container-id-1 div.sk-label-container {\n",
       "  text-align: center;\n",
       "}\n",
       "\n",
       "/* Estimator-specific */\n",
       "#sk-container-id-1 div.sk-estimator {\n",
       "  font-family: monospace;\n",
       "  border: 1px dotted var(--sklearn-color-border-box);\n",
       "  border-radius: 0.25em;\n",
       "  box-sizing: border-box;\n",
       "  margin-bottom: 0.5em;\n",
       "  /* unfitted */\n",
       "  background-color: var(--sklearn-color-unfitted-level-0);\n",
       "}\n",
       "\n",
       "#sk-container-id-1 div.sk-estimator.fitted {\n",
       "  /* fitted */\n",
       "  background-color: var(--sklearn-color-fitted-level-0);\n",
       "}\n",
       "\n",
       "/* on hover */\n",
       "#sk-container-id-1 div.sk-estimator:hover {\n",
       "  /* unfitted */\n",
       "  background-color: var(--sklearn-color-unfitted-level-2);\n",
       "}\n",
       "\n",
       "#sk-container-id-1 div.sk-estimator.fitted:hover {\n",
       "  /* fitted */\n",
       "  background-color: var(--sklearn-color-fitted-level-2);\n",
       "}\n",
       "\n",
       "/* Specification for estimator info (e.g. \"i\" and \"?\") */\n",
       "\n",
       "/* Common style for \"i\" and \"?\" */\n",
       "\n",
       ".sk-estimator-doc-link,\n",
       "a:link.sk-estimator-doc-link,\n",
       "a:visited.sk-estimator-doc-link {\n",
       "  float: right;\n",
       "  font-size: smaller;\n",
       "  line-height: 1em;\n",
       "  font-family: monospace;\n",
       "  background-color: var(--sklearn-color-background);\n",
       "  border-radius: 1em;\n",
       "  height: 1em;\n",
       "  width: 1em;\n",
       "  text-decoration: none !important;\n",
       "  margin-left: 1ex;\n",
       "  /* unfitted */\n",
       "  border: var(--sklearn-color-unfitted-level-1) 1pt solid;\n",
       "  color: var(--sklearn-color-unfitted-level-1);\n",
       "}\n",
       "\n",
       ".sk-estimator-doc-link.fitted,\n",
       "a:link.sk-estimator-doc-link.fitted,\n",
       "a:visited.sk-estimator-doc-link.fitted {\n",
       "  /* fitted */\n",
       "  border: var(--sklearn-color-fitted-level-1) 1pt solid;\n",
       "  color: var(--sklearn-color-fitted-level-1);\n",
       "}\n",
       "\n",
       "/* On hover */\n",
       "div.sk-estimator:hover .sk-estimator-doc-link:hover,\n",
       ".sk-estimator-doc-link:hover,\n",
       "div.sk-label-container:hover .sk-estimator-doc-link:hover,\n",
       ".sk-estimator-doc-link:hover {\n",
       "  /* unfitted */\n",
       "  background-color: var(--sklearn-color-unfitted-level-3);\n",
       "  color: var(--sklearn-color-background);\n",
       "  text-decoration: none;\n",
       "}\n",
       "\n",
       "div.sk-estimator.fitted:hover .sk-estimator-doc-link.fitted:hover,\n",
       ".sk-estimator-doc-link.fitted:hover,\n",
       "div.sk-label-container:hover .sk-estimator-doc-link.fitted:hover,\n",
       ".sk-estimator-doc-link.fitted:hover {\n",
       "  /* fitted */\n",
       "  background-color: var(--sklearn-color-fitted-level-3);\n",
       "  color: var(--sklearn-color-background);\n",
       "  text-decoration: none;\n",
       "}\n",
       "\n",
       "/* Span, style for the box shown on hovering the info icon */\n",
       ".sk-estimator-doc-link span {\n",
       "  display: none;\n",
       "  z-index: 9999;\n",
       "  position: relative;\n",
       "  font-weight: normal;\n",
       "  right: .2ex;\n",
       "  padding: .5ex;\n",
       "  margin: .5ex;\n",
       "  width: min-content;\n",
       "  min-width: 20ex;\n",
       "  max-width: 50ex;\n",
       "  color: var(--sklearn-color-text);\n",
       "  box-shadow: 2pt 2pt 4pt #999;\n",
       "  /* unfitted */\n",
       "  background: var(--sklearn-color-unfitted-level-0);\n",
       "  border: .5pt solid var(--sklearn-color-unfitted-level-3);\n",
       "}\n",
       "\n",
       ".sk-estimator-doc-link.fitted span {\n",
       "  /* fitted */\n",
       "  background: var(--sklearn-color-fitted-level-0);\n",
       "  border: var(--sklearn-color-fitted-level-3);\n",
       "}\n",
       "\n",
       ".sk-estimator-doc-link:hover span {\n",
       "  display: block;\n",
       "}\n",
       "\n",
       "/* \"?\"-specific style due to the `<a>` HTML tag */\n",
       "\n",
       "#sk-container-id-1 a.estimator_doc_link {\n",
       "  float: right;\n",
       "  font-size: 1rem;\n",
       "  line-height: 1em;\n",
       "  font-family: monospace;\n",
       "  background-color: var(--sklearn-color-background);\n",
       "  border-radius: 1rem;\n",
       "  height: 1rem;\n",
       "  width: 1rem;\n",
       "  text-decoration: none;\n",
       "  /* unfitted */\n",
       "  color: var(--sklearn-color-unfitted-level-1);\n",
       "  border: var(--sklearn-color-unfitted-level-1) 1pt solid;\n",
       "}\n",
       "\n",
       "#sk-container-id-1 a.estimator_doc_link.fitted {\n",
       "  /* fitted */\n",
       "  border: var(--sklearn-color-fitted-level-1) 1pt solid;\n",
       "  color: var(--sklearn-color-fitted-level-1);\n",
       "}\n",
       "\n",
       "/* On hover */\n",
       "#sk-container-id-1 a.estimator_doc_link:hover {\n",
       "  /* unfitted */\n",
       "  background-color: var(--sklearn-color-unfitted-level-3);\n",
       "  color: var(--sklearn-color-background);\n",
       "  text-decoration: none;\n",
       "}\n",
       "\n",
       "#sk-container-id-1 a.estimator_doc_link.fitted:hover {\n",
       "  /* fitted */\n",
       "  background-color: var(--sklearn-color-fitted-level-3);\n",
       "}\n",
       "</style><div id=\"sk-container-id-1\" class=\"sk-top-container\"><div class=\"sk-text-repr-fallback\"><pre>Perceptron(random_state=2042762)</pre><b>In a Jupyter environment, please rerun this cell to show the HTML representation or trust the notebook. <br />On GitHub, the HTML representation is unable to render, please try loading this page with nbviewer.org.</b></div><div class=\"sk-container\" hidden><div class=\"sk-item\"><div class=\"sk-estimator fitted sk-toggleable\"><input class=\"sk-toggleable__control sk-hidden--visually\" id=\"sk-estimator-id-1\" type=\"checkbox\" checked><label for=\"sk-estimator-id-1\" class=\"sk-toggleable__label fitted sk-toggleable__label-arrow fitted\">&nbsp;&nbsp;Perceptron<a class=\"sk-estimator-doc-link fitted\" rel=\"noreferrer\" target=\"_blank\" href=\"https://scikit-learn.org/1.5/modules/generated/sklearn.linear_model.Perceptron.html\">?<span>Documentation for Perceptron</span></a><span class=\"sk-estimator-doc-link fitted\">i<span>Fitted</span></span></label><div class=\"sk-toggleable__content fitted\"><pre>Perceptron(random_state=2042762)</pre></div> </div></div></div></div>"
      ],
      "text/plain": [
       "Perceptron(random_state=2042762)"
      ]
     },
     "execution_count": 28,
     "metadata": {},
     "output_type": "execute_result"
    }
   ],
   "source": [
    "#let's learn a model using Perceptron\n",
    "\n",
    "# -- we first define the classifier, fixing the random state for reproducibility\n",
    "# The perceptron shuffles the data.\n",
    "perceptron = Perceptron(random_state = IDnumber, tol=1e-3)\n",
    "\n",
    "# -- let's now learn the classifier (i.e., run the perceptron to fix the weights)\n",
    "perceptron.fit(X_train_scaled, Y_train)"
   ]
  },
  {
   "cell_type": "markdown",
   "metadata": {},
   "source": [
    "Let's print out the model we learned."
   ]
  },
  {
   "cell_type": "code",
   "execution_count": 29,
   "metadata": {
    "tags": []
   },
   "outputs": [
    {
     "name": "stdout",
     "output_type": "stream",
     "text": [
      "Coefficient of features in the model we learned:\n",
      "[[-5.44632659 -2.06353069 -3.97840896  3.48907372 -0.64022509 -0.63631464\n",
      "  -0.33078314 -0.01959117  1.49554209 -4.11472154  2.42133892  0.21751931\n",
      "  -3.60813031]]\n",
      "Bias in the model we learned:\n",
      "[-1.]\n"
     ]
    }
   ],
   "source": [
    "print(\"Coefficient of features in the model we learned:\")\n",
    "print(perceptron.coef_)\n",
    "\n",
    "print(\"Bias in the model we learned:\")\n",
    "print(perceptron.intercept_)"
   ]
  },
  {
   "cell_type": "markdown",
   "metadata": {},
   "source": [
    "How well does our method perform?\n",
    "\n",
    "We need to compute the training error of the hypothesis $h_S$ we learned from the training set $S$. There is no function in scikit-learn to compute the training error $L_S(h_S)$. However, there is a function to compute the **score**, that for the 0-1 loss corresponds to $1 - L_S(h_S)$."
   ]
  },
  {
   "cell_type": "code",
   "execution_count": 30,
   "metadata": {
    "tags": []
   },
   "outputs": [
    {
     "name": "stdout",
     "output_type": "stream",
     "text": [
      "Training error:  0.0\n"
     ]
    }
   ],
   "source": [
    "# -- let's compute the training error\n",
    "training_error = 1.0 - perceptron.score(X_train_scaled, Y_train)\n",
    "\n",
    "# -- let's print the training error\n",
    "print(\"Training error: \", training_error)"
   ]
  },
  {
   "cell_type": "markdown",
   "metadata": {},
   "source": [
    "But we don't care about the training error... we are interested in the generalization error! How do we estimate it? Let's use some data that we did not use for training, that is what we called test data."
   ]
  },
  {
   "cell_type": "code",
   "execution_count": 31,
   "metadata": {
    "tags": []
   },
   "outputs": [
    {
     "name": "stdout",
     "output_type": "stream",
     "text": [
      "Test error:  0.0337078651685393\n"
     ]
    }
   ],
   "source": [
    "# -- let's compute the test error\n",
    "test_error = 1.0 - perceptron.score(X_test_scaled, Y_test)\n",
    "\n",
    "# -- let's print the test error\n",
    "print(\"Test error: \", test_error)"
   ]
  },
  {
   "cell_type": "markdown",
   "metadata": {},
   "source": [
    "## Impact of the amount of training data ##\n",
    "\n",
    "We will now try to understand the impact of the amount of data we have for training.\n",
    "\n",
    "To do this, we are going to train a model using a subset of the data with $10*i$ samples, for $i=1,2,3,\\dots,10$, and then compute the training error and the test error."
   ]
  },
  {
   "cell_type": "code",
   "execution_count": 32,
   "metadata": {
    "tags": []
   },
   "outputs": [],
   "source": [
    "def compute_errors(X, Y, n_samples):\n",
    "\n",
    "    # -- total number of samples, useful for later on\n",
    "    m_total = X.shape[0]\n",
    "    \n",
    "    # -- two lists where to save the training error and the test error, useful for plotting\n",
    "    train_errors = list()\n",
    "    test_errors = list()\n",
    "    \n",
    "    # -- let's define the learner we use in this part\n",
    "    perceptron = Perceptron(random_state = IDnumber, tol=1e-3)\n",
    "    \n",
    "    for idx_iter in range(10, n_samples + 1):\n",
    "        # -- we now repeat all the previous steps\n",
    "        # -- split into training and test\n",
    "        m_training = idx_iter\n",
    "        \n",
    "        X_train = X[:m_training,:]\n",
    "        Y_train = Y[:m_training]\n",
    "    \n",
    "        X_test = X[m_training:,]\n",
    "        Y_test = Y[m_training:]\n",
    "        \n",
    "        # -- scale the data according to the training test, for both training and testing\n",
    "        scaler = StandardScaler().fit(X_train)\n",
    "        X_train_scaled = scaler.transform(X_train)\n",
    "        X_test_scaled =  scaler.transform(X_test)\n",
    "        \n",
    "        # -- let's now learn the classifier (i.e., run the perceptron to fix the weights)\n",
    "        perceptron.fit(X_train_scaled, Y_train)\n",
    "        \n",
    "        train_errors.append(1.0 - perceptron.score(X_train_scaled, Y_train))\n",
    "        test_errors.append(1.0 - perceptron.score(X_test_scaled, Y_test))\n",
    "\n",
    "    return train_errors, test_errors\n"
   ]
  },
  {
   "cell_type": "code",
   "execution_count": 33,
   "metadata": {},
   "outputs": [],
   "source": [
    "def plot_errors(X, Y, n_samples):\n",
    "    train_errors, test_errors = compute_errors(X, Y, n_samples)\n",
    "    \n",
    "    sample_range = list(range(10, n_samples + 1))\n",
    "    \n",
    "    plt.plot(sample_range, train_errors, 'x:', markevery= n_samples // 10)\n",
    "    plt.plot(sample_range, test_errors, 'o--', markevery= n_samples // 10)\n",
    "    \n",
    "    plt.xlabel(\"Number of samples\")\n",
    "    plt.ylabel(\"Error\")\n",
    "    plt.legend([\"Training error\",\"Test error\"])\n",
    "    plt.show()"
   ]
  },
  {
   "cell_type": "code",
   "execution_count": 34,
   "metadata": {},
   "outputs": [
    {
     "data": {
      "image/png": "[encoded data removed]",
      "text/plain": [
       "<Figure size 640x480 with 1 Axes>"
      ]
     },
     "metadata": {},
     "output_type": "display_data"
    }
   ],
   "source": [
    "n_samples = 90\n",
    "plot_errors(X_perm, Y_perm, n_samples)"
   ]
  },
  {
   "cell_type": "markdown",
   "metadata": {},
   "source": [
    "Now let's plot the training and test error as a function of the training dataset size."
   ]
  },
  {
   "cell_type": "markdown",
   "metadata": {
    "tags": []
   },
   "source": [
    "## Impact of random_state by the perceptron \n",
    "\n",
    "Let's learn a model with a different random seed for the Perceptron and see how different the model is from the previous one."
   ]
  },
  {
   "cell_type": "code",
   "execution_count": 40,
   "metadata": {
    "tags": []
   },
   "outputs": [
    {
     "name": "stdout",
     "output_type": "stream",
     "text": [
      "Training error of old perceptron:  0.0\n",
      "Training error of new perceptron:  0.0\n",
      "Test error of old perceptron:  0.0337078651685393\n",
      "Test error of new perceptron:  0.011235955056179803\n"
     ]
    }
   ],
   "source": [
    "#let's learn a new model using Perceptron\n",
    "\n",
    "# -- we first define the classifier, fixing the random state for reproducibility\n",
    "old_perceptron = Perceptron(random_state = 1*IDnumber, tol=1e-3)\n",
    "new_perceptron = Perceptron(random_state = 2*IDnumber, tol=1e-3)\n",
    "\n",
    "# --let's now learn the classifier (i.e., run the perceptron to fix the weights)\n",
    "old_perceptron.fit(X_train_scaled, Y_train)\n",
    "new_perceptron.fit(X_train_scaled, Y_train)\n",
    "\n",
    "\n",
    "# -- let's print the training error\n",
    "print(\"Training error of old perceptron: \", 1.0 - old_perceptron.score(X_train_scaled, Y_train))\n",
    "print(\"Training error of new perceptron: \", 1.0 - new_perceptron.score(X_train_scaled, Y_train))\n",
    "\n",
    "# -- let's print the test error\n",
    "print(\"Test error of old perceptron: \", 1.0 - old_perceptron.score(X_test_scaled, Y_test))\n",
    "print(\"Test error of new perceptron: \", 1.0 - new_perceptron.score(X_test_scaled, Y_test))"
   ]
  },
  {
   "cell_type": "code",
   "execution_count": 41,
   "metadata": {},
   "outputs": [],
   "source": [
    "def plot_model_parameters(old_perceptron, new_perceptron):\n",
    "    \n",
    "    # -- let's plot the parameters of the two different models\n",
    "    \n",
    "    fig, axs = plt.subplots(1, 1)\n",
    "    \n",
    "    axs.bar(x = range(0, 42, 3), height = np.append(old_perceptron.coef_[0], old_perceptron.intercept_), \n",
    "            color='C0', edgecolor='k', linewidth=.5);\n",
    "    axs.bar(x = range(1, 42, 3), height = np.append(new_perceptron.coef_[0], new_perceptron.intercept_), \n",
    "            color='C1', edgecolor='k',  linewidth=.5);\n",
    "    bars = {'OLD Perceptron parameters' : 'C0', 'NEW Perceptron parameters' : 'C1'}\n",
    "    labels = bars.keys()\n",
    "    handles = [plt.Rectangle((0,0),1,1, color=bars[label], ec='k') for label in labels]\n",
    "    axs.axhline(y = 0, color='k', linewidth=0.25);\n",
    "    \n",
    "    axs.legend(handles, labels, loc='best', frameon=False)\n",
    "    \n",
    "    # -- axis labels\n",
    "    axs.set_xlabel('Parameter (weights and bias)', fontsize=14)\n",
    "    axs.set_ylabel('Value',  fontsize=14)\n",
    "    # -- ticks\n",
    "    axs.set_xticks([0.5 + 3*i for i in range(14)]);\n",
    "    xlabels = [f'$w_{ {i+1} }$' for i in range(13)];\n",
    "    xlabels.append('$b$')\n",
    "    axs.set_xticklabels(xlabels);\n",
    "    axs.tick_params(axis='y', labelsize=14)\n",
    "    axs.tick_params(axis='x', labelsize=11)\n"
   ]
  },
  {
   "cell_type": "code",
   "execution_count": 42,
   "metadata": {},
   "outputs": [
    {
     "data": {
      "image/png": "[encoded data removed]",
      "text/plain": [
       "<Figure size 640x480 with 1 Axes>"
      ]
     },
     "metadata": {},
     "output_type": "display_data"
    }
   ],
   "source": [
    "plot_model_parameters(old_perceptron, new_perceptron)"
   ]
  },
  {
   "cell_type": "code",
   "execution_count": 58,
   "metadata": {},
   "outputs": [
    {
     "name": "stdout",
     "output_type": "stream",
     "text": [
      "Old perceptron and new perceptron desagree on sample number 3\n",
      "Old perceptron and new perceptron desagree on sample number 35\n"
     ]
    }
   ],
   "source": [
    "# -- the following is to show that, besides the different parameters, the models will also perform differently on classification task.\n",
    "# -- try both for X_train_scaled and X_test_scaled\n",
    "\n",
    "w_1 = old_perceptron.coef_\n",
    "b_1 = old_perceptron.intercept_\n",
    "w_2 = new_perceptron.coef_\n",
    "b_2 = new_perceptron.intercept_\n",
    "\n",
    "# for each sample in the test set, print out the prediction of both models when they disagree and the index of the sample\n",
    "for i, x in enumerate(X_test_scaled):\n",
    "    predict_1 = np.sign(np.dot(w_1, x) + b_1)\n",
    "    predict_2 = np.sign(np.dot(w_2, x) + b_2)\n",
    "    #print(\"OLD:\", predict_1, \"NEW:\", predict_2)\n",
    "    if predict_1 != predict_2:\n",
    "        print(\"Old perceptron and new perceptron desagree on sample number\", i)\n",
    "\n",
    "# -- you can see that for training set there are no such misclassified samples (indeed, they both have training error = 0.0)!\n",
    "# i.e. they agree for the training sample."
   ]
  },
  {
   "cell_type": "markdown",
   "metadata": {},
   "source": [
    "## Impact of normalization\n",
    "\n",
    "Let's try to understand what the impact of scaling data is. Let's learn a model without without normalizing the data."
   ]
  },
  {
   "cell_type": "code",
   "execution_count": 59,
   "metadata": {
    "tags": []
   },
   "outputs": [
    {
     "name": "stdout",
     "output_type": "stream",
     "text": [
      "Training error (not-scaled model): 0.2471910112359551\n",
      "Training error (scaled model):     0.0\n",
      "---\n",
      "Test error (not-scaled model): 0.2471910112359551\n",
      "Test error (scaled model):     0.0337078651685393\n",
      "---\n",
      "NEW MODEL - Coefficients of features:\n",
      "[[ 768.83   -69.89   136.14  1710.5   5576.     241.19   242.99    37.74\n",
      "   170.9   -638.08   142.742  344.75  -992.   ]]\n",
      "PREVIOUS MODEL - Coefficients of features:\n",
      "[[-5.44632659 -2.06353069 -3.97840896  3.48907372 -0.64022509 -0.63631464\n",
      "  -0.33078314 -0.01959117  1.49554209 -4.11472154  2.42133892  0.21751931\n",
      "  -3.60813031]]\n",
      "NEW MODEL - Bias: [87.]\n",
      "PREVIOUS MODEL - Bias: [-1.]\n"
     ]
    }
   ],
   "source": [
    "# -- let's learn a new model using Perceptron\n",
    "\n",
    "# -- we first define the classifier, fixing the random state for reproducibility\n",
    "perceptron_not_scaled = Perceptron(random_state = IDnumber, tol=1e-3)\n",
    "# -- let's now learn the classifier (i.e., run the perceptron to fix the weights)\n",
    "perceptron_not_scaled.fit(X_train, Y_train)\n",
    "\n",
    "# -- let's print the training error\n",
    "print(f'Training error (not-scaled model): {1.0 - perceptron_not_scaled.score(X_train, Y_train)}')\n",
    "print(f'Training error (scaled model):     {1.0 - old_perceptron.score(X_train_scaled, Y_train)}')\n",
    "\n",
    "print('---')\n",
    "\n",
    "# -- let's print the test error\n",
    "print(f'Test error (not-scaled model): {1.0 - perceptron_not_scaled.score(X_test, Y_test)}')\n",
    "print(f'Test error (scaled model):     {1.0 - old_perceptron.score(X_test_scaled, Y_test)}')\n",
    "\n",
    "print('---')\n",
    "\n",
    "# -- let's print out the features of the model we just learned\n",
    "print(\"NEW MODEL - Coefficients of features:\")\n",
    "print(perceptron_not_scaled.coef_)\n",
    "print(\"PREVIOUS MODEL - Coefficients of features:\")\n",
    "print(old_perceptron.coef_)\n",
    "\n",
    "print(\"NEW MODEL - Bias:\", perceptron_not_scaled.intercept_)\n",
    "print(\"PREVIOUS MODEL - Bias:\", old_perceptron.intercept_)"
   ]
  },
  {
   "cell_type": "code",
   "execution_count": 60,
   "metadata": {
    "scrolled": true
   },
   "outputs": [
    {
     "data": {
      "image/png": "[encoded data removed]",
      "text/plain": [
       "<Figure size 640x480 with 1 Axes>"
      ]
     },
     "metadata": {},
     "output_type": "display_data"
    }
   ],
   "source": [
    "plot_model_parameters(old_perceptron, perceptron_not_scaled)"
   ]
  },
  {
   "cell_type": "markdown",
   "metadata": {},
   "source": [
    "## Impact of number of iterations\n",
    "\n",
    "Let's write the code that performs one epoch at the time, and let' compute the training error after iteration."
   ]
  },
  {
   "cell_type": "code",
   "execution_count": 63,
   "metadata": {
    "tags": []
   },
   "outputs": [
    {
     "name": "stdout",
     "output_type": "stream",
     "text": [
      "# Iteration 01 - Training error: 0.022471910112359605\n",
      "# Iteration 01 - Test error: 0.101123595505618\n",
      "# Iteration 02 - Training error: 0.011235955056179803\n",
      "# Iteration 02 - Test error: 0.0337078651685393\n",
      "# Iteration 03 - Training error: 0.011235955056179803\n",
      "# Iteration 03 - Test error: 0.0674157303370787\n",
      "# Iteration 04 - Training error: 0.011235955056179803\n",
      "# Iteration 04 - Test error: 0.0449438202247191\n",
      "# Iteration 05 - Training error: 0.0\n",
      "# Iteration 05 - Test error: 0.0337078651685393\n",
      "# Iteration 06 - Training error: 0.0\n",
      "# Iteration 06 - Test error: 0.0337078651685393\n",
      "# Iteration 07 - Training error: 0.0\n",
      "# Iteration 07 - Test error: 0.0337078651685393\n",
      "# Iteration 08 - Training error: 0.0\n",
      "# Iteration 08 - Test error: 0.0337078651685393\n",
      "# Iteration 09 - Training error: 0.0\n",
      "# Iteration 09 - Test error: 0.0337078651685393\n",
      "# Iteration 10 - Training error: 0.0\n",
      "# Iteration 10 - Test error: 0.0337078651685393\n"
     ]
    },
    {
     "data": {
      "image/png": "[encoded data removed]",
      "text/plain": [
       "<Figure size 640x480 with 1 Axes>"
      ]
     },
     "metadata": {},
     "output_type": "display_data"
    }
   ],
   "source": [
    "# -- we first define the classifier, fixing the random state for reproducibility\n",
    "# -- the following results in the test error being smaller when the training error is !=0, and training NOT monotonic\n",
    "perceptron_single_iter = Perceptron(random_state = 167*IDnumber)\n",
    "\n",
    "# -- let's now run 1 iteration of perceptron\n",
    "# -- see documentation for partial fit (uses max_iter = 1 = epoch)\n",
    "perceptron_single_iter.partial_fit(X_train_scaled, Y_train, classes = Y_train)\n",
    "\n",
    "# -- let's compute the training error\n",
    "training_error = 1.0 - perceptron_single_iter.score(X_train_scaled, Y_train)\n",
    "# -- let's print the training error\n",
    "print(f\"# Iteration {1:02d} - Training error:\", training_error)\n",
    "# -- let's compute the test error\n",
    "test_error = 1.0 - perceptron_single_iter.score(X_test_scaled, Y_test)\n",
    "# -- let's print the test error\n",
    "print(f\"# Iteration {1:02d} - Test error:\", test_error)\n",
    "\n",
    "# -- let's store the training error and the test error across interations so that we can plot them later on\n",
    "training_error_iters = list()\n",
    "training_error_iters.append(training_error)\n",
    "test_error_iters = list()\n",
    "test_error_iters.append(test_error)\n",
    "\n",
    "# -- let's run for more iterations\n",
    "for i in range(2, 11):\n",
    "    \n",
    "    # -- each time we are providing the model with one additional epoch\n",
    "    perceptron_single_iter.partial_fit(X_train_scaled, Y_train, classes = Y_train)\n",
    "    \n",
    "    # -- let's compute the training error\n",
    "    training_error = 1.0 - perceptron_single_iter.score(X_train_scaled, Y_train)\n",
    "    # -- let's print the training errors\n",
    "    print(f\"# Iteration {i:02d} - Training error:\", training_error)\n",
    "    # -- store training errors\n",
    "    training_error_iters.append(training_error)\n",
    "\n",
    "    # -- let's compute the test error\n",
    "    test_error = 1.0 - perceptron_single_iter.score(X_test_scaled, Y_test)\n",
    "    # -- let's print the training error\n",
    "    print(f\"# Iteration {i:02d} - Test error:\", test_error)\n",
    "    # -- store test errors\n",
    "    test_error_iters.append(test_error)\n",
    "    \n",
    "#let's plot the training error and the test errors across interations\n",
    "x_axis=range(1, len(training_error_iters)+1, 1)\n",
    "plt.plot(x_axis, training_error_iters,'x:');\n",
    "# plt.legend([\"Traninig error\"])\n",
    "plt.plot(x_axis, test_error_iters,'o:');\n",
    "plt.xlabel(\"Iteration\")\n",
    "plt.ylabel(\"Error\")\n",
    "plt.legend([\"Training error\",\"Test error\"]);"
   ]
  },
  {
   "cell_type": "markdown",
   "metadata": {},
   "source": [
    "From 2 to 3 iteration we note the overfitting problem!"
   ]
  }
 ],
 "metadata": {
  "anaconda-cloud": {},
  "kernelspec": {
   "display_name": "Python 3 (ipykernel)",
   "language": "python",
   "name": "python3"
  },
  "language_info": {
   "codemirror_mode": {
    "name": "ipython",
    "version": 3
   },
   "file_extension": ".py",
   "mimetype": "text/x-python",
   "name": "python",
   "nbconvert_exporter": "python",
   "pygments_lexer": "ipython3",
   "version": "3.12.7"
  }
 },
 "nbformat": 4,
 "nbformat_minor": 4
}
