{
 "cells": [
  {
   "cell_type": "markdown",
   "metadata": {},
   "source": [
    "#  Regression on House Pricing Dataset: Regularization and Feature Selection\n",
    "We consider a reduced version of a dataset containing house sale prices for King County, which includes Seattle. It consists in homes sold between May 2014 and May 2015.\n",
    "\n",
    "Link to the dataset: https://www.kaggle.com/harlfoxem/housesalesprediction\n",
    "\n",
    "For each house we know 18 house features (e.g., number of bedrooms, number of bathrooms, etc.) plus its price, that is what we would like to predict."
   ]
  },
  {
   "cell_type": "markdown",
   "metadata": {},
   "source": [
    "## Insert your ID number (\"numero di matricola\") below"
   ]
  },
  {
   "cell_type": "code",
   "execution_count": 1,
   "metadata": {
    "tags": []
   },
   "outputs": [],
   "source": [
    "# -- put here your ID Number (\"numero di matricola\")\n",
    "ID_number = 1 # COMPLETE"
   ]
  },
  {
   "cell_type": "code",
   "execution_count": 3,
   "metadata": {
    "tags": []
   },
   "outputs": [],
   "source": [
    "# -- import all packages needed\n",
    "# -- pandas: software library for data analysis and data manipulation\n",
    "%matplotlib inline\n",
    "import pandas as pd\n",
    "import numpy as np\n",
    "import matplotlib.pyplot as plt"
   ]
  },
  {
   "cell_type": "markdown",
   "metadata": {},
   "source": [
    "Load the data, remove data samples with missing values (NaN) and take a look at them."
   ]
  },
  {
   "cell_type": "code",
   "execution_count": 4,
   "metadata": {
    "tags": []
   },
   "outputs": [
    {
     "data": {
      "text/html": [
       "<div>\n",
       "<style scoped>\n",
       "    .dataframe tbody tr th:only-of-type {\n",
       "        vertical-align: middle;\n",
       "    }\n",
       "\n",
       "    .dataframe tbody tr th {\n",
       "        vertical-align: top;\n",
       "    }\n",
       "\n",
       "    .dataframe thead th {\n",
       "        text-align: right;\n",
       "    }\n",
       "</style>\n",
       "<table border=\"1\" class=\"dataframe\">\n",
       "  <thead>\n",
       "    <tr style=\"text-align: right;\">\n",
       "      <th></th>\n",
       "      <th>id</th>\n",
       "      <th>price</th>\n",
       "      <th>bedrooms</th>\n",
       "      <th>bathrooms</th>\n",
       "      <th>sqft_living</th>\n",
       "      <th>sqft_lot</th>\n",
       "      <th>floors</th>\n",
       "      <th>waterfront</th>\n",
       "      <th>view</th>\n",
       "      <th>condition</th>\n",
       "      <th>grade</th>\n",
       "      <th>sqft_above</th>\n",
       "      <th>sqft_basement</th>\n",
       "      <th>yr_built</th>\n",
       "      <th>yr_renovated</th>\n",
       "      <th>zipcode</th>\n",
       "      <th>lat</th>\n",
       "      <th>long</th>\n",
       "      <th>sqft_living15</th>\n",
       "      <th>sqft_lot15</th>\n",
       "    </tr>\n",
       "  </thead>\n",
       "  <tbody>\n",
       "    <tr>\n",
       "      <th>count</th>\n",
       "      <td>3.000000e+02</td>\n",
       "      <td>3.000000e+02</td>\n",
       "      <td>300.000000</td>\n",
       "      <td>300.000000</td>\n",
       "      <td>300.000000</td>\n",
       "      <td>300.000000</td>\n",
       "      <td>300.000000</td>\n",
       "      <td>300.000000</td>\n",
       "      <td>300.000000</td>\n",
       "      <td>300.000000</td>\n",
       "      <td>300.000000</td>\n",
       "      <td>300.000000</td>\n",
       "      <td>300.000000</td>\n",
       "      <td>300.000000</td>\n",
       "      <td>300.000000</td>\n",
       "      <td>300.000000</td>\n",
       "      <td>300.000000</td>\n",
       "      <td>300.000000</td>\n",
       "      <td>300.000000</td>\n",
       "      <td>300.000000</td>\n",
       "    </tr>\n",
       "    <tr>\n",
       "      <th>mean</th>\n",
       "      <td>4.526086e+09</td>\n",
       "      <td>5.115117e+05</td>\n",
       "      <td>3.333333</td>\n",
       "      <td>2.013333</td>\n",
       "      <td>2055.496667</td>\n",
       "      <td>14193.926667</td>\n",
       "      <td>1.421667</td>\n",
       "      <td>0.013333</td>\n",
       "      <td>0.220000</td>\n",
       "      <td>3.456667</td>\n",
       "      <td>7.586667</td>\n",
       "      <td>1705.020000</td>\n",
       "      <td>350.476667</td>\n",
       "      <td>1966.690000</td>\n",
       "      <td>93.236667</td>\n",
       "      <td>98074.943333</td>\n",
       "      <td>47.544087</td>\n",
       "      <td>-122.224943</td>\n",
       "      <td>1952.770000</td>\n",
       "      <td>12555.270000</td>\n",
       "    </tr>\n",
       "    <tr>\n",
       "      <th>std</th>\n",
       "      <td>2.887233e+09</td>\n",
       "      <td>3.419579e+05</td>\n",
       "      <td>0.843362</td>\n",
       "      <td>0.729392</td>\n",
       "      <td>885.183995</td>\n",
       "      <td>27184.787381</td>\n",
       "      <td>0.502200</td>\n",
       "      <td>0.114889</td>\n",
       "      <td>0.770441</td>\n",
       "      <td>0.680440</td>\n",
       "      <td>1.089240</td>\n",
       "      <td>743.761357</td>\n",
       "      <td>481.768276</td>\n",
       "      <td>28.290311</td>\n",
       "      <td>422.119640</td>\n",
       "      <td>52.884617</td>\n",
       "      <td>0.143289</td>\n",
       "      <td>0.134342</td>\n",
       "      <td>662.435198</td>\n",
       "      <td>19990.842449</td>\n",
       "    </tr>\n",
       "    <tr>\n",
       "      <th>min</th>\n",
       "      <td>1.151031e+07</td>\n",
       "      <td>1.530000e+05</td>\n",
       "      <td>1.000000</td>\n",
       "      <td>0.750000</td>\n",
       "      <td>700.000000</td>\n",
       "      <td>1044.000000</td>\n",
       "      <td>1.000000</td>\n",
       "      <td>0.000000</td>\n",
       "      <td>0.000000</td>\n",
       "      <td>1.000000</td>\n",
       "      <td>5.000000</td>\n",
       "      <td>580.000000</td>\n",
       "      <td>0.000000</td>\n",
       "      <td>1900.000000</td>\n",
       "      <td>0.000000</td>\n",
       "      <td>98001.000000</td>\n",
       "      <td>47.197600</td>\n",
       "      <td>-122.451000</td>\n",
       "      <td>830.000000</td>\n",
       "      <td>1106.000000</td>\n",
       "    </tr>\n",
       "    <tr>\n",
       "      <th>25%</th>\n",
       "      <td>1.944665e+09</td>\n",
       "      <td>3.039250e+05</td>\n",
       "      <td>3.000000</td>\n",
       "      <td>1.500000</td>\n",
       "      <td>1367.500000</td>\n",
       "      <td>5230.000000</td>\n",
       "      <td>1.000000</td>\n",
       "      <td>0.000000</td>\n",
       "      <td>0.000000</td>\n",
       "      <td>3.000000</td>\n",
       "      <td>7.000000</td>\n",
       "      <td>1167.500000</td>\n",
       "      <td>0.000000</td>\n",
       "      <td>1949.000000</td>\n",
       "      <td>0.000000</td>\n",
       "      <td>98031.000000</td>\n",
       "      <td>47.427150</td>\n",
       "      <td>-122.339000</td>\n",
       "      <td>1450.000000</td>\n",
       "      <td>5075.000000</td>\n",
       "    </tr>\n",
       "    <tr>\n",
       "      <th>50%</th>\n",
       "      <td>3.795251e+09</td>\n",
       "      <td>4.300000e+05</td>\n",
       "      <td>3.000000</td>\n",
       "      <td>2.000000</td>\n",
       "      <td>1960.000000</td>\n",
       "      <td>8088.500000</td>\n",
       "      <td>1.000000</td>\n",
       "      <td>0.000000</td>\n",
       "      <td>0.000000</td>\n",
       "      <td>3.000000</td>\n",
       "      <td>7.000000</td>\n",
       "      <td>1545.000000</td>\n",
       "      <td>0.000000</td>\n",
       "      <td>1968.000000</td>\n",
       "      <td>0.000000</td>\n",
       "      <td>98059.000000</td>\n",
       "      <td>47.555950</td>\n",
       "      <td>-122.255000</td>\n",
       "      <td>1790.000000</td>\n",
       "      <td>7940.000000</td>\n",
       "    </tr>\n",
       "    <tr>\n",
       "      <th>75%</th>\n",
       "      <td>7.235338e+09</td>\n",
       "      <td>6.075000e+05</td>\n",
       "      <td>4.000000</td>\n",
       "      <td>2.500000</td>\n",
       "      <td>2480.000000</td>\n",
       "      <td>11216.250000</td>\n",
       "      <td>2.000000</td>\n",
       "      <td>0.000000</td>\n",
       "      <td>0.000000</td>\n",
       "      <td>4.000000</td>\n",
       "      <td>8.000000</td>\n",
       "      <td>2161.250000</td>\n",
       "      <td>650.000000</td>\n",
       "      <td>1988.250000</td>\n",
       "      <td>0.000000</td>\n",
       "      <td>98117.000000</td>\n",
       "      <td>47.676350</td>\n",
       "      <td>-122.148500</td>\n",
       "      <td>2332.500000</td>\n",
       "      <td>10391.750000</td>\n",
       "    </tr>\n",
       "    <tr>\n",
       "      <th>max</th>\n",
       "      <td>9.822700e+09</td>\n",
       "      <td>2.900000e+06</td>\n",
       "      <td>6.000000</td>\n",
       "      <td>4.750000</td>\n",
       "      <td>5420.000000</td>\n",
       "      <td>315374.000000</td>\n",
       "      <td>3.000000</td>\n",
       "      <td>1.000000</td>\n",
       "      <td>4.000000</td>\n",
       "      <td>5.000000</td>\n",
       "      <td>12.000000</td>\n",
       "      <td>5310.000000</td>\n",
       "      <td>2060.000000</td>\n",
       "      <td>2014.000000</td>\n",
       "      <td>2013.000000</td>\n",
       "      <td>98199.000000</td>\n",
       "      <td>47.773100</td>\n",
       "      <td>-121.711000</td>\n",
       "      <td>4760.000000</td>\n",
       "      <td>193842.000000</td>\n",
       "    </tr>\n",
       "  </tbody>\n",
       "</table>\n",
       "</div>"
      ],
      "text/plain": [
       "                 id         price    bedrooms   bathrooms  sqft_living  \\\n",
       "count  3.000000e+02  3.000000e+02  300.000000  300.000000   300.000000   \n",
       "mean   4.526086e+09  5.115117e+05    3.333333    2.013333  2055.496667   \n",
       "std    2.887233e+09  3.419579e+05    0.843362    0.729392   885.183995   \n",
       "min    1.151031e+07  1.530000e+05    1.000000    0.750000   700.000000   \n",
       "25%    1.944665e+09  3.039250e+05    3.000000    1.500000  1367.500000   \n",
       "50%    3.795251e+09  4.300000e+05    3.000000    2.000000  1960.000000   \n",
       "75%    7.235338e+09  6.075000e+05    4.000000    2.500000  2480.000000   \n",
       "max    9.822700e+09  2.900000e+06    6.000000    4.750000  5420.000000   \n",
       "\n",
       "            sqft_lot      floors  waterfront        view   condition  \\\n",
       "count     300.000000  300.000000  300.000000  300.000000  300.000000   \n",
       "mean    14193.926667    1.421667    0.013333    0.220000    3.456667   \n",
       "std     27184.787381    0.502200    0.114889    0.770441    0.680440   \n",
       "min      1044.000000    1.000000    0.000000    0.000000    1.000000   \n",
       "25%      5230.000000    1.000000    0.000000    0.000000    3.000000   \n",
       "50%      8088.500000    1.000000    0.000000    0.000000    3.000000   \n",
       "75%     11216.250000    2.000000    0.000000    0.000000    4.000000   \n",
       "max    315374.000000    3.000000    1.000000    4.000000    5.000000   \n",
       "\n",
       "            grade   sqft_above  sqft_basement     yr_built  yr_renovated  \\\n",
       "count  300.000000   300.000000     300.000000   300.000000    300.000000   \n",
       "mean     7.586667  1705.020000     350.476667  1966.690000     93.236667   \n",
       "std      1.089240   743.761357     481.768276    28.290311    422.119640   \n",
       "min      5.000000   580.000000       0.000000  1900.000000      0.000000   \n",
       "25%      7.000000  1167.500000       0.000000  1949.000000      0.000000   \n",
       "50%      7.000000  1545.000000       0.000000  1968.000000      0.000000   \n",
       "75%      8.000000  2161.250000     650.000000  1988.250000      0.000000   \n",
       "max     12.000000  5310.000000    2060.000000  2014.000000   2013.000000   \n",
       "\n",
       "            zipcode         lat        long  sqft_living15     sqft_lot15  \n",
       "count    300.000000  300.000000  300.000000     300.000000     300.000000  \n",
       "mean   98074.943333   47.544087 -122.224943    1952.770000   12555.270000  \n",
       "std       52.884617    0.143289    0.134342     662.435198   19990.842449  \n",
       "min    98001.000000   47.197600 -122.451000     830.000000    1106.000000  \n",
       "25%    98031.000000   47.427150 -122.339000    1450.000000    5075.000000  \n",
       "50%    98059.000000   47.555950 -122.255000    1790.000000    7940.000000  \n",
       "75%    98117.000000   47.676350 -122.148500    2332.500000   10391.750000  \n",
       "max    98199.000000   47.773100 -121.711000    4760.000000  193842.000000  "
      ]
     },
     "execution_count": 4,
     "metadata": {},
     "output_type": "execute_result"
    }
   ],
   "source": [
    "# -- load the data (csv format)\n",
    "df = pd.read_csv('kc_house_data/kc_house_data_reduced.csv', sep = ',')\n",
    "\n",
    "# -- remove the data samples with missing values (NaN)\n",
    "df = df.dropna() \n",
    "\n",
    "df.describe()"
   ]
  },
  {
   "cell_type": "markdown",
   "metadata": {},
   "source": [
    "Extract input and output data. We want to predict the price by using features other than id as input."
   ]
  },
  {
   "cell_type": "code",
   "execution_count": 6,
   "metadata": {
    "tags": []
   },
   "outputs": [
    {
     "name": "stdout",
     "output_type": "stream",
     "text": [
      "Number of samples: 300\n",
      "X shape:  (300, 18)\n",
      "Y shape:  (300,)\n"
     ]
    }
   ],
   "source": [
    "data = df.values # removes headers \n",
    "m = df.shape[0]\n",
    "\n",
    "print(\"Number of samples:\", m)\n",
    "\n",
    "Y = data[:m,2]\n",
    "X = data[:m,3:]\n",
    "\n",
    "# -- print shapes\n",
    "print(\"X shape: \", X.shape)\n",
    "print(\"Y shape: \", Y.shape)"
   ]
  },
  {
   "cell_type": "markdown",
   "metadata": {},
   "source": [
    "## Data Pre-Processing\n",
    "\n",
    "We split the data (with $m = 300$ samples) into 3 parts: \n",
    "* Training set: data samples used for optimizing the model parameters (we set $m_{train}=200$ samples);\n",
    "* Validation set: data samples used for choosing among different models (we set $m_{val}=50$ samples);\n",
    "* Test set: data samples for assessing generalization performance (the remaining ones, i.e., $m_{test}=50$ samples)."
   ]
  },
  {
   "cell_type": "code",
   "execution_count": 7,
   "metadata": {
    "tags": []
   },
   "outputs": [
    {
     "name": "stdout",
     "output_type": "stream",
     "text": [
      "Amount of data for training and deciding parameters: 200\n",
      "Amount of data for validation (choosing among different models): 50\n",
      "Amount of data for test: 50\n"
     ]
    }
   ],
   "source": [
    "# -- Split data into train (200 = 2/3 of samples), validation (50 = 1/6 of samples), and test (the rest)\n",
    "m_train = int(2/3 * m)\n",
    "m_val = (m - m_train) // 2\n",
    "m_test = m - m_train - m_val\n",
    "\n",
    "# -- print sizes\n",
    "print(\"Amount of data for training and deciding parameters:\", m_train)\n",
    "print(\"Amount of data for validation (choosing among different models):\", m_val)\n",
    "print(\"Amount of data for test:\", m_test)"
   ]
  },
  {
   "cell_type": "code",
   "execution_count": 8,
   "metadata": {},
   "outputs": [],
   "source": [
    "# -- let's use built-in function from scikit-learn to split the data\n",
    "from sklearn.model_selection import train_test_split\n",
    "\n",
    "# -- look at the documentation: we need to do train_test_split twice:\n",
    "# -- first, we split data into (train and val), and (test)\n",
    "# -- then, we split (train and val) into (train) and (val)\n",
    "\n",
    "# Define train_and_validation and test data.\n",
    "X_train_and_val, X_test, Y_train_and_val, Y_test = train_test_split(X, Y, test_size = m_test, random_state=ID_number)\n",
    "# Define train and validation.\n",
    "X_train, X_val, Y_train, Y_val = train_test_split(X_train_and_val, Y_train_and_val, test_size = m_val, random_state=ID_number)"
   ]
  },
  {
   "cell_type": "code",
   "execution_count": 9,
   "metadata": {},
   "outputs": [
    {
     "name": "stdout",
     "output_type": "stream",
     "text": [
      "X_train size: (200, 18), Y_train size: (200,)\n",
      "X_val size: (50, 18), Y_val size: (50,)\n",
      "X_test size: (50, 18), Y_test size: (50,)\n"
     ]
    }
   ],
   "source": [
    "# -- let's check if the sizes match\n",
    "print(f'X_train size: {X_train.shape}, Y_train size: {Y_train.shape}')\n",
    "print(f'X_val size: {X_val.shape}, Y_val size: {Y_val.shape}')\n",
    "print(f'X_test size: {X_test.shape}, Y_test size: {Y_test.shape}')"
   ]
  },
  {
   "cell_type": "markdown",
   "metadata": {},
   "source": [
    "Let's standardize the data."
   ]
  },
  {
   "cell_type": "code",
   "execution_count": 21,
   "metadata": {
    "tags": []
   },
   "outputs": [],
   "source": [
    "# -- data pre-processing\n",
    "from sklearn import preprocessing\n",
    "\n",
    "scaler = preprocessing.StandardScaler().fit(X_train)\n",
    "X_train_scaled = scaler.transform(X_train)\n",
    "X_train_and_val_scaled = scaler.transform(X_train_and_val) # We can actually skip this.\n",
    "X_val_scaled = scaler.transform(X_val)\n",
    "X_test_scaled = scaler.transform(X_test)"
   ]
  },
  {
   "cell_type": "code",
   "execution_count": 15,
   "metadata": {},
   "outputs": [
    {
     "name": "stdout",
     "output_type": "stream",
     "text": [
      "X_train mean: -3.8556812064093215e-15, X_train std: 1.0000000000000002\n",
      "X_val mean: 0.02356679443346263, X_val std: 1.248387078070044\n",
      "X_test mean: 0.0115402981934553, X_test std: 0.9406568109011559\n"
     ]
    }
   ],
   "source": [
    "# -- let's check if the scaler did his job\n",
    "print(f'X_train mean: {np.mean(X_train_scaled)}, X_train std: {np.std(X_train_scaled)}')\n",
    "print(f'X_val mean: {np.mean(X_val_scaled)}, X_val std: {np.std(X_val_scaled)}')\n",
    "print(f'X_test mean: {np.mean(X_test_scaled)}, X_test std: {np.std(X_test_scaled)}')"
   ]
  },
  {
   "cell_type": "markdown",
   "metadata": {},
   "source": [
    "## Least-Squares Solution\n",
    "\n",
    "Now, let's compute the <u>Least-Squares</u> estimate using **LinearRegression** class in Scikit-learn, and then let's print the corresponding average loss (MSE loss) in training and validation data.\n",
    "\n",
    "Since the average loss could be quite high, we also may want to compute the coefficient of determination $R^2$ and look at $1 - R^{2}$ to have an idea of what the average loss amounts to. In order to compute the coefficient of determination one can use the usual *score($\\cdot$)* function."
   ]
  },
  {
   "cell_type": "code",
   "execution_count": 16,
   "metadata": {
    "tags": []
   },
   "outputs": [
    {
     "name": "stdout",
     "output_type": "stream",
     "text": [
      "Linear Regressor parameters:\n",
      " [ 5.23560131e+05  1.33533755e+04  4.69305414e+03  7.17963477e+18\n",
      "  5.79458828e+03 -1.58870327e+04  5.87451532e+04  8.13733049e+04\n",
      " -6.30489557e+03  1.24596112e+05 -6.27840652e+18 -3.81054409e+18\n",
      " -6.07285191e+04  7.18001426e+04 -2.27325286e+04  9.19938766e+04\n",
      " -2.29858854e+03  7.54812882e+04 -1.69821563e+04]\n",
      "---\n",
      "Average loss in training data: 38288005023.0815 || 3.829e+10\n",
      "Average loss in validation data: 43890057921.28656 || 4.389e+10\n",
      "---\n",
      "1 - R² on training data:   0.2618397649777944\n",
      "1 - R² on validation data: 0.6647212277648963\n"
     ]
    }
   ],
   "source": [
    "# -- Least-Squares\n",
    "from sklearn import linear_model\n",
    "\n",
    "# -- LR the linear regression model\n",
    "LR = linear_model.LinearRegression()\n",
    "\n",
    "# -- fit the model on training data\n",
    "LR.fit(X_train_scaled, Y_train)\n",
    "\n",
    "# -- obtain predictions on training data\n",
    "Y_train_predicted = LR.predict(X_train_scaled)\n",
    "\n",
    "# -- obtain predictions on validation data\n",
    "Y_val_predicted = LR.predict(X_val_scaled)\n",
    "\n",
    "# -- coefficients from the model\n",
    "w_LR = np.hstack((LR.intercept_, LR.coef_))\n",
    "print('Linear Regressor parameters:\\n', w_LR)\n",
    "\n",
    "# -- average error in training data\n",
    "loss_train = np.linalg.norm(Y_train - Y_train_predicted)**2 / m_train\n",
    "\n",
    "# -- average error in val data\n",
    "loss_val = np.linalg.norm(Y_val - Y_val_predicted)**2 / m_val\n",
    "\n",
    "print('---')\n",
    "# -- print average loss in training data and in test data\n",
    "print(f'Average loss in training data: {loss_train} || {loss_train:.3e}')\n",
    "print(f'Average loss in validation data: {loss_val} || {loss_val:.3e}')\n",
    "print('---')\n",
    "\n",
    "# -- print 1 - coefficient of determination in training data and in validation data\n",
    "print(f'1 - R² on training data:   {(1 - LR.score(X_train_scaled, Y_train))}')\n",
    "print(f'1 - R² on validation data: {1 - LR.score(X_val_scaled, Y_val)}')"
   ]
  },
  {
   "cell_type": "markdown",
   "metadata": {},
   "source": [
    "-- -\n",
    "# Regularization\n",
    "\n",
    "## L1 Regularization and Lasso\n",
    "\n",
    "We use the routine *lasso_path* from *sklearn.linear_regression* to compute the \"lasso path\", which corresponds to finding the models with lasso for different values of the regularization parameter $\\lambda$. You should first fix a grid of possible values for lambda (the variable \"lasso_lams\"). For each entry of the vector \"lasso_lams\" we compute the corresponding model (i.e., the $i$-th column of the vector  \"lasso_coefs\" should contain the coefficients of the linear model computed using lasso_lams[$i$] as regularization parameter). In general, it is recommended to choose the grid appropriately.\n",
    "\n",
    "<u>Note</u>: the parameter $\\lambda$ is called $\\alpha$ in the Lasso model from sklearn\n"
   ]
  },
  {
   "cell_type": "code",
   "execution_count": 20,
   "metadata": {
    "tags": []
   },
   "outputs": [],
   "source": [
    "from sklearn.linear_model import lasso_path\n",
    "\n",
    "# select a grid of possible regularization parameters \n",
    "# (be careful how this is chosen, you may have to refine the choice after having seen the results)\n",
    "\n",
    "lasso_lams = np.logspace(0, 4, num = 100)\n",
    "\n",
    "# Use the function lasso_path to compute the \"lasso path\", passing in input the lambda values\n",
    "# you have specified in lasso_lams\n",
    "lasso_lams, lasso_coefs, _ = lasso_path(X_train_scaled, Y_train, alphas = lasso_lams) "
   ]
  },
  {
   "cell_type": "markdown",
   "metadata": {},
   "source": [
    "We evaluate the sparsity (i.e., number of non-zero coefficients) in the estimated coefficients as a function of the regularization parameter $\\lambda$: to this purpose, we compute the number of non-zero entries in the estimated coefficient vector."
   ]
  },
  {
   "cell_type": "code",
   "execution_count": 13,
   "metadata": {
    "tags": []
   },
   "outputs": [
    {
     "data": {
      "image/png": "[encoded data removed]",
      "text/plain": [
       "<Figure size 640x480 with 1 Axes>"
      ]
     },
     "metadata": {},
     "output_type": "display_data"
    }
   ],
   "source": [
    "l0_coef_norm = np.zeros(len(lasso_lams),)\n",
    "\n",
    "for i in range(len(lasso_lams)):\n",
    "    l0_coef_norm[i] = sum(lasso_coefs[:,i]!=0)\n",
    "\n",
    "\n",
    "plt.plot(lasso_lams, l0_coef_norm, marker='o', markersize=5)\n",
    "plt.xlabel('Lambda')\n",
    "plt.ylabel('Number of non-zero coefficients')\n",
    "plt.title('Sparsity Degree')\n",
    "plt.xscale('log')\n",
    "plt.show()"
   ]
  },
  {
   "cell_type": "markdown",
   "metadata": {},
   "source": [
    "NUmber of non zero decreases => the model becomes more and more simple, i.e. some w_i goes to zero so the corresponding feature isn't\n",
    "consider anymore.\n",
    "If lambda is so high, it will consider any features."
   ]
  },
  {
   "cell_type": "markdown",
   "metadata": {},
   "source": [
    "### Use $k$-fold Cross-Validation to fix the regularization parameter\n",
    "\n",
    "Now, we need to decide which value of $\\lambda$ to use. In order to do this, we are going to use $k$-fold Cross-Validation.\n",
    "\n",
    "We are going to use the scikit-learn built-in routine *Lasso* (from the *linear_model* package) to compute the lasso coefficients.\n",
    "\n",
    "We use *KFold* from *sklearn.cross_validation* to split the data (i.e. X_train and Y_train) into the desired number of folds.\n",
    "\n",
    "Then we pick $\\lambda_{opt}$ to be the chosen value for the regularization parameter."
   ]
  },
  {
   "cell_type": "markdown",
   "metadata": {},
   "source": [
    "When data is not 'plentiful', we cannot afford to use fresh validation set to select efficiently the best hypothesis.\n",
    "\n",
    "#### $k$-fold Cross-Validation\n",
    "\n",
    "Given $m$, we partition the training set into $k$ folds of size $m/k$. For each fold:\n",
    "\n",
    "* 1 - perform the training on the union of the other $(k-1)$ folds;\n",
    "* 2 - treat the left-out fold as a *small validation set*, and estimate the error of the learned hypothesis.\n",
    "\n",
    "$\\longrightarrow$ The final estimate of the true error will be the average of the estimated errors through all the folds, as described above.\n",
    "\n",
    "When $k = m$, we refer to the above procedure as *leave-one out* validation.\n",
    "\n",
    "Often cross validation is used for model selection.\n",
    "\n",
    "At the end, the final hypothesis is obtained from training on the entire training set."
   ]
  },
  {
   "cell_type": "code",
   "execution_count": 26,
   "metadata": {
    "tags": []
   },
   "outputs": [
    {
     "ename": "SyntaxError",
     "evalue": "invalid syntax (1732414428.py, line 35)",
     "output_type": "error",
     "traceback": [
      "\u001b[0;36m  Cell \u001b[0;32mIn[26], line 35\u001b[0;36m\u001b[0m\n\u001b[0;31m    lasso_lam_opt = # -- TO COMPLETE\u001b[0m\n\u001b[0m                    ^\u001b[0m\n\u001b[0;31mSyntaxError\u001b[0m\u001b[0;31m:\u001b[0m invalid syntax\n"
     ]
    }
   ],
   "source": [
    "from sklearn.model_selection import KFold\n",
    "\n",
    "num_folds = 5\n",
    "\n",
    "kf = KFold(n_splits = num_folds)\n",
    "\n",
    "loss_lasso_kfold = np.zeros(len(lasso_lams),)\n",
    "err_lasso_kfold = np.zeros(len(lasso_lams),)\n",
    "\n",
    "\n",
    "for i, lam in enumerate(lasso_lams):\n",
    "    \n",
    "    # -- 1) define a lasso model using Lasso() for the i-th value of lam_values\n",
    "    lasso_kfold = linear_model.Lasso(alpha=lam, tol=0.05)\n",
    "    \n",
    "    for train_index, validation_index in kf.split(X_train_scaled):\n",
    "        X_train_kfold, X_val_kfold = X_train_scaled[train_index], X_train_scaled[validation_index]\n",
    "        Y_train_kfold, Y_val_kfold =  Y_train_scaled[train_index], Y_train_scaled[validation_index]\n",
    "    \n",
    "        # -- learn the model using the training data from the k-fold\n",
    "        lasso_kfold.fit(X_train_kfold, Y_train_kfold)\n",
    "        \n",
    "        # -- compute the loss using the validation data from the k-fold\n",
    "        Y_pred = lasso_kfold.predict(X_val_kfold)\n",
    "        \n",
    "        # -- incremental mean\n",
    "        loss_lasso_kfold[i] += np.linalg.norm(Y_val_kfold - Y_pred) ** 2 / len(Y_val_kfold)\n",
    "        err_lasso_kfold[i] += (1 - lasso_kfold.score(X_val_kfold, Y_val_kfold))\n",
    "\n",
    "# -- compute the mean => estimate of validation losses and errors for each lam\n",
    "loss_lasso_kfold /= num_folds\n",
    "err_lasso_kfold /= num_folds\n",
    "\n",
    "# -- choose the regularization parameter that minimizes the loss\n",
    "lasso_lam_opt = \n",
    "\n",
    "print('Best value of the regularization parameter:', lasso_lam_opt)\n",
    "print('Min loss: ', np.min(loss_lasso_kfold))\n",
    "# -- logspace(1, 4) = 0.45749\n",
    "# -- logspace(1, 6) = 0.4525\n",
    "print('Min (1 - R²) ', np.min(err_lasso_kfold))"
   ]
  },
  {
   "cell_type": "markdown",
   "metadata": {},
   "source": [
    "Let's plot the Cross-Validation estimates of the loss as a function of the regularization parameter."
   ]
  },
  {
   "cell_type": "code",
   "execution_count": 16,
   "metadata": {
    "tags": []
   },
   "outputs": [
    {
     "data": {
      "image/png": "[encoded data removed]",
      "text/plain": [
       "<Figure size 640x480 with 1 Axes>"
      ]
     },
     "metadata": {},
     "output_type": "display_data"
    },
    {
     "name": "stdout",
     "output_type": "stream",
     "text": [
      "Total number of coefficients: 18\n",
      "Number of non-zero coefficients: 10\n",
      "Best value of regularization parameter: 15199.11082952933\n"
     ]
    }
   ],
   "source": [
    "# -- fit lasso model using the optimal value of the reg. parameter lasso_lam_opt found with k-fold cross validation\n",
    "lasso_kfold = linear_model.Lasso(alpha=lasso_lam_opt)\n",
    "lasso_kfold.fit(X_train_kfold, Y_train_kfold)\n",
    "\n",
    "plt.xscale('log')\n",
    "plt.plot(lasso_lams, loss_lasso_kfold, color='b', marker='x')\n",
    "plt.scatter(lasso_lams[np.argmin(loss_lasso_kfold)], loss_lasso_kfold[np.argmin(loss_lasso_kfold)], color='b', marker='o', linewidths=5)\n",
    "plt.xlabel('Lambda')\n",
    "plt.ylabel('Validation Error')\n",
    "plt.title('Lasso: choice of regularization parameter')\n",
    "plt.show()\n",
    "print('Total number of coefficients:', (len(lasso_kfold.coef_)))\n",
    "print('Number of non-zero coefficients:', (sum(lasso_kfold.coef_ != 0)))\n",
    "print('Best value of regularization parameter:', (lasso_lam_opt))"
   ]
  },
  {
   "cell_type": "markdown",
   "metadata": {},
   "source": [
    "The value of the error on the validation set is constant at the biginning. At some point we find a better model, that is, the validation error is lower \n",
    "and the value of lambda is high, so less features are considered! Note that if lambda is extreamly high then all the features are ignored so \n",
    "the validation error is grows exponentially."
   ]
  },
  {
   "cell_type": "markdown",
   "metadata": {},
   "source": [
    "## Now let's estimate the lasso coefficients using all the training data and the optimal regularization parameter (chosen at previous step)\n",
    "\n",
    "Note that we use all the training data to learn the final model for the optimal regularization parameter (once we have chosen the parameter, there is no reason to use less data than what we have). We leave out only the test data so that we can later use it to estimate the generalization error."
   ]
  },
  {
   "cell_type": "code",
   "execution_count": 30,
   "metadata": {
    "tags": []
   },
   "outputs": [
    {
     "name": "stdout",
     "output_type": "stream",
     "text": [
      "Average loss in training data: 40154413798.3209\n",
      "Average loss in validation data: 32289491018.77974\n",
      "1 -  R² on training data:   0.27460355444048834\n",
      "1 -  R² on validation data: 0.48902897673090384\n"
     ]
    }
   ],
   "source": [
    "# -- estimate Lasso coefficients with all data (X_train_scaled) using the the optimal value lasso_lam_opt of the regularization parameter\n",
    "\n",
    "# -- define the model\n",
    "lasso_reg = linear_model.Lasso(alpha=lasso_lam_opt)\n",
    "\n",
    "# -- fit using the training data\n",
    "lasso_reg.fit(X_train_scaled, Y_train)\n",
    "\n",
    "# -- average loss on training data\n",
    "loss_train_lasso = np.linalg.norm(Y_train - lasso_reg.predict(X_train_scaled))**2 / m_train\n",
    "\n",
    "# -- average loss on validation data\n",
    "loss_val_lasso = np.linalg.norm(Y_val - lasso_reg.predict(X_val_scaled))**2 / m_val\n",
    "\n",
    "# -- print average loss in training data and in validation data\n",
    "print('Average loss in training data:', loss_train_lasso)\n",
    "print('Average loss in validation data:', loss_val_lasso)\n",
    "\n",
    "# -- now print 1 - the coefficient of determination on training and on validation data to get an idea to what the average\n",
    "# -- loss corresponds to\n",
    "print('1 -  R² on training data:  ', 1 - lasso_reg.score(X_train_scaled, Y_train))\n",
    "print('1 -  R² on validation data:', 1 - lasso_reg.score(X_val_scaled, Y_val))"
   ]
  },
  {
   "cell_type": "markdown",
   "metadata": {},
   "source": [
    "## We now compare the coefficients from the LR model and the Lasso model\n",
    "\n",
    "Note that we do not plot the bias (that is not a coefficient of the features)"
   ]
  },
  {
   "cell_type": "code",
   "execution_count": 18,
   "metadata": {},
   "outputs": [],
   "source": [
    "# -- simil coefficient in sign - but some of them are zeros"
   ]
  },
  {
   "cell_type": "code",
   "execution_count": 19,
   "metadata": {
    "tags": []
   },
   "outputs": [
    {
     "data": {
      "image/png": "[encoded data removed]",
      "text/plain": [
       "<Figure size 640x480 with 1 Axes>"
      ]
     },
     "metadata": {},
     "output_type": "display_data"
    }
   ],
   "source": [
    "# -- compare LR and lasso coefficients\n",
    "\n",
    "# -- define the x locations for the groups\n",
    "ind = np.arange(1, len(LR.coef_) + 1)\n",
    "\n",
    "# -- define the width of the bars\n",
    "width = 0.35 \n",
    "\n",
    "fig, ax = plt.subplots()\n",
    "rects1 = ax.bar(ind, LR.coef_, width, color='r')\n",
    "rects2 = ax.bar(ind + width, lasso_reg.coef_, width, color='y')\n",
    "ax.legend((rects1[0], rects2[0]), ('LR', 'Lasso'))\n",
    "plt.xlabel('Coefficient Idx')\n",
    "plt.ylabel('Coefficient Value')\n",
    "plt.title('LR and Lasso Coefficient')\n",
    "plt.show()"
   ]
  },
  {
   "cell_type": "markdown",
   "metadata": {},
   "source": [
    "As we can see the linear regression consider all the features (all the weights are != 0). In the other hand, the lasso have some value = 0, so some\n",
    "features are not considered."
   ]
  },
  {
   "cell_type": "markdown",
   "metadata": {},
   "source": [
    "## Ridge Regression\n",
    "\n",
    "### Use Ridge regression with cross-validation\n",
    "\n",
    "We perform the L2 regularization for different values of the regularization parameter $\\alpha$ (called $\\lambda$ in class), and use the Scikit-learn function to perform cross-validation (CV).\n",
    "\n",
    "In Ridge regression for scikit learn, the objective function is:\n",
    "\n",
    "$$\n",
    "    ||y - Xw||^2_2 + \\alpha * ||w||^2_2\n",
    "$$\n",
    "\n",
    "Note: the CV in Scikit-learn is by default a *stratified* CV, that means that data is split into train-validation while maintaining the proportion of different classes in each fold.\n",
    "\n",
    "In the code below:\n",
    "- we use RidgeCV() to select the best value of $\\alpha$ with a 5-fold CV with L2 penalty;\n",
    "- we use Ridge() to learn the best model for the best $\\alpha$ for ridge regression using the entire training set\n",
    "\n",
    "Note that RidgeCV() picks some default values of $\\alpha$ to try, but we decide to pass the same values used for the Lasso.\n",
    "\n",
    "\n"
   ]
  },
  {
   "cell_type": "code",
   "execution_count": 27,
   "metadata": {
    "tags": []
   },
   "outputs": [
    {
     "name": "stdout",
     "output_type": "stream",
     "text": [
      "Best value of parameter alpha according to 5-fold Cross-Validation: 100.0\n",
      "Average loss in training data: 42788209542.10925\n",
      "Average loss in validation data: 28076529012.22377\n",
      "1 - R² on training data:   0.29261526484789435\n",
      "1 - R² on validation data: 0.4252230623585159\n"
     ]
    }
   ],
   "source": [
    "# -- let's define the values of alpha to use\n",
    "ridge_alphas = np.logspace(0, 6, num = 100)\n",
    "\n",
    "# -- RIDGE REGRESSION HAS THE BUILT IN FUNCTION TO PERFORM CV (Cross Validation)\n",
    "# -- define the model using RidgeCV passing the vector of alpha values and the cv value (= number of folds)\n",
    "ridge = linear_model.RidgeCV(alphas = ridge_alphas, cv=5)\n",
    "\n",
    "# -- fit the model on training data\n",
    "ridge.fit(X_train_scaled, Y_train)\n",
    "\n",
    "# -- the attribute 'alpha_' contains the best value of alpha as identified by cross-validation;\n",
    "# -- let's print it\n",
    "print('Best value of parameter alpha according to 5-fold Cross-Validation:', ridge.alpha_)\n",
    "\n",
    "# -- define the model using the best alpha; note that various solvers are availalbe, choose\n",
    "# -- an appropriate one (e.g., Singular Value Decomposition)\n",
    "ridge_final = linear_model.Ridge(alpha = ridge.alpha_ , solver='svd')\n",
    "\n",
    "# -- fit the model using the best alpha on the entire training set\n",
    "ridge_final.fit(X_train_scaled, Y_train)\n",
    "\n",
    "# -- average loss on training data\n",
    "loss_train_ridge = np.linalg.norm(Y_train - ridge_final.predict(X_train_scaled))**2 / m_train\n",
    "# -- average loss on validation data\n",
    "loss_val_ridge = np.linalg.norm(Y_val - ridge_final.predict(X_val_scaled))**2 / m_val\n",
    "\n",
    "# -- print average loss in training data and in test data\n",
    "print('Average loss in training data:', loss_train_ridge)\n",
    "print('Average loss in validation data:', loss_val_ridge)\n",
    "\n",
    "# -- now print 1 - the coefficient of determination on training and on test data to get an idea to what the average\n",
    "# -- loss corresponds to\n",
    "print('1 - R² on training data:  ', 1 - ridge_final.score(X_train_scaled, Y_train))\n",
    "print('1 - R² on validation data:', 1 - ridge_final.score(X_val_scaled, Y_val))"
   ]
  },
  {
   "cell_type": "markdown",
   "metadata": {},
   "source": [
    "## We now compare the coefficient from the LR model, the lasso model, and the ridge model"
   ]
  },
  {
   "cell_type": "code",
   "execution_count": 21,
   "metadata": {
    "tags": []
   },
   "outputs": [
    {
     "data": {
      "image/png": "[encoded data removed]",
      "text/plain": [
       "<Figure size 640x480 with 1 Axes>"
      ]
     },
     "metadata": {},
     "output_type": "display_data"
    }
   ],
   "source": [
    "# -- compare LR and lasso coefficients\n",
    "\n",
    "# -- define the x locations for the groups\n",
    "ind = np.arange(1, len(LR.coef_) + 1)\n",
    "# -- define the width of the bars\n",
    "width = 0.25\n",
    "\n",
    "fig, ax = plt.subplots()\n",
    "rects1 = ax.bar(ind, LR.coef_, width, color='r')\n",
    "rects2 = ax.bar(ind + width, lasso_reg.coef_, width, color='y')\n",
    "rects3 = ax.bar(ind + 2*width, ridge_final.coef_, width, color='b')\n",
    "ax.legend((rects1[0], rects2[0], rects3[0]), ('LR', 'Lasso', 'Ridge'))\n",
    "plt.xlabel('Coefficient Idx')\n",
    "plt.ylabel('Coefficient Value')\n",
    "plt.title('LR, Lasso, and Ridge Coefficient')\n",
    "plt.show()"
   ]
  },
  {
   "cell_type": "markdown",
   "metadata": {},
   "source": [
    "## Now use all data but the test one to learn the best model (using the chosen model class and parameter, if any), and estimate its generalization error on the test data"
   ]
  },
  {
   "cell_type": "code",
   "execution_count": 22,
   "metadata": {
    "tags": []
   },
   "outputs": [],
   "source": [
    "# -- train all models on both the training and validation sets!"
   ]
  },
  {
   "cell_type": "code",
   "execution_count": 30,
   "metadata": {
    "tags": []
   },
   "outputs": [
    {
     "name": "stdout",
     "output_type": "stream",
     "text": [
      "1 -  R² of LR on test data:    0.32447455052788776\n"
     ]
    },
    {
     "ename": "NameError",
     "evalue": "name 'lasso_lam_opt' is not defined",
     "output_type": "error",
     "traceback": [
      "\u001b[0;31m---------------------------------------------------------------------------\u001b[0m",
      "\u001b[0;31mNameError\u001b[0m                                 Traceback (most recent call last)",
      "Cell \u001b[0;32mIn[30], line 11\u001b[0m\n\u001b[1;32m      7\u001b[0m \u001b[38;5;28mprint\u001b[39m(\u001b[38;5;124m\"\u001b[39m\u001b[38;5;124m1 -  R² of LR on test data:   \u001b[39m\u001b[38;5;124m\"\u001b[39m, \u001b[38;5;241m1\u001b[39m \u001b[38;5;241m-\u001b[39m LR\u001b[38;5;241m.\u001b[39mscore(X_test_scaled, Y_test))\n\u001b[1;32m      9\u001b[0m \u001b[38;5;66;03m# -- compute best lasso_reg model on training and validation data\u001b[39;00m\n\u001b[0;32m---> 11\u001b[0m lasso_reg \u001b[38;5;241m=\u001b[39m linear_model\u001b[38;5;241m.\u001b[39mLasso(alpha\u001b[38;5;241m=\u001b[39m\u001b[43mlasso_lam_opt\u001b[49m)\n\u001b[1;32m     12\u001b[0m lasso_reg\u001b[38;5;241m.\u001b[39mfit(X_train_and_val_scaled, Y_train_and_val)\n\u001b[1;32m     14\u001b[0m \u001b[38;5;66;03m# -- compute and print 1 - coefficient of determination for the best lasso model\u001b[39;00m\n",
      "\u001b[0;31mNameError\u001b[0m: name 'lasso_lam_opt' is not defined"
     ]
    }
   ],
   "source": [
    "# -- compute best LR model on training and validation data\n",
    "\n",
    "LR = linear_model.LinearRegression()\n",
    "LR.fit(X_train_and_val_scaled, Y_train_and_val)\n",
    "\n",
    "# -- compute and print 1 - coefficient of determination for the best LR model\n",
    "print(\"1 -  R² of LR on test data:   \", 1 - LR.score(X_test_scaled, Y_test))\n",
    "\n",
    "# -- compute best lasso_reg model on training and validation data\n",
    "\n",
    "lasso_reg = linear_model.Lasso(alpha=lasso_lam_opt)\n",
    "lasso_reg.fit(X_train_and_val_scaled, Y_train_and_val)\n",
    "\n",
    "# -- compute and print 1 - coefficient of determination for the best lasso model\n",
    "print(\"1 -  R² of lasso on test data:\", 1 - lasso_reg.score(X_test_scaled, Y_test))\n",
    "\n",
    "# -- compute best ridge model on training and validation data\n",
    "ridge_final = linear_model.Ridge(alpha = ridge.alpha_ , solver='svd')\n",
    "ridge_final.fit(X_train_and_val_scaled, Y_train_and_val)\n",
    "\n",
    "# -- compute and print 1 - coefficient of determination for the best ridge model\n",
    "print(\"1 -  R² of ridge on test data:\", 1 - ridge_final.score(X_test_scaled, Y_test))"
   ]
  },
  {
   "cell_type": "code",
   "execution_count": 24,
   "metadata": {
    "tags": []
   },
   "outputs": [],
   "source": [
    "# -- better results -> we have used more data for the training"
   ]
  },
  {
   "cell_type": "markdown",
   "metadata": {},
   "source": [
    "## Now we use other data (from the future!) to see which model really works well"
   ]
  },
  {
   "cell_type": "code",
   "execution_count": 26,
   "metadata": {
    "tags": []
   },
   "outputs": [
    {
     "name": "stdout",
     "output_type": "stream",
     "text": [
      "Number of samples 2864\n",
      "1 - R² of LR on future data:    0.3316928869710183\n",
      "1 - R² of lasso on future data: 0.3391230955798671\n",
      "1 - R² of ridge on future data: 0.33958475595237125\n"
     ]
    }
   ],
   "source": [
    "# -- load the new data\n",
    "df = pd.read_csv('kc_house_data_future.csv', sep = ',')\n",
    "\n",
    "# -- remove the data samples with missing values (NaN)\n",
    "df = df.dropna() \n",
    "\n",
    "df.describe()\n",
    "\n",
    "data = df.values\n",
    "\n",
    "m_future = data.shape[0]\n",
    "print('Number of samples', m_future)\n",
    "\n",
    "X_future = data[:m_future,3:]\n",
    "Y_future = data[:m_future,2]\n",
    "\n",
    "# -- let's scale the new data with the scaler used at the beginning!\n",
    "X_future_scaled = scaler.transform(X_future)\n",
    "\n",
    "# -- compute and print 1 - coefficient of determination for the best LR model\n",
    "print('1 - R² of LR on future data:   ', 1 - LR.score(X_future_scaled, Y_future))\n",
    "\n",
    "# -- compute and print 1 - coefficient of determination for the best lasso model\n",
    "print('1 - R² of lasso on future data:', 1 - lasso_reg.score(X_future_scaled, Y_future))\n",
    "\n",
    "# -- compute and print 1 - coefficient of determination for the best ridge model\n",
    "print('1 - R² of ridge on future data:', 1 - ridge_final.score(X_future_scaled, Y_future))"
   ]
  },
  {
   "cell_type": "markdown",
   "metadata": {
    "tags": []
   },
   "source": [
    "**We have obtained almost equivalent performances. Why?**"
   ]
  }
 ],
 "metadata": {
  "kernelspec": {
   "display_name": "Python 3 (ipykernel)",
   "language": "python",
   "name": "python3"
  },
  "language_info": {
   "codemirror_mode": {
    "name": "ipython",
    "version": 3
   },
   "file_extension": ".py",
   "mimetype": "text/x-python",
   "name": "python",
   "nbconvert_exporter": "python",
   "pygments_lexer": "ipython3",
   "version": "3.12.7"
  }
 },
 "nbformat": 4,
 "nbformat_minor": 4
}
